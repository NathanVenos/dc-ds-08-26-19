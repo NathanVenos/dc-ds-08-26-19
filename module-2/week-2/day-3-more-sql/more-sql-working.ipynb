{
 "cells": [
  {
   "cell_type": "markdown",
   "metadata": {
    "slideshow": {
     "slide_type": "slide"
    }
   },
   "source": [
    "<h1 style='text-align: center'>SQL Queries</h1>"
   ]
  },
  {
   "cell_type": "markdown",
   "metadata": {
    "slideshow": {
     "slide_type": "slide"
    }
   },
   "source": [
    "## Getting Data From A SQL Database"
   ]
  },
  {
   "cell_type": "markdown",
   "metadata": {
    "slideshow": {
     "slide_type": "slide"
    }
   },
   "source": [
    "### The Structure of a SQL Query"
   ]
  },
  {
   "cell_type": "markdown",
   "metadata": {
    "slideshow": {
     "slide_type": "slide"
    }
   },
   "source": [
    "<img src='images/sql_statement.jpg'/>"
   ]
  },
  {
   "cell_type": "markdown",
   "metadata": {
    "slideshow": {
     "slide_type": "slide"
    }
   },
   "source": [
    "#### GROUP BY"
   ]
  },
  {
   "cell_type": "markdown",
   "metadata": {
    "slideshow": {
     "slide_type": "slide"
    }
   },
   "source": [
    "- Group columns by similar values\n",
    "- SELECT COUNT(id), city from students GROUP BY city"
   ]
  },
  {
   "cell_type": "markdown",
   "metadata": {
    "slideshow": {
     "slide_type": "slide"
    }
   },
   "source": [
    "#### HAVING"
   ]
  },
  {
   "cell_type": "markdown",
   "metadata": {
    "slideshow": {
     "slide_type": "slide"
    }
   },
   "source": [
    "- Use to apply filter AFTER a `GROUP BY` based on aggregate criteria \n",
    "- `WHERE` is applied for conditions prior to the `GROUP BY`, `HAVING` is applied afterwards\n",
    "\n",
    "For example, if we had a table of student names and the courses they were taking, we could ask a question such as which classes have 3 or more students with the name Matt?\n",
    "\n",
    "Such a query would look something like this:\n",
    "\n",
    "```SQL\n",
    "SELECT\n",
    "  class,\n",
    "  COUNT(student_name) AS number_of_matts\n",
    "FROM student_courses\n",
    "WHERE student_name = \"Matt\"\n",
    "GROUP BY 1\n",
    "HAVING COUNT(student_name) >= 3;\n",
    "```"
   ]
  },
  {
   "cell_type": "code",
   "execution_count": 1,
   "metadata": {
    "slideshow": {
     "slide_type": "slide"
    }
   },
   "outputs": [],
   "source": [
    "import sqlite3\n",
    "\n",
    "conn = sqlite3.connect('tutorial.db')\n",
    "c = conn.cursor()"
   ]
  },
  {
   "cell_type": "code",
   "execution_count": 2,
   "metadata": {
    "scrolled": true,
    "slideshow": {
     "slide_type": "slide"
    }
   },
   "outputs": [],
   "source": [
    "columns = [x[0] for x in c.execute('select * from students').description]"
   ]
  },
  {
   "cell_type": "code",
   "execution_count": 3,
   "metadata": {
    "scrolled": true,
    "slideshow": {
     "slide_type": "slide"
    }
   },
   "outputs": [
    {
     "data": {
      "text/plain": [
       "['name',\n",
       " 'birthdate',\n",
       " 'siblings',\n",
       " 'birth_place',\n",
       " 'years_in_nyc',\n",
       " 'favorite_food']"
      ]
     },
     "execution_count": 3,
     "metadata": {},
     "output_type": "execute_result"
    }
   ],
   "source": [
    "columns"
   ]
  },
  {
   "cell_type": "markdown",
   "metadata": {
    "slideshow": {
     "slide_type": "slide"
    }
   },
   "source": [
    "### Questions\n",
    "1. What are the names of all of the students?\n",
    "2. Which student has the most siblings?\n",
    "3. How many students are only children?\n",
    "4. Which 3 students have lived in NYC the shortest amount of time?\n",
    "5. How many students are native New Yorkers?\n",
    "6. Do any two students have the same favorite food?\n"
   ]
  },
  {
   "cell_type": "markdown",
   "metadata": {
    "slideshow": {
     "slide_type": "notes"
    }
   },
   "source": [
    "1. What are the names of all of the students."
   ]
  },
  {
   "cell_type": "code",
   "execution_count": 4,
   "metadata": {},
   "outputs": [],
   "source": [
    "import pandas as pd"
   ]
  },
  {
   "cell_type": "code",
   "execution_count": 6,
   "metadata": {},
   "outputs": [
    {
     "data": {
      "text/html": [
       "<div>\n",
       "<style scoped>\n",
       "    .dataframe tbody tr th:only-of-type {\n",
       "        vertical-align: middle;\n",
       "    }\n",
       "\n",
       "    .dataframe tbody tr th {\n",
       "        vertical-align: top;\n",
       "    }\n",
       "\n",
       "    .dataframe thead th {\n",
       "        text-align: right;\n",
       "    }\n",
       "</style>\n",
       "<table border=\"1\" class=\"dataframe\">\n",
       "  <thead>\n",
       "    <tr style=\"text-align: right;\">\n",
       "      <th></th>\n",
       "      <th>name</th>\n",
       "      <th>birthdate</th>\n",
       "      <th>siblings</th>\n",
       "      <th>birth_place</th>\n",
       "      <th>years_in_nyc</th>\n",
       "      <th>favorite_food</th>\n",
       "    </tr>\n",
       "  </thead>\n",
       "  <tbody>\n",
       "    <tr>\n",
       "      <td>0</td>\n",
       "      <td>Sean Abu Wilson</td>\n",
       "      <td>02/06</td>\n",
       "      <td>2</td>\n",
       "      <td>Birmingham, AL</td>\n",
       "      <td>7.60</td>\n",
       "      <td>guacamole</td>\n",
       "    </tr>\n",
       "    <tr>\n",
       "      <td>1</td>\n",
       "      <td>David Miller</td>\n",
       "      <td>06/06</td>\n",
       "      <td>2</td>\n",
       "      <td>New York, NY</td>\n",
       "      <td>25.75</td>\n",
       "      <td>pizza</td>\n",
       "    </tr>\n",
       "    <tr>\n",
       "      <td>2</td>\n",
       "      <td>Abhijeet Kamble</td>\n",
       "      <td>05/07</td>\n",
       "      <td>0</td>\n",
       "      <td>Wardha India</td>\n",
       "      <td>0.50</td>\n",
       "      <td>Biriyani</td>\n",
       "    </tr>\n",
       "    <tr>\n",
       "      <td>3</td>\n",
       "      <td>Samantha Jackson</td>\n",
       "      <td>08/04</td>\n",
       "      <td>2</td>\n",
       "      <td>Newport, RI</td>\n",
       "      <td>12.50</td>\n",
       "      <td>chocolate chip cookies</td>\n",
       "    </tr>\n",
       "    <tr>\n",
       "      <td>4</td>\n",
       "      <td>Anmol Srivats</td>\n",
       "      <td>11/19</td>\n",
       "      <td>0</td>\n",
       "      <td>Bangalore, India</td>\n",
       "      <td>0.05</td>\n",
       "      <td>Sushi</td>\n",
       "    </tr>\n",
       "    <tr>\n",
       "      <td>5</td>\n",
       "      <td>Ran Tokman</td>\n",
       "      <td>03/19</td>\n",
       "      <td>2</td>\n",
       "      <td>Haifa, Israel</td>\n",
       "      <td>8.00</td>\n",
       "      <td>cheesecake</td>\n",
       "    </tr>\n",
       "    <tr>\n",
       "      <td>6</td>\n",
       "      <td>Amy Li</td>\n",
       "      <td>12/29</td>\n",
       "      <td>1</td>\n",
       "      <td>New York, NY</td>\n",
       "      <td>18.00</td>\n",
       "      <td>dumplings</td>\n",
       "    </tr>\n",
       "    <tr>\n",
       "      <td>7</td>\n",
       "      <td>Florencia Leoni</td>\n",
       "      <td>06/07</td>\n",
       "      <td>4</td>\n",
       "      <td>Caracas, Venezuela</td>\n",
       "      <td>1.20</td>\n",
       "      <td>steak</td>\n",
       "    </tr>\n",
       "    <tr>\n",
       "      <td>8</td>\n",
       "      <td>Austin Krause</td>\n",
       "      <td>10/22</td>\n",
       "      <td>1</td>\n",
       "      <td>Lansing, MI</td>\n",
       "      <td>0.17</td>\n",
       "      <td>Everything Bagels</td>\n",
       "    </tr>\n",
       "    <tr>\n",
       "      <td>9</td>\n",
       "      <td>Natalie Overchuk</td>\n",
       "      <td>01/02</td>\n",
       "      <td>2</td>\n",
       "      <td>Kiev, Ukraine</td>\n",
       "      <td>0.10</td>\n",
       "      <td>pasta</td>\n",
       "    </tr>\n",
       "    <tr>\n",
       "      <td>10</td>\n",
       "      <td>Akshay Sharma</td>\n",
       "      <td>04/30</td>\n",
       "      <td>2</td>\n",
       "      <td>New York, NY</td>\n",
       "      <td>24.00</td>\n",
       "      <td>pizza</td>\n",
       "    </tr>\n",
       "    <tr>\n",
       "      <td>11</td>\n",
       "      <td>Mohamad Eldebek</td>\n",
       "      <td>01/21</td>\n",
       "      <td>4</td>\n",
       "      <td>Beirut, Leb</td>\n",
       "      <td>17.00</td>\n",
       "      <td>Tabouleh</td>\n",
       "    </tr>\n",
       "    <tr>\n",
       "      <td>12</td>\n",
       "      <td>Adam Dick</td>\n",
       "      <td>05/06</td>\n",
       "      <td>0</td>\n",
       "      <td>New York, NY</td>\n",
       "      <td>30.00</td>\n",
       "      <td>noodles</td>\n",
       "    </tr>\n",
       "    <tr>\n",
       "      <td>13</td>\n",
       "      <td>Menachi Korn</td>\n",
       "      <td>04/11</td>\n",
       "      <td>4</td>\n",
       "      <td>Denville, N.J.</td>\n",
       "      <td>18.00</td>\n",
       "      <td>falafel</td>\n",
       "    </tr>\n",
       "    <tr>\n",
       "      <td>14</td>\n",
       "      <td>Miguel Peña</td>\n",
       "      <td>08/14</td>\n",
       "      <td>4</td>\n",
       "      <td>Lima, Peru</td>\n",
       "      <td>8.00</td>\n",
       "      <td>rice</td>\n",
       "    </tr>\n",
       "    <tr>\n",
       "      <td>15</td>\n",
       "      <td>Atiar Rahman</td>\n",
       "      <td>02/21</td>\n",
       "      <td>2</td>\n",
       "      <td>Bangladesh</td>\n",
       "      <td>22.00</td>\n",
       "      <td>Reeses Puffs</td>\n",
       "    </tr>\n",
       "    <tr>\n",
       "      <td>16</td>\n",
       "      <td>Fhel Dimaano</td>\n",
       "      <td>08/20</td>\n",
       "      <td>1</td>\n",
       "      <td>Manila, Philippines</td>\n",
       "      <td>30.00</td>\n",
       "      <td>Kare Kare</td>\n",
       "    </tr>\n",
       "    <tr>\n",
       "      <td>17</td>\n",
       "      <td>Maks Pazuniak</td>\n",
       "      <td>12/19</td>\n",
       "      <td>2</td>\n",
       "      <td>Wilmington, DE</td>\n",
       "      <td>15.00</td>\n",
       "      <td>pho</td>\n",
       "    </tr>\n",
       "    <tr>\n",
       "      <td>18</td>\n",
       "      <td>Alex Mitrani</td>\n",
       "      <td>12/06</td>\n",
       "      <td>1</td>\n",
       "      <td>New York, NY</td>\n",
       "      <td>28.00</td>\n",
       "      <td>Fusilli Sorrentina</td>\n",
       "    </tr>\n",
       "    <tr>\n",
       "      <td>19</td>\n",
       "      <td>Yish Lim</td>\n",
       "      <td>11/21</td>\n",
       "      <td>2</td>\n",
       "      <td>Singapore</td>\n",
       "      <td>5.00</td>\n",
       "      <td>burgers</td>\n",
       "    </tr>\n",
       "    <tr>\n",
       "      <td>20</td>\n",
       "      <td>Nicole Roach</td>\n",
       "      <td>06/16</td>\n",
       "      <td>1</td>\n",
       "      <td>Brooklyn, NY</td>\n",
       "      <td>18.00</td>\n",
       "      <td>steak</td>\n",
       "    </tr>\n",
       "    <tr>\n",
       "      <td>21</td>\n",
       "      <td>Omer Hakim</td>\n",
       "      <td>04/30</td>\n",
       "      <td>3</td>\n",
       "      <td>Haifa, Israel</td>\n",
       "      <td>3.50</td>\n",
       "      <td>Avocado</td>\n",
       "    </tr>\n",
       "  </tbody>\n",
       "</table>\n",
       "</div>"
      ],
      "text/plain": [
       "                name birthdate  siblings          birth_place  years_in_nyc  \\\n",
       "0    Sean Abu Wilson     02/06         2       Birmingham, AL          7.60   \n",
       "1       David Miller     06/06         2         New York, NY         25.75   \n",
       "2    Abhijeet Kamble     05/07         0         Wardha India          0.50   \n",
       "3   Samantha Jackson     08/04         2          Newport, RI         12.50   \n",
       "4      Anmol Srivats     11/19         0     Bangalore, India          0.05   \n",
       "5         Ran Tokman     03/19         2        Haifa, Israel          8.00   \n",
       "6             Amy Li     12/29         1         New York, NY         18.00   \n",
       "7    Florencia Leoni     06/07         4   Caracas, Venezuela          1.20   \n",
       "8      Austin Krause     10/22         1          Lansing, MI          0.17   \n",
       "9   Natalie Overchuk     01/02         2        Kiev, Ukraine          0.10   \n",
       "10     Akshay Sharma     04/30         2         New York, NY         24.00   \n",
       "11   Mohamad Eldebek     01/21         4          Beirut, Leb         17.00   \n",
       "12         Adam Dick     05/06         0         New York, NY         30.00   \n",
       "13      Menachi Korn     04/11         4       Denville, N.J.         18.00   \n",
       "14       Miguel Peña     08/14         4           Lima, Peru          8.00   \n",
       "15      Atiar Rahman     02/21         2           Bangladesh         22.00   \n",
       "16      Fhel Dimaano     08/20         1  Manila, Philippines         30.00   \n",
       "17     Maks Pazuniak     12/19         2       Wilmington, DE         15.00   \n",
       "18      Alex Mitrani     12/06         1         New York, NY         28.00   \n",
       "19          Yish Lim     11/21         2            Singapore          5.00   \n",
       "20      Nicole Roach     06/16         1         Brooklyn, NY         18.00   \n",
       "21        Omer Hakim     04/30         3        Haifa, Israel          3.50   \n",
       "\n",
       "             favorite_food  \n",
       "0                guacamole  \n",
       "1                    pizza  \n",
       "2                 Biriyani  \n",
       "3   chocolate chip cookies  \n",
       "4                    Sushi  \n",
       "5               cheesecake  \n",
       "6                dumplings  \n",
       "7                    steak  \n",
       "8        Everything Bagels  \n",
       "9                    pasta  \n",
       "10                   pizza  \n",
       "11                Tabouleh  \n",
       "12                 noodles  \n",
       "13                 falafel  \n",
       "14                    rice  \n",
       "15            Reeses Puffs  \n",
       "16               Kare Kare  \n",
       "17                     pho  \n",
       "18      Fusilli Sorrentina  \n",
       "19                 burgers  \n",
       "20                   steak  \n",
       "21                 Avocado  "
      ]
     },
     "execution_count": 6,
     "metadata": {},
     "output_type": "execute_result"
    }
   ],
   "source": [
    "pd.read_sql_query(\"\"\"SELECT * FROM students;\"\"\", conn)"
   ]
  },
  {
   "cell_type": "code",
   "execution_count": null,
   "metadata": {},
   "outputs": [],
   "source": [
    "c.execute('''\n",
    "-- YOUR CODE HERE\n",
    "''').fetchall()"
   ]
  },
  {
   "cell_type": "markdown",
   "metadata": {
    "slideshow": {
     "slide_type": "notes"
    }
   },
   "source": [
    "2. Which student has the most siblings?\n",
    "\n",
    "> This is great place to use a subquery. Encourage students who are initially struggling with a question along the lines of \"How could you select the largest number of siblings that anyone has in the group?\" From there, you can further push students with a hint if needed: \"How can you now make a selection using the result of this, [embedded as a subquery]?\""
   ]
  },
  {
   "cell_type": "code",
   "execution_count": 11,
   "metadata": {},
   "outputs": [
    {
     "data": {
      "text/html": [
       "<div>\n",
       "<style scoped>\n",
       "    .dataframe tbody tr th:only-of-type {\n",
       "        vertical-align: middle;\n",
       "    }\n",
       "\n",
       "    .dataframe tbody tr th {\n",
       "        vertical-align: top;\n",
       "    }\n",
       "\n",
       "    .dataframe thead th {\n",
       "        text-align: right;\n",
       "    }\n",
       "</style>\n",
       "<table border=\"1\" class=\"dataframe\">\n",
       "  <thead>\n",
       "    <tr style=\"text-align: right;\">\n",
       "      <th></th>\n",
       "      <th>name</th>\n",
       "      <th>birthdate</th>\n",
       "      <th>siblings</th>\n",
       "      <th>birth_place</th>\n",
       "      <th>years_in_nyc</th>\n",
       "      <th>favorite_food</th>\n",
       "    </tr>\n",
       "  </thead>\n",
       "  <tbody>\n",
       "    <tr>\n",
       "      <td>0</td>\n",
       "      <td>Florencia Leoni</td>\n",
       "      <td>06/07</td>\n",
       "      <td>4</td>\n",
       "      <td>Caracas, Venezuela</td>\n",
       "      <td>1.2</td>\n",
       "      <td>steak</td>\n",
       "    </tr>\n",
       "    <tr>\n",
       "      <td>1</td>\n",
       "      <td>Mohamad Eldebek</td>\n",
       "      <td>01/21</td>\n",
       "      <td>4</td>\n",
       "      <td>Beirut, Leb</td>\n",
       "      <td>17.0</td>\n",
       "      <td>Tabouleh</td>\n",
       "    </tr>\n",
       "    <tr>\n",
       "      <td>2</td>\n",
       "      <td>Menachi Korn</td>\n",
       "      <td>04/11</td>\n",
       "      <td>4</td>\n",
       "      <td>Denville, N.J.</td>\n",
       "      <td>18.0</td>\n",
       "      <td>falafel</td>\n",
       "    </tr>\n",
       "    <tr>\n",
       "      <td>3</td>\n",
       "      <td>Miguel Peña</td>\n",
       "      <td>08/14</td>\n",
       "      <td>4</td>\n",
       "      <td>Lima, Peru</td>\n",
       "      <td>8.0</td>\n",
       "      <td>rice</td>\n",
       "    </tr>\n",
       "  </tbody>\n",
       "</table>\n",
       "</div>"
      ],
      "text/plain": [
       "              name birthdate  siblings         birth_place  years_in_nyc  \\\n",
       "0  Florencia Leoni     06/07         4  Caracas, Venezuela           1.2   \n",
       "1  Mohamad Eldebek     01/21         4         Beirut, Leb          17.0   \n",
       "2     Menachi Korn     04/11         4      Denville, N.J.          18.0   \n",
       "3      Miguel Peña     08/14         4          Lima, Peru           8.0   \n",
       "\n",
       "  favorite_food  \n",
       "0         steak  \n",
       "1      Tabouleh  \n",
       "2       falafel  \n",
       "3          rice  "
      ]
     },
     "execution_count": 11,
     "metadata": {},
     "output_type": "execute_result"
    }
   ],
   "source": [
    "pd.read_sql_query(\"\"\"\n",
    "SELECT * \n",
    "FROM students \n",
    "WHERE siblings = (SELECT siblings \n",
    "                  FROM students \n",
    "                  ORDER BY siblings DESC \n",
    "                  LIMIT 1);\"\"\", conn)"
   ]
  },
  {
   "cell_type": "code",
   "execution_count": 21,
   "metadata": {},
   "outputs": [
    {
     "data": {
      "text/html": [
       "<div>\n",
       "<style scoped>\n",
       "    .dataframe tbody tr th:only-of-type {\n",
       "        vertical-align: middle;\n",
       "    }\n",
       "\n",
       "    .dataframe tbody tr th {\n",
       "        vertical-align: top;\n",
       "    }\n",
       "\n",
       "    .dataframe thead th {\n",
       "        text-align: right;\n",
       "    }\n",
       "</style>\n",
       "<table border=\"1\" class=\"dataframe\">\n",
       "  <thead>\n",
       "    <tr style=\"text-align: right;\">\n",
       "      <th></th>\n",
       "      <th>name</th>\n",
       "      <th>birthdate</th>\n",
       "      <th>siblings</th>\n",
       "      <th>birth_place</th>\n",
       "      <th>years_in_nyc</th>\n",
       "      <th>favorite_food</th>\n",
       "    </tr>\n",
       "  </thead>\n",
       "  <tbody>\n",
       "    <tr>\n",
       "      <td>0</td>\n",
       "      <td>Florencia Leoni</td>\n",
       "      <td>06/07</td>\n",
       "      <td>4</td>\n",
       "      <td>Caracas, Venezuela</td>\n",
       "      <td>1.2</td>\n",
       "      <td>steak</td>\n",
       "    </tr>\n",
       "    <tr>\n",
       "      <td>1</td>\n",
       "      <td>Mohamad Eldebek</td>\n",
       "      <td>01/21</td>\n",
       "      <td>4</td>\n",
       "      <td>Beirut, Leb</td>\n",
       "      <td>17.0</td>\n",
       "      <td>Tabouleh</td>\n",
       "    </tr>\n",
       "    <tr>\n",
       "      <td>2</td>\n",
       "      <td>Menachi Korn</td>\n",
       "      <td>04/11</td>\n",
       "      <td>4</td>\n",
       "      <td>Denville, N.J.</td>\n",
       "      <td>18.0</td>\n",
       "      <td>falafel</td>\n",
       "    </tr>\n",
       "    <tr>\n",
       "      <td>3</td>\n",
       "      <td>Miguel Peña</td>\n",
       "      <td>08/14</td>\n",
       "      <td>4</td>\n",
       "      <td>Lima, Peru</td>\n",
       "      <td>8.0</td>\n",
       "      <td>rice</td>\n",
       "    </tr>\n",
       "  </tbody>\n",
       "</table>\n",
       "</div>"
      ],
      "text/plain": [
       "              name birthdate  siblings         birth_place  years_in_nyc  \\\n",
       "0  Florencia Leoni     06/07         4  Caracas, Venezuela           1.2   \n",
       "1  Mohamad Eldebek     01/21         4         Beirut, Leb          17.0   \n",
       "2     Menachi Korn     04/11         4      Denville, N.J.          18.0   \n",
       "3      Miguel Peña     08/14         4          Lima, Peru           8.0   \n",
       "\n",
       "  favorite_food  \n",
       "0         steak  \n",
       "1      Tabouleh  \n",
       "2       falafel  \n",
       "3          rice  "
      ]
     },
     "execution_count": 21,
     "metadata": {},
     "output_type": "execute_result"
    }
   ],
   "source": [
    "pd.read_sql_query(\"\"\"\n",
    "SELECT * \n",
    "FROM students \n",
    "WHERE siblings = (SELECT MAX(siblings)\n",
    "                  FROM students);\"\"\", conn)"
   ]
  },
  {
   "cell_type": "code",
   "execution_count": null,
   "metadata": {
    "slideshow": {
     "slide_type": "notes"
    }
   },
   "outputs": [],
   "source": [
    "c.execute(\"\"\"\n",
    "-- YOUR CODE HERE\n",
    "\"\"\").fetchall()\n"
   ]
  },
  {
   "cell_type": "markdown",
   "metadata": {
    "slideshow": {
     "slide_type": "notes"
    }
   },
   "source": [
    "3. How many students are only children?"
   ]
  },
  {
   "cell_type": "code",
   "execution_count": 28,
   "metadata": {},
   "outputs": [
    {
     "data": {
      "text/html": [
       "<div>\n",
       "<style scoped>\n",
       "    .dataframe tbody tr th:only-of-type {\n",
       "        vertical-align: middle;\n",
       "    }\n",
       "\n",
       "    .dataframe tbody tr th {\n",
       "        vertical-align: top;\n",
       "    }\n",
       "\n",
       "    .dataframe thead th {\n",
       "        text-align: right;\n",
       "    }\n",
       "</style>\n",
       "<table border=\"1\" class=\"dataframe\">\n",
       "  <thead>\n",
       "    <tr style=\"text-align: right;\">\n",
       "      <th></th>\n",
       "      <th>COUNT(*)</th>\n",
       "    </tr>\n",
       "  </thead>\n",
       "  <tbody>\n",
       "    <tr>\n",
       "      <td>0</td>\n",
       "      <td>3</td>\n",
       "    </tr>\n",
       "  </tbody>\n",
       "</table>\n",
       "</div>"
      ],
      "text/plain": [
       "   COUNT(*)\n",
       "0         3"
      ]
     },
     "execution_count": 28,
     "metadata": {},
     "output_type": "execute_result"
    }
   ],
   "source": [
    "pd.read_sql_query(\"\"\"SELECT COUNT(*) FROM students WHERE siblings = 0;\"\"\", conn)"
   ]
  },
  {
   "cell_type": "code",
   "execution_count": null,
   "metadata": {
    "slideshow": {
     "slide_type": "notes"
    }
   },
   "outputs": [],
   "source": [
    "c.execute(\"\"\"\n",
    "-- YOUR CODE HERE\n",
    "\"\"\").fetchone()"
   ]
  },
  {
   "cell_type": "markdown",
   "metadata": {
    "slideshow": {
     "slide_type": "notes"
    }
   },
   "source": [
    "4. Which 3 students have lived in NYC the shortest amount of time? (How long has each lived in NYC?)\n",
    "    "
   ]
  },
  {
   "cell_type": "code",
   "execution_count": 14,
   "metadata": {},
   "outputs": [
    {
     "data": {
      "text/html": [
       "<div>\n",
       "<style scoped>\n",
       "    .dataframe tbody tr th:only-of-type {\n",
       "        vertical-align: middle;\n",
       "    }\n",
       "\n",
       "    .dataframe tbody tr th {\n",
       "        vertical-align: top;\n",
       "    }\n",
       "\n",
       "    .dataframe thead th {\n",
       "        text-align: right;\n",
       "    }\n",
       "</style>\n",
       "<table border=\"1\" class=\"dataframe\">\n",
       "  <thead>\n",
       "    <tr style=\"text-align: right;\">\n",
       "      <th></th>\n",
       "      <th>name</th>\n",
       "      <th>birthdate</th>\n",
       "      <th>siblings</th>\n",
       "      <th>birth_place</th>\n",
       "      <th>years_in_nyc</th>\n",
       "      <th>favorite_food</th>\n",
       "    </tr>\n",
       "  </thead>\n",
       "  <tbody>\n",
       "    <tr>\n",
       "      <td>0</td>\n",
       "      <td>Anmol Srivats</td>\n",
       "      <td>11/19</td>\n",
       "      <td>0</td>\n",
       "      <td>Bangalore, India</td>\n",
       "      <td>0.05</td>\n",
       "      <td>Sushi</td>\n",
       "    </tr>\n",
       "    <tr>\n",
       "      <td>1</td>\n",
       "      <td>Natalie Overchuk</td>\n",
       "      <td>01/02</td>\n",
       "      <td>2</td>\n",
       "      <td>Kiev, Ukraine</td>\n",
       "      <td>0.10</td>\n",
       "      <td>pasta</td>\n",
       "    </tr>\n",
       "    <tr>\n",
       "      <td>2</td>\n",
       "      <td>Austin Krause</td>\n",
       "      <td>10/22</td>\n",
       "      <td>1</td>\n",
       "      <td>Lansing, MI</td>\n",
       "      <td>0.17</td>\n",
       "      <td>Everything Bagels</td>\n",
       "    </tr>\n",
       "  </tbody>\n",
       "</table>\n",
       "</div>"
      ],
      "text/plain": [
       "               name birthdate  siblings       birth_place  years_in_nyc  \\\n",
       "0     Anmol Srivats     11/19         0  Bangalore, India          0.05   \n",
       "1  Natalie Overchuk     01/02         2     Kiev, Ukraine          0.10   \n",
       "2     Austin Krause     10/22         1       Lansing, MI          0.17   \n",
       "\n",
       "       favorite_food  \n",
       "0              Sushi  \n",
       "1              pasta  \n",
       "2  Everything Bagels  "
      ]
     },
     "execution_count": 14,
     "metadata": {},
     "output_type": "execute_result"
    }
   ],
   "source": [
    "pd.read_sql_query(\"\"\"SELECT * FROM students ORDER BY years_in_nyc LIMIT 3;\"\"\", conn)"
   ]
  },
  {
   "cell_type": "code",
   "execution_count": null,
   "metadata": {
    "slideshow": {
     "slide_type": "notes"
    }
   },
   "outputs": [],
   "source": [
    "c.execute('''\n",
    "-- YOUR CODE HERE\n",
    "''').fetchall()"
   ]
  },
  {
   "cell_type": "markdown",
   "metadata": {
    "slideshow": {
     "slide_type": "notes"
    }
   },
   "source": [
    "5. How many students are native New Yorkers?"
   ]
  },
  {
   "cell_type": "code",
   "execution_count": 15,
   "metadata": {},
   "outputs": [
    {
     "data": {
      "text/html": [
       "<div>\n",
       "<style scoped>\n",
       "    .dataframe tbody tr th:only-of-type {\n",
       "        vertical-align: middle;\n",
       "    }\n",
       "\n",
       "    .dataframe tbody tr th {\n",
       "        vertical-align: top;\n",
       "    }\n",
       "\n",
       "    .dataframe thead th {\n",
       "        text-align: right;\n",
       "    }\n",
       "</style>\n",
       "<table border=\"1\" class=\"dataframe\">\n",
       "  <thead>\n",
       "    <tr style=\"text-align: right;\">\n",
       "      <th></th>\n",
       "      <th>name</th>\n",
       "      <th>birthdate</th>\n",
       "      <th>siblings</th>\n",
       "      <th>birth_place</th>\n",
       "      <th>years_in_nyc</th>\n",
       "      <th>favorite_food</th>\n",
       "    </tr>\n",
       "  </thead>\n",
       "  <tbody>\n",
       "    <tr>\n",
       "      <td>0</td>\n",
       "      <td>David Miller</td>\n",
       "      <td>06/06</td>\n",
       "      <td>2</td>\n",
       "      <td>New York, NY</td>\n",
       "      <td>25.75</td>\n",
       "      <td>pizza</td>\n",
       "    </tr>\n",
       "    <tr>\n",
       "      <td>1</td>\n",
       "      <td>Amy Li</td>\n",
       "      <td>12/29</td>\n",
       "      <td>1</td>\n",
       "      <td>New York, NY</td>\n",
       "      <td>18.00</td>\n",
       "      <td>dumplings</td>\n",
       "    </tr>\n",
       "    <tr>\n",
       "      <td>2</td>\n",
       "      <td>Akshay Sharma</td>\n",
       "      <td>04/30</td>\n",
       "      <td>2</td>\n",
       "      <td>New York, NY</td>\n",
       "      <td>24.00</td>\n",
       "      <td>pizza</td>\n",
       "    </tr>\n",
       "    <tr>\n",
       "      <td>3</td>\n",
       "      <td>Adam Dick</td>\n",
       "      <td>05/06</td>\n",
       "      <td>0</td>\n",
       "      <td>New York, NY</td>\n",
       "      <td>30.00</td>\n",
       "      <td>noodles</td>\n",
       "    </tr>\n",
       "    <tr>\n",
       "      <td>4</td>\n",
       "      <td>Alex Mitrani</td>\n",
       "      <td>12/06</td>\n",
       "      <td>1</td>\n",
       "      <td>New York, NY</td>\n",
       "      <td>28.00</td>\n",
       "      <td>Fusilli Sorrentina</td>\n",
       "    </tr>\n",
       "  </tbody>\n",
       "</table>\n",
       "</div>"
      ],
      "text/plain": [
       "            name birthdate  siblings   birth_place  years_in_nyc  \\\n",
       "0   David Miller     06/06         2  New York, NY         25.75   \n",
       "1         Amy Li     12/29         1  New York, NY         18.00   \n",
       "2  Akshay Sharma     04/30         2  New York, NY         24.00   \n",
       "3      Adam Dick     05/06         0  New York, NY         30.00   \n",
       "4   Alex Mitrani     12/06         1  New York, NY         28.00   \n",
       "\n",
       "        favorite_food  \n",
       "0               pizza  \n",
       "1           dumplings  \n",
       "2               pizza  \n",
       "3             noodles  \n",
       "4  Fusilli Sorrentina  "
      ]
     },
     "execution_count": 15,
     "metadata": {},
     "output_type": "execute_result"
    }
   ],
   "source": [
    "pd.read_sql_query(\"\"\"SELECT * FROM students WHERE birth_place = \"New York, NY\";\"\"\", conn)"
   ]
  },
  {
   "cell_type": "code",
   "execution_count": null,
   "metadata": {
    "slideshow": {
     "slide_type": "notes"
    }
   },
   "outputs": [],
   "source": [
    "c.execute('''\n",
    "-- YOUR CODE HERE\n",
    "''').fetchall()"
   ]
  },
  {
   "cell_type": "markdown",
   "metadata": {
    "slideshow": {
     "slide_type": "notes"
    }
   },
   "source": [
    "6. Do any two students have the same favorite food?\n",
    "\n",
    "This problem employs the `Having` clause.  Be sure to review the difference between the where and having clause here. (Where filters apply before the group by clause and conditions following the having clause are filters applied after the group by on the resulting aggregate [statistics].) A useful example in doing so, could be to modify the question to something with an additional filtering criterion such as 'do any native new yorkers have the same favorite food?' This would force students to use a where clause prior to the group by to filter the results. Alternatively, see the question below for an alternative but related problem on favorite foods."
   ]
  },
  {
   "cell_type": "code",
   "execution_count": 22,
   "metadata": {},
   "outputs": [
    {
     "data": {
      "text/html": [
       "<div>\n",
       "<style scoped>\n",
       "    .dataframe tbody tr th:only-of-type {\n",
       "        vertical-align: middle;\n",
       "    }\n",
       "\n",
       "    .dataframe tbody tr th {\n",
       "        vertical-align: top;\n",
       "    }\n",
       "\n",
       "    .dataframe thead th {\n",
       "        text-align: right;\n",
       "    }\n",
       "</style>\n",
       "<table border=\"1\" class=\"dataframe\">\n",
       "  <thead>\n",
       "    <tr style=\"text-align: right;\">\n",
       "      <th></th>\n",
       "      <th>favorite_food</th>\n",
       "      <th>COUNT(*)</th>\n",
       "    </tr>\n",
       "  </thead>\n",
       "  <tbody>\n",
       "    <tr>\n",
       "      <td>0</td>\n",
       "      <td>pizza</td>\n",
       "      <td>2</td>\n",
       "    </tr>\n",
       "    <tr>\n",
       "      <td>1</td>\n",
       "      <td>steak</td>\n",
       "      <td>2</td>\n",
       "    </tr>\n",
       "  </tbody>\n",
       "</table>\n",
       "</div>"
      ],
      "text/plain": [
       "  favorite_food  COUNT(*)\n",
       "0         pizza         2\n",
       "1         steak         2"
      ]
     },
     "execution_count": 22,
     "metadata": {},
     "output_type": "execute_result"
    }
   ],
   "source": [
    "pd.read_sql_query(\"\"\"\n",
    "SELECT favorite_food, COUNT(*) \n",
    "FROM students \n",
    "GROUP BY favorite_food \n",
    "HAVING COUNT(*) > 1\n",
    "ORDER BY COUNT(*) DESC;\"\"\", conn)"
   ]
  },
  {
   "cell_type": "code",
   "execution_count": 30,
   "metadata": {},
   "outputs": [
    {
     "data": {
      "text/html": [
       "<div>\n",
       "<style scoped>\n",
       "    .dataframe tbody tr th:only-of-type {\n",
       "        vertical-align: middle;\n",
       "    }\n",
       "\n",
       "    .dataframe tbody tr th {\n",
       "        vertical-align: top;\n",
       "    }\n",
       "\n",
       "    .dataframe thead th {\n",
       "        text-align: right;\n",
       "    }\n",
       "</style>\n",
       "<table border=\"1\" class=\"dataframe\">\n",
       "  <thead>\n",
       "    <tr style=\"text-align: right;\">\n",
       "      <th></th>\n",
       "      <th>name</th>\n",
       "      <th>birthdate</th>\n",
       "      <th>siblings</th>\n",
       "      <th>birth_place</th>\n",
       "      <th>years_in_nyc</th>\n",
       "      <th>favorite_food</th>\n",
       "    </tr>\n",
       "  </thead>\n",
       "  <tbody>\n",
       "    <tr>\n",
       "      <td>0</td>\n",
       "      <td>David Miller</td>\n",
       "      <td>06/06</td>\n",
       "      <td>2</td>\n",
       "      <td>New York, NY</td>\n",
       "      <td>25.75</td>\n",
       "      <td>pizza</td>\n",
       "    </tr>\n",
       "    <tr>\n",
       "      <td>1</td>\n",
       "      <td>Akshay Sharma</td>\n",
       "      <td>04/30</td>\n",
       "      <td>2</td>\n",
       "      <td>New York, NY</td>\n",
       "      <td>24.00</td>\n",
       "      <td>pizza</td>\n",
       "    </tr>\n",
       "    <tr>\n",
       "      <td>2</td>\n",
       "      <td>Florencia Leoni</td>\n",
       "      <td>06/07</td>\n",
       "      <td>4</td>\n",
       "      <td>Caracas, Venezuela</td>\n",
       "      <td>1.20</td>\n",
       "      <td>steak</td>\n",
       "    </tr>\n",
       "    <tr>\n",
       "      <td>3</td>\n",
       "      <td>Nicole Roach</td>\n",
       "      <td>06/16</td>\n",
       "      <td>1</td>\n",
       "      <td>Brooklyn, NY</td>\n",
       "      <td>18.00</td>\n",
       "      <td>steak</td>\n",
       "    </tr>\n",
       "  </tbody>\n",
       "</table>\n",
       "</div>"
      ],
      "text/plain": [
       "              name birthdate  siblings         birth_place  years_in_nyc  \\\n",
       "0     David Miller     06/06         2        New York, NY         25.75   \n",
       "1    Akshay Sharma     04/30         2        New York, NY         24.00   \n",
       "2  Florencia Leoni     06/07         4  Caracas, Venezuela          1.20   \n",
       "3     Nicole Roach     06/16         1        Brooklyn, NY         18.00   \n",
       "\n",
       "  favorite_food  \n",
       "0         pizza  \n",
       "1         pizza  \n",
       "2         steak  \n",
       "3         steak  "
      ]
     },
     "execution_count": 30,
     "metadata": {},
     "output_type": "execute_result"
    }
   ],
   "source": [
    "pd.read_sql_query(\"\"\"\n",
    "SELECT *\n",
    "FROM students\n",
    "WHERE favorite_food IN (SELECT favorite_food \n",
    "                        FROM students \n",
    "                        GROUP BY favorite_food \n",
    "                        HAVING COUNT(*) > 1\n",
    "                        ORDER BY COUNT(*) DESC)\n",
    "ORDER BY favorite_food;\"\"\", conn)"
   ]
  },
  {
   "cell_type": "code",
   "execution_count": null,
   "metadata": {
    "slideshow": {
     "slide_type": "notes"
    }
   },
   "outputs": [],
   "source": [
    "c.execute(\"\"\"SELECT favorite_food, count(favorite_food)\n",
    "FROM students\n",
    "GROUP BY favorite_food\n",
    "HAVING count(favorite_food) > 1\n",
    "\"\"\").fetchall()"
   ]
  },
  {
   "cell_type": "markdown",
   "metadata": {
    "slideshow": {
     "slide_type": "notes"
    }
   },
   "source": [
    "## More Questions"
   ]
  },
  {
   "cell_type": "markdown",
   "metadata": {
    "slideshow": {
     "slide_type": "notes"
    }
   },
   "source": [
    "What are the favorite foods of this classroom?"
   ]
  },
  {
   "cell_type": "code",
   "execution_count": 23,
   "metadata": {},
   "outputs": [
    {
     "data": {
      "text/html": [
       "<div>\n",
       "<style scoped>\n",
       "    .dataframe tbody tr th:only-of-type {\n",
       "        vertical-align: middle;\n",
       "    }\n",
       "\n",
       "    .dataframe tbody tr th {\n",
       "        vertical-align: top;\n",
       "    }\n",
       "\n",
       "    .dataframe thead th {\n",
       "        text-align: right;\n",
       "    }\n",
       "</style>\n",
       "<table border=\"1\" class=\"dataframe\">\n",
       "  <thead>\n",
       "    <tr style=\"text-align: right;\">\n",
       "      <th></th>\n",
       "      <th>favorite_food</th>\n",
       "    </tr>\n",
       "  </thead>\n",
       "  <tbody>\n",
       "    <tr>\n",
       "      <td>0</td>\n",
       "      <td>guacamole</td>\n",
       "    </tr>\n",
       "    <tr>\n",
       "      <td>1</td>\n",
       "      <td>pizza</td>\n",
       "    </tr>\n",
       "    <tr>\n",
       "      <td>2</td>\n",
       "      <td>Biriyani</td>\n",
       "    </tr>\n",
       "    <tr>\n",
       "      <td>3</td>\n",
       "      <td>chocolate chip cookies</td>\n",
       "    </tr>\n",
       "    <tr>\n",
       "      <td>4</td>\n",
       "      <td>Sushi</td>\n",
       "    </tr>\n",
       "    <tr>\n",
       "      <td>5</td>\n",
       "      <td>cheesecake</td>\n",
       "    </tr>\n",
       "    <tr>\n",
       "      <td>6</td>\n",
       "      <td>dumplings</td>\n",
       "    </tr>\n",
       "    <tr>\n",
       "      <td>7</td>\n",
       "      <td>steak</td>\n",
       "    </tr>\n",
       "    <tr>\n",
       "      <td>8</td>\n",
       "      <td>Everything Bagels</td>\n",
       "    </tr>\n",
       "    <tr>\n",
       "      <td>9</td>\n",
       "      <td>pasta</td>\n",
       "    </tr>\n",
       "    <tr>\n",
       "      <td>10</td>\n",
       "      <td>Tabouleh</td>\n",
       "    </tr>\n",
       "    <tr>\n",
       "      <td>11</td>\n",
       "      <td>noodles</td>\n",
       "    </tr>\n",
       "    <tr>\n",
       "      <td>12</td>\n",
       "      <td>falafel</td>\n",
       "    </tr>\n",
       "    <tr>\n",
       "      <td>13</td>\n",
       "      <td>rice</td>\n",
       "    </tr>\n",
       "    <tr>\n",
       "      <td>14</td>\n",
       "      <td>Reeses Puffs</td>\n",
       "    </tr>\n",
       "    <tr>\n",
       "      <td>15</td>\n",
       "      <td>Kare Kare</td>\n",
       "    </tr>\n",
       "    <tr>\n",
       "      <td>16</td>\n",
       "      <td>pho</td>\n",
       "    </tr>\n",
       "    <tr>\n",
       "      <td>17</td>\n",
       "      <td>Fusilli Sorrentina</td>\n",
       "    </tr>\n",
       "    <tr>\n",
       "      <td>18</td>\n",
       "      <td>burgers</td>\n",
       "    </tr>\n",
       "    <tr>\n",
       "      <td>19</td>\n",
       "      <td>Avocado</td>\n",
       "    </tr>\n",
       "  </tbody>\n",
       "</table>\n",
       "</div>"
      ],
      "text/plain": [
       "             favorite_food\n",
       "0                guacamole\n",
       "1                    pizza\n",
       "2                 Biriyani\n",
       "3   chocolate chip cookies\n",
       "4                    Sushi\n",
       "5               cheesecake\n",
       "6                dumplings\n",
       "7                    steak\n",
       "8        Everything Bagels\n",
       "9                    pasta\n",
       "10                Tabouleh\n",
       "11                 noodles\n",
       "12                 falafel\n",
       "13                    rice\n",
       "14            Reeses Puffs\n",
       "15               Kare Kare\n",
       "16                     pho\n",
       "17      Fusilli Sorrentina\n",
       "18                 burgers\n",
       "19                 Avocado"
      ]
     },
     "execution_count": 23,
     "metadata": {},
     "output_type": "execute_result"
    }
   ],
   "source": [
    "pd.read_sql_query(\"\"\"\n",
    "SELECT DISTINCT favorite_food\n",
    "FROM students;\n",
    "\"\"\", conn)"
   ]
  },
  {
   "cell_type": "code",
   "execution_count": null,
   "metadata": {
    "slideshow": {
     "slide_type": "notes"
    }
   },
   "outputs": [],
   "source": [
    "c.execute(\"\"\"\n",
    "-- YOUR CODE HERE\n",
    "\"\"\").fetchall()"
   ]
  },
  {
   "cell_type": "markdown",
   "metadata": {
    "slideshow": {
     "slide_type": "notes"
    }
   },
   "source": [
    "7. Which student was born closest to the cohort's graduation date?"
   ]
  },
  {
   "cell_type": "code",
   "execution_count": 26,
   "metadata": {},
   "outputs": [],
   "source": [
    "df = pd.read_sql_query(\"\"\"SELECT * FROM students ORDER BY birthdate;\"\"\", conn)"
   ]
  },
  {
   "cell_type": "code",
   "execution_count": 27,
   "metadata": {},
   "outputs": [
    {
     "data": {
      "text/html": [
       "<div>\n",
       "<style scoped>\n",
       "    .dataframe tbody tr th:only-of-type {\n",
       "        vertical-align: middle;\n",
       "    }\n",
       "\n",
       "    .dataframe tbody tr th {\n",
       "        vertical-align: top;\n",
       "    }\n",
       "\n",
       "    .dataframe thead th {\n",
       "        text-align: right;\n",
       "    }\n",
       "</style>\n",
       "<table border=\"1\" class=\"dataframe\">\n",
       "  <thead>\n",
       "    <tr style=\"text-align: right;\">\n",
       "      <th></th>\n",
       "      <th>name</th>\n",
       "      <th>birthdate</th>\n",
       "      <th>siblings</th>\n",
       "      <th>birth_place</th>\n",
       "      <th>years_in_nyc</th>\n",
       "      <th>favorite_food</th>\n",
       "    </tr>\n",
       "  </thead>\n",
       "  <tbody>\n",
       "    <tr>\n",
       "      <td>0</td>\n",
       "      <td>Natalie Overchuk</td>\n",
       "      <td>01/02</td>\n",
       "      <td>2</td>\n",
       "      <td>Kiev, Ukraine</td>\n",
       "      <td>0.10</td>\n",
       "      <td>pasta</td>\n",
       "    </tr>\n",
       "    <tr>\n",
       "      <td>1</td>\n",
       "      <td>Mohamad Eldebek</td>\n",
       "      <td>01/21</td>\n",
       "      <td>4</td>\n",
       "      <td>Beirut, Leb</td>\n",
       "      <td>17.00</td>\n",
       "      <td>Tabouleh</td>\n",
       "    </tr>\n",
       "    <tr>\n",
       "      <td>2</td>\n",
       "      <td>Sean Abu Wilson</td>\n",
       "      <td>02/06</td>\n",
       "      <td>2</td>\n",
       "      <td>Birmingham, AL</td>\n",
       "      <td>7.60</td>\n",
       "      <td>guacamole</td>\n",
       "    </tr>\n",
       "    <tr>\n",
       "      <td>3</td>\n",
       "      <td>Atiar Rahman</td>\n",
       "      <td>02/21</td>\n",
       "      <td>2</td>\n",
       "      <td>Bangladesh</td>\n",
       "      <td>22.00</td>\n",
       "      <td>Reeses Puffs</td>\n",
       "    </tr>\n",
       "    <tr>\n",
       "      <td>4</td>\n",
       "      <td>Ran Tokman</td>\n",
       "      <td>03/19</td>\n",
       "      <td>2</td>\n",
       "      <td>Haifa, Israel</td>\n",
       "      <td>8.00</td>\n",
       "      <td>cheesecake</td>\n",
       "    </tr>\n",
       "    <tr>\n",
       "      <td>5</td>\n",
       "      <td>Menachi Korn</td>\n",
       "      <td>04/11</td>\n",
       "      <td>4</td>\n",
       "      <td>Denville, N.J.</td>\n",
       "      <td>18.00</td>\n",
       "      <td>falafel</td>\n",
       "    </tr>\n",
       "    <tr>\n",
       "      <td>6</td>\n",
       "      <td>Akshay Sharma</td>\n",
       "      <td>04/30</td>\n",
       "      <td>2</td>\n",
       "      <td>New York, NY</td>\n",
       "      <td>24.00</td>\n",
       "      <td>pizza</td>\n",
       "    </tr>\n",
       "    <tr>\n",
       "      <td>7</td>\n",
       "      <td>Omer Hakim</td>\n",
       "      <td>04/30</td>\n",
       "      <td>3</td>\n",
       "      <td>Haifa, Israel</td>\n",
       "      <td>3.50</td>\n",
       "      <td>Avocado</td>\n",
       "    </tr>\n",
       "    <tr>\n",
       "      <td>8</td>\n",
       "      <td>Adam Dick</td>\n",
       "      <td>05/06</td>\n",
       "      <td>0</td>\n",
       "      <td>New York, NY</td>\n",
       "      <td>30.00</td>\n",
       "      <td>noodles</td>\n",
       "    </tr>\n",
       "    <tr>\n",
       "      <td>9</td>\n",
       "      <td>Abhijeet Kamble</td>\n",
       "      <td>05/07</td>\n",
       "      <td>0</td>\n",
       "      <td>Wardha India</td>\n",
       "      <td>0.50</td>\n",
       "      <td>Biriyani</td>\n",
       "    </tr>\n",
       "    <tr>\n",
       "      <td>10</td>\n",
       "      <td>David Miller</td>\n",
       "      <td>06/06</td>\n",
       "      <td>2</td>\n",
       "      <td>New York, NY</td>\n",
       "      <td>25.75</td>\n",
       "      <td>pizza</td>\n",
       "    </tr>\n",
       "    <tr>\n",
       "      <td>11</td>\n",
       "      <td>Florencia Leoni</td>\n",
       "      <td>06/07</td>\n",
       "      <td>4</td>\n",
       "      <td>Caracas, Venezuela</td>\n",
       "      <td>1.20</td>\n",
       "      <td>steak</td>\n",
       "    </tr>\n",
       "    <tr>\n",
       "      <td>12</td>\n",
       "      <td>Nicole Roach</td>\n",
       "      <td>06/16</td>\n",
       "      <td>1</td>\n",
       "      <td>Brooklyn, NY</td>\n",
       "      <td>18.00</td>\n",
       "      <td>steak</td>\n",
       "    </tr>\n",
       "    <tr>\n",
       "      <td>13</td>\n",
       "      <td>Samantha Jackson</td>\n",
       "      <td>08/04</td>\n",
       "      <td>2</td>\n",
       "      <td>Newport, RI</td>\n",
       "      <td>12.50</td>\n",
       "      <td>chocolate chip cookies</td>\n",
       "    </tr>\n",
       "    <tr>\n",
       "      <td>14</td>\n",
       "      <td>Miguel Peña</td>\n",
       "      <td>08/14</td>\n",
       "      <td>4</td>\n",
       "      <td>Lima, Peru</td>\n",
       "      <td>8.00</td>\n",
       "      <td>rice</td>\n",
       "    </tr>\n",
       "    <tr>\n",
       "      <td>15</td>\n",
       "      <td>Fhel Dimaano</td>\n",
       "      <td>08/20</td>\n",
       "      <td>1</td>\n",
       "      <td>Manila, Philippines</td>\n",
       "      <td>30.00</td>\n",
       "      <td>Kare Kare</td>\n",
       "    </tr>\n",
       "    <tr>\n",
       "      <td>16</td>\n",
       "      <td>Austin Krause</td>\n",
       "      <td>10/22</td>\n",
       "      <td>1</td>\n",
       "      <td>Lansing, MI</td>\n",
       "      <td>0.17</td>\n",
       "      <td>Everything Bagels</td>\n",
       "    </tr>\n",
       "    <tr>\n",
       "      <td>17</td>\n",
       "      <td>Anmol Srivats</td>\n",
       "      <td>11/19</td>\n",
       "      <td>0</td>\n",
       "      <td>Bangalore, India</td>\n",
       "      <td>0.05</td>\n",
       "      <td>Sushi</td>\n",
       "    </tr>\n",
       "    <tr>\n",
       "      <td>18</td>\n",
       "      <td>Yish Lim</td>\n",
       "      <td>11/21</td>\n",
       "      <td>2</td>\n",
       "      <td>Singapore</td>\n",
       "      <td>5.00</td>\n",
       "      <td>burgers</td>\n",
       "    </tr>\n",
       "    <tr>\n",
       "      <td>19</td>\n",
       "      <td>Alex Mitrani</td>\n",
       "      <td>12/06</td>\n",
       "      <td>1</td>\n",
       "      <td>New York, NY</td>\n",
       "      <td>28.00</td>\n",
       "      <td>Fusilli Sorrentina</td>\n",
       "    </tr>\n",
       "    <tr>\n",
       "      <td>20</td>\n",
       "      <td>Maks Pazuniak</td>\n",
       "      <td>12/19</td>\n",
       "      <td>2</td>\n",
       "      <td>Wilmington, DE</td>\n",
       "      <td>15.00</td>\n",
       "      <td>pho</td>\n",
       "    </tr>\n",
       "    <tr>\n",
       "      <td>21</td>\n",
       "      <td>Amy Li</td>\n",
       "      <td>12/29</td>\n",
       "      <td>1</td>\n",
       "      <td>New York, NY</td>\n",
       "      <td>18.00</td>\n",
       "      <td>dumplings</td>\n",
       "    </tr>\n",
       "  </tbody>\n",
       "</table>\n",
       "</div>"
      ],
      "text/plain": [
       "                name birthdate  siblings          birth_place  years_in_nyc  \\\n",
       "0   Natalie Overchuk     01/02         2        Kiev, Ukraine          0.10   \n",
       "1    Mohamad Eldebek     01/21         4          Beirut, Leb         17.00   \n",
       "2    Sean Abu Wilson     02/06         2       Birmingham, AL          7.60   \n",
       "3       Atiar Rahman     02/21         2           Bangladesh         22.00   \n",
       "4         Ran Tokman     03/19         2        Haifa, Israel          8.00   \n",
       "5       Menachi Korn     04/11         4       Denville, N.J.         18.00   \n",
       "6      Akshay Sharma     04/30         2         New York, NY         24.00   \n",
       "7         Omer Hakim     04/30         3        Haifa, Israel          3.50   \n",
       "8          Adam Dick     05/06         0         New York, NY         30.00   \n",
       "9    Abhijeet Kamble     05/07         0         Wardha India          0.50   \n",
       "10      David Miller     06/06         2         New York, NY         25.75   \n",
       "11   Florencia Leoni     06/07         4   Caracas, Venezuela          1.20   \n",
       "12      Nicole Roach     06/16         1         Brooklyn, NY         18.00   \n",
       "13  Samantha Jackson     08/04         2          Newport, RI         12.50   \n",
       "14       Miguel Peña     08/14         4           Lima, Peru          8.00   \n",
       "15      Fhel Dimaano     08/20         1  Manila, Philippines         30.00   \n",
       "16     Austin Krause     10/22         1          Lansing, MI          0.17   \n",
       "17     Anmol Srivats     11/19         0     Bangalore, India          0.05   \n",
       "18          Yish Lim     11/21         2            Singapore          5.00   \n",
       "19      Alex Mitrani     12/06         1         New York, NY         28.00   \n",
       "20     Maks Pazuniak     12/19         2       Wilmington, DE         15.00   \n",
       "21            Amy Li     12/29         1         New York, NY         18.00   \n",
       "\n",
       "             favorite_food  \n",
       "0                    pasta  \n",
       "1                 Tabouleh  \n",
       "2                guacamole  \n",
       "3             Reeses Puffs  \n",
       "4               cheesecake  \n",
       "5                  falafel  \n",
       "6                    pizza  \n",
       "7                  Avocado  \n",
       "8                  noodles  \n",
       "9                 Biriyani  \n",
       "10                   pizza  \n",
       "11                   steak  \n",
       "12                   steak  \n",
       "13  chocolate chip cookies  \n",
       "14                    rice  \n",
       "15               Kare Kare  \n",
       "16       Everything Bagels  \n",
       "17                   Sushi  \n",
       "18                 burgers  \n",
       "19      Fusilli Sorrentina  \n",
       "20                     pho  \n",
       "21               dumplings  "
      ]
     },
     "execution_count": 27,
     "metadata": {},
     "output_type": "execute_result"
    }
   ],
   "source": [
    "df"
   ]
  },
  {
   "cell_type": "code",
   "execution_count": null,
   "metadata": {
    "slideshow": {
     "slide_type": "notes"
    }
   },
   "outputs": [],
   "source": [
    "c.execute('''\n",
    "-- YOUR CODE HERE\n",
    "''').fetchall() "
   ]
  }
 ],
 "metadata": {
  "kernelspec": {
   "display_name": "Python 3",
   "language": "python",
   "name": "python3"
  },
  "language_info": {
   "codemirror_mode": {
    "name": "ipython",
    "version": 3
   },
   "file_extension": ".py",
   "mimetype": "text/x-python",
   "name": "python",
   "nbconvert_exporter": "python",
   "pygments_lexer": "ipython3",
   "version": "3.6.9"
  },
  "toc": {
   "base_numbering": 1,
   "nav_menu": {},
   "number_sections": true,
   "sideBar": true,
   "skip_h1_title": false,
   "title_cell": "Table of Contents",
   "title_sidebar": "Contents",
   "toc_cell": false,
   "toc_position": {},
   "toc_section_display": true,
   "toc_window_display": false
  }
 },
 "nbformat": 4,
 "nbformat_minor": 2
}
