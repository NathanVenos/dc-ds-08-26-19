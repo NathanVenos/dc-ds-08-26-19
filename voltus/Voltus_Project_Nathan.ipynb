{
 "cells": [
  {
   "cell_type": "code",
   "execution_count": 1,
   "metadata": {
    "ExecuteTime": {
     "end_time": "2020-02-10T23:08:49.630388Z",
     "start_time": "2020-02-10T23:08:47.510597Z"
    }
   },
   "outputs": [],
   "source": [
    "import psycopg2\n",
    "import pandas as pd\n",
    "\n",
    "import matplotlib.pyplot as plt\n",
    "%matplotlib inline\n",
    "import seaborn as sns\n",
    "\n",
    "import Voltus_Project_Nathan_Functions as functions"
   ]
  },
  {
   "cell_type": "markdown",
   "metadata": {},
   "source": [
    "# Initial Data Processing and EDA"
   ]
  },
  {
   "cell_type": "code",
   "execution_count": 2,
   "metadata": {
    "ExecuteTime": {
     "end_time": "2020-02-10T23:09:03.274447Z",
     "start_time": "2020-02-10T23:09:02.645549Z"
    }
   },
   "outputs": [],
   "source": [
    "# connecting to the server\n",
    "conn = psycopg2.connect(\n",
    "    database=\"interval_load_data\",\n",
    "    user='postgres',\n",
    "    password='Onei9yepahShac0renga',\n",
    "    host=\"test-interval-load-data.cwr8xr5dhgm1.us-west-2.rds.amazonaws.com\",\n",
    "    port=\"5432\"\n",
    ")"
   ]
  },
  {
   "cell_type": "code",
   "execution_count": 4,
   "metadata": {
    "ExecuteTime": {
     "end_time": "2020-02-10T23:09:09.336623Z",
     "start_time": "2020-02-10T23:09:03.526330Z"
    }
   },
   "outputs": [],
   "source": [
    "# querying the sites and their time period\n",
    "site_df = pd.read_sql_query(\"SELECT site_id, \\\n",
    "                             MIN(interval_end) as time_start, \\\n",
    "                             MAX(interval_end) as time_end, \\\n",
    "                             (MAX(interval_end) - MIN(interval_end)) as series_length, \\\n",
    "                             COUNT(*) as interval_counts, \\\n",
    "                             AVG(interval_width) as mean_interval_width \\\n",
    "                             FROM intervals \\\n",
    "                             GROUP BY site_id;\", conn)"
   ]
  },
  {
   "cell_type": "code",
   "execution_count": 5,
   "metadata": {
    "ExecuteTime": {
     "end_time": "2020-02-10T23:09:09.350627Z",
     "start_time": "2020-02-10T23:09:09.338623Z"
    }
   },
   "outputs": [
    {
     "data": {
      "text/plain": [
       "900.000000     270\n",
       "3600.000000     93\n",
       "996.322396       3\n",
       "949.035874       1\n",
       "Name: mean_interval_width, dtype: int64"
      ]
     },
     "execution_count": 5,
     "metadata": {},
     "output_type": "execute_result"
    }
   ],
   "source": [
    "# vast majority of data has intervals of 15-minutes or 1-hour\n",
    "# the 4 other will need to be looked at in more depth\n",
    "site_df['mean_interval_width'].value_counts()"
   ]
  },
  {
   "cell_type": "code",
   "execution_count": 6,
   "metadata": {
    "ExecuteTime": {
     "end_time": "2020-02-10T23:09:09.390626Z",
     "start_time": "2020-02-10T23:09:09.357627Z"
    }
   },
   "outputs": [
    {
     "data": {
      "text/html": [
       "<div>\n",
       "<style scoped>\n",
       "    .dataframe tbody tr th:only-of-type {\n",
       "        vertical-align: middle;\n",
       "    }\n",
       "\n",
       "    .dataframe tbody tr th {\n",
       "        vertical-align: top;\n",
       "    }\n",
       "\n",
       "    .dataframe thead th {\n",
       "        text-align: right;\n",
       "    }\n",
       "</style>\n",
       "<table border=\"1\" class=\"dataframe\">\n",
       "  <thead>\n",
       "    <tr style=\"text-align: right;\">\n",
       "      <th></th>\n",
       "      <th>site_id</th>\n",
       "      <th>time_start</th>\n",
       "      <th>time_end</th>\n",
       "      <th>series_length</th>\n",
       "      <th>interval_counts</th>\n",
       "      <th>mean_interval_width</th>\n",
       "    </tr>\n",
       "  </thead>\n",
       "  <tbody>\n",
       "    <tr>\n",
       "      <th>0</th>\n",
       "      <td>35f1db19-ab26-7f30-3451-971f053712f6</td>\n",
       "      <td>2015-05-15 05:00:00</td>\n",
       "      <td>2018-10-04 04:00:00</td>\n",
       "      <td>1237 days 23:00:00</td>\n",
       "      <td>118845</td>\n",
       "      <td>900.0</td>\n",
       "    </tr>\n",
       "    <tr>\n",
       "      <th>1</th>\n",
       "      <td>a05598bc-59ac-6697-0673-0e87e7ccc677</td>\n",
       "      <td>2018-06-01 05:15:00</td>\n",
       "      <td>2018-10-07 05:00:00</td>\n",
       "      <td>127 days 23:45:00</td>\n",
       "      <td>12288</td>\n",
       "      <td>900.0</td>\n",
       "    </tr>\n",
       "    <tr>\n",
       "      <th>2</th>\n",
       "      <td>b8ec0850-c5ce-1579-5438-8d1247f0ff16</td>\n",
       "      <td>2016-09-05 05:00:00</td>\n",
       "      <td>2018-09-07 04:00:00</td>\n",
       "      <td>731 days 23:00:00</td>\n",
       "      <td>17568</td>\n",
       "      <td>3600.0</td>\n",
       "    </tr>\n",
       "    <tr>\n",
       "      <th>3</th>\n",
       "      <td>b9ad1c9b-fbe2-f36f-ab2a-6894c251433f</td>\n",
       "      <td>2018-08-17 07:15:00</td>\n",
       "      <td>2018-09-01 07:00:00</td>\n",
       "      <td>14 days 23:45:00</td>\n",
       "      <td>1056</td>\n",
       "      <td>900.0</td>\n",
       "    </tr>\n",
       "    <tr>\n",
       "      <th>4</th>\n",
       "      <td>61ff3699-aad4-35d3-4ecb-b8195e8b08cd</td>\n",
       "      <td>2015-01-01 05:00:00</td>\n",
       "      <td>2018-10-22 04:00:00</td>\n",
       "      <td>1389 days 23:00:00</td>\n",
       "      <td>133434</td>\n",
       "      <td>900.0</td>\n",
       "    </tr>\n",
       "    <tr>\n",
       "      <th>...</th>\n",
       "      <td>...</td>\n",
       "      <td>...</td>\n",
       "      <td>...</td>\n",
       "      <td>...</td>\n",
       "      <td>...</td>\n",
       "      <td>...</td>\n",
       "    </tr>\n",
       "    <tr>\n",
       "      <th>362</th>\n",
       "      <td>debc4593-d7e7-c1ae-f268-f6944c531e3f</td>\n",
       "      <td>2015-05-15 05:00:00</td>\n",
       "      <td>2018-10-12 04:00:00</td>\n",
       "      <td>1245 days 23:00:00</td>\n",
       "      <td>119452</td>\n",
       "      <td>900.0</td>\n",
       "    </tr>\n",
       "    <tr>\n",
       "      <th>363</th>\n",
       "      <td>8a2629e5-183b-05c3-7544-5ac89ee3c347</td>\n",
       "      <td>2018-05-04 05:00:00</td>\n",
       "      <td>2018-10-12 04:00:00</td>\n",
       "      <td>160 days 23:00:00</td>\n",
       "      <td>15453</td>\n",
       "      <td>900.0</td>\n",
       "    </tr>\n",
       "    <tr>\n",
       "      <th>364</th>\n",
       "      <td>811effd3-85a7-f36f-5eeb-cb38de38d5ac</td>\n",
       "      <td>2017-06-21 04:15:00</td>\n",
       "      <td>2018-10-12 04:00:00</td>\n",
       "      <td>477 days 23:45:00</td>\n",
       "      <td>45888</td>\n",
       "      <td>900.0</td>\n",
       "    </tr>\n",
       "    <tr>\n",
       "      <th>365</th>\n",
       "      <td>a85566bd-7cea-eb51-6aa5-912ee6bdd7d7</td>\n",
       "      <td>2015-05-15 05:00:00</td>\n",
       "      <td>2018-10-12 04:00:00</td>\n",
       "      <td>1245 days 23:00:00</td>\n",
       "      <td>119505</td>\n",
       "      <td>900.0</td>\n",
       "    </tr>\n",
       "    <tr>\n",
       "      <th>366</th>\n",
       "      <td>b9564e11-9942-536d-c540-6a9173e63456</td>\n",
       "      <td>2015-05-15 05:00:00</td>\n",
       "      <td>2018-10-22 04:00:00</td>\n",
       "      <td>1255 days 23:00:00</td>\n",
       "      <td>89899</td>\n",
       "      <td>900.0</td>\n",
       "    </tr>\n",
       "  </tbody>\n",
       "</table>\n",
       "<p>367 rows × 6 columns</p>\n",
       "</div>"
      ],
      "text/plain": [
       "                                  site_id          time_start  \\\n",
       "0    35f1db19-ab26-7f30-3451-971f053712f6 2015-05-15 05:00:00   \n",
       "1    a05598bc-59ac-6697-0673-0e87e7ccc677 2018-06-01 05:15:00   \n",
       "2    b8ec0850-c5ce-1579-5438-8d1247f0ff16 2016-09-05 05:00:00   \n",
       "3    b9ad1c9b-fbe2-f36f-ab2a-6894c251433f 2018-08-17 07:15:00   \n",
       "4    61ff3699-aad4-35d3-4ecb-b8195e8b08cd 2015-01-01 05:00:00   \n",
       "..                                    ...                 ...   \n",
       "362  debc4593-d7e7-c1ae-f268-f6944c531e3f 2015-05-15 05:00:00   \n",
       "363  8a2629e5-183b-05c3-7544-5ac89ee3c347 2018-05-04 05:00:00   \n",
       "364  811effd3-85a7-f36f-5eeb-cb38de38d5ac 2017-06-21 04:15:00   \n",
       "365  a85566bd-7cea-eb51-6aa5-912ee6bdd7d7 2015-05-15 05:00:00   \n",
       "366  b9564e11-9942-536d-c540-6a9173e63456 2015-05-15 05:00:00   \n",
       "\n",
       "               time_end      series_length  interval_counts  \\\n",
       "0   2018-10-04 04:00:00 1237 days 23:00:00           118845   \n",
       "1   2018-10-07 05:00:00  127 days 23:45:00            12288   \n",
       "2   2018-09-07 04:00:00  731 days 23:00:00            17568   \n",
       "3   2018-09-01 07:00:00   14 days 23:45:00             1056   \n",
       "4   2018-10-22 04:00:00 1389 days 23:00:00           133434   \n",
       "..                  ...                ...              ...   \n",
       "362 2018-10-12 04:00:00 1245 days 23:00:00           119452   \n",
       "363 2018-10-12 04:00:00  160 days 23:00:00            15453   \n",
       "364 2018-10-12 04:00:00  477 days 23:45:00            45888   \n",
       "365 2018-10-12 04:00:00 1245 days 23:00:00           119505   \n",
       "366 2018-10-22 04:00:00 1255 days 23:00:00            89899   \n",
       "\n",
       "     mean_interval_width  \n",
       "0                  900.0  \n",
       "1                  900.0  \n",
       "2                 3600.0  \n",
       "3                  900.0  \n",
       "4                  900.0  \n",
       "..                   ...  \n",
       "362                900.0  \n",
       "363                900.0  \n",
       "364                900.0  \n",
       "365                900.0  \n",
       "366                900.0  \n",
       "\n",
       "[367 rows x 6 columns]"
      ]
     },
     "execution_count": 6,
     "metadata": {},
     "output_type": "execute_result"
    }
   ],
   "source": [
    "# general inspection\n",
    "site_df"
   ]
  },
  {
   "cell_type": "code",
   "execution_count": 7,
   "metadata": {
    "ExecuteTime": {
     "end_time": "2020-02-10T23:09:09.414625Z",
     "start_time": "2020-02-10T23:09:09.393630Z"
    }
   },
   "outputs": [
    {
     "name": "stdout",
     "output_type": "stream",
     "text": [
      "<class 'pandas.core.frame.DataFrame'>\n",
      "RangeIndex: 367 entries, 0 to 366\n",
      "Data columns (total 6 columns):\n",
      " #   Column               Non-Null Count  Dtype          \n",
      "---  ------               --------------  -----          \n",
      " 0   site_id              367 non-null    object         \n",
      " 1   time_start           367 non-null    datetime64[ns] \n",
      " 2   time_end             367 non-null    datetime64[ns] \n",
      " 3   series_length        367 non-null    timedelta64[ns]\n",
      " 4   interval_counts      367 non-null    int64          \n",
      " 5   mean_interval_width  367 non-null    float64        \n",
      "dtypes: datetime64[ns](2), float64(1), int64(1), object(1), timedelta64[ns](1)\n",
      "memory usage: 17.3+ KB\n"
     ]
    }
   ],
   "source": [
    "# checking for nulls and confirming datatypes\n",
    "site_df.info()"
   ]
  },
  {
   "cell_type": "code",
   "execution_count": 8,
   "metadata": {
    "ExecuteTime": {
     "end_time": "2020-02-10T23:09:09.669639Z",
     "start_time": "2020-02-10T23:09:09.417630Z"
    }
   },
   "outputs": [
    {
     "data": {
      "text/plain": [
       "<matplotlib.axes._subplots.AxesSubplot at 0x1e4d3fb7e80>"
      ]
     },
     "execution_count": 8,
     "metadata": {},
     "output_type": "execute_result"
    },
    {
     "data": {
      "image/png": "[encoded data removed]",
      "text/plain": [
       "<Figure size 432x288 with 1 Axes>"
      ]
     },
     "metadata": {
      "needs_background": "light"
     },
     "output_type": "display_data"
    }
   ],
   "source": [
    "# inspecting the distribution in time series length in days\n",
    "sns.distplot(site_df['series_length'].dt.days)"
   ]
  },
  {
   "cell_type": "code",
   "execution_count": 9,
   "metadata": {
    "ExecuteTime": {
     "end_time": "2020-02-10T23:09:09.682626Z",
     "start_time": "2020-02-10T23:09:09.673628Z"
    }
   },
   "outputs": [
    {
     "data": {
      "text/plain": [
       "78    00:00:00\n",
       "317   23:00:00\n",
       "213   23:00:00\n",
       "25    23:00:00\n",
       "140   23:00:00\n",
       "Name: series_length, dtype: timedelta64[ns]"
      ]
     },
     "execution_count": 9,
     "metadata": {},
     "output_type": "execute_result"
    }
   ],
   "source": [
    "# checking for any really small time series and it looks like one might not have enough data to evaluate\n",
    "# some only have a day of data, but at least you can check that day for start/stop, DR and gaps\n",
    "site_df['series_length'].sort_values().head()"
   ]
  },
  {
   "cell_type": "code",
   "execution_count": 10,
   "metadata": {
    "ExecuteTime": {
     "end_time": "2020-02-10T23:09:11.665649Z",
     "start_time": "2020-02-10T23:09:09.687628Z"
    }
   },
   "outputs": [
    {
     "data": {
      "text/html": [
       "<div>\n",
       "<style scoped>\n",
       "    .dataframe tbody tr th:only-of-type {\n",
       "        vertical-align: middle;\n",
       "    }\n",
       "\n",
       "    .dataframe tbody tr th {\n",
       "        vertical-align: top;\n",
       "    }\n",
       "\n",
       "    .dataframe thead th {\n",
       "        text-align: right;\n",
       "    }\n",
       "</style>\n",
       "<table border=\"1\" class=\"dataframe\">\n",
       "  <thead>\n",
       "    <tr style=\"text-align: right;\">\n",
       "      <th></th>\n",
       "      <th>kWh</th>\n",
       "      <th>interval_end</th>\n",
       "      <th>interval_width</th>\n",
       "      <th>site_id</th>\n",
       "    </tr>\n",
       "  </thead>\n",
       "  <tbody>\n",
       "    <tr>\n",
       "      <th>0</th>\n",
       "      <td>98.142</td>\n",
       "      <td>2018-08-20 05:15:00</td>\n",
       "      <td>900</td>\n",
       "      <td>44236c0b-b566-0af2-6675-6854fa9378dd</td>\n",
       "    </tr>\n",
       "  </tbody>\n",
       "</table>\n",
       "</div>"
      ],
      "text/plain": [
       "      kWh        interval_end  interval_width  \\\n",
       "0  98.142 2018-08-20 05:15:00             900   \n",
       "\n",
       "                                site_id  \n",
       "0  44236c0b-b566-0af2-6675-6854fa9378dd  "
      ]
     },
     "execution_count": 10,
     "metadata": {},
     "output_type": "execute_result"
    }
   ],
   "source": [
    "# This site only has a single data point, so it will be excluded from further analysis\n",
    "site_check = pd.read_sql_query(\"SELECT * \\\n",
    "                               FROM intervals \\\n",
    "                               WHERE site_id='44236c0b-b566-0af2-6675-6854fa9378dd';\", conn)\n",
    "site_check"
   ]
  },
  {
   "cell_type": "code",
   "execution_count": 11,
   "metadata": {
    "ExecuteTime": {
     "end_time": "2020-02-10T23:09:11.682650Z",
     "start_time": "2020-02-10T23:09:11.668652Z"
    }
   },
   "outputs": [
    {
     "name": "stdout",
     "output_type": "stream",
     "text": [
      "<class 'pandas.core.frame.DataFrame'>\n",
      "RangeIndex: 366 entries, 0 to 365\n",
      "Data columns (total 6 columns):\n",
      " #   Column               Non-Null Count  Dtype          \n",
      "---  ------               --------------  -----          \n",
      " 0   site_id              366 non-null    object         \n",
      " 1   time_start           366 non-null    datetime64[ns] \n",
      " 2   time_end             366 non-null    datetime64[ns] \n",
      " 3   series_length        366 non-null    timedelta64[ns]\n",
      " 4   interval_counts      366 non-null    int64          \n",
      " 5   mean_interval_width  366 non-null    float64        \n",
      "dtypes: datetime64[ns](2), float64(1), int64(1), object(1), timedelta64[ns](1)\n",
      "memory usage: 17.3+ KB\n"
     ]
    }
   ],
   "source": [
    "site_df.drop(78, inplace=True)\n",
    "site_df.reset_index(drop=True, inplace=True)\n",
    "site_df.info()"
   ]
  },
  {
   "cell_type": "code",
   "execution_count": 12,
   "metadata": {
    "ExecuteTime": {
     "end_time": "2020-02-10T23:09:24.686056Z",
     "start_time": "2020-02-10T23:09:11.685651Z"
    }
   },
   "outputs": [
    {
     "name": "stdout",
     "output_type": "stream",
     "text": [
      "e7d819a2-4382-e7d1-a267-069c96a54333\n",
      "900     35032\n",
      "3600     1296\n",
      "Name: interval_width, dtype: int64\n",
      "Hourly data starts at  2018-09-01 09:00:00\n",
      "Hourly data ends at  2018-10-25 08:00:00\n",
      "871f9fba-e8c7-cdcd-1ac4-863509f1be51\n",
      "900     35032\n",
      "3600     1296\n",
      "Name: interval_width, dtype: int64\n",
      "Hourly data starts at  2018-09-01 09:00:00\n",
      "Hourly data ends at  2018-10-25 08:00:00\n",
      "66e9c85d-6b5f-d012-4b56-f69218073f86\n",
      "900     70064\n",
      "3600     1296\n",
      "Name: interval_width, dtype: int64\n",
      "Hourly data starts at  2018-09-01 09:00:00\n",
      "Hourly data ends at  2018-10-25 08:00:00\n",
      "cb846659-8aa0-3233-6b11-6745474c94c3\n",
      "900     35032\n",
      "3600     1296\n",
      "Name: interval_width, dtype: int64\n",
      "Hourly data starts at  2018-09-01 09:00:00\n",
      "Hourly data ends at  2018-10-25 08:00:00\n"
     ]
    }
   ],
   "source": [
    "# I want to look closer at the sites with unexpected interval lengths\n",
    "odd_intervals = list(site_df.loc[(site_df['mean_interval_width'] != 900)\n",
    "                                 & (site_df['mean_interval_width'] != 3600)]['site_id'])\n",
    "\n",
    "# There is a pattern here where these four sites have 1296 1-hour intervals covering the same period of time.\n",
    "# Any future algorithms will need to be able to account for this.\n",
    "for odd_site in odd_intervals:\n",
    "    interval_check = pd.read_sql_query(f\"SELECT * \\\n",
    "                                        FROM intervals \\\n",
    "                                        WHERE site_id='{odd_site}';\", conn)\n",
    "    hour_time_start = interval_check.loc[interval_check['interval_width'] == 3600]['interval_end'].min()\n",
    "    hour_time_end = interval_check.loc[interval_check['interval_width'] == 3600]['interval_end'].max()\n",
    "    print(odd_site)\n",
    "    print(interval_check['interval_width'].value_counts())\n",
    "    print('Hourly data starts at ',hour_time_start)\n",
    "    print('Hourly data ends at ',hour_time_end)"
   ]
  },
  {
   "cell_type": "code",
   "execution_count": 13,
   "metadata": {
    "ExecuteTime": {
     "end_time": "2020-02-10T23:09:24.696054Z",
     "start_time": "2020-02-10T23:09:24.689022Z"
    }
   },
   "outputs": [
    {
     "data": {
      "text/plain": [
       "366"
      ]
     },
     "execution_count": 13,
     "metadata": {},
     "output_type": "execute_result"
    }
   ],
   "source": [
    "# creating a list of sites to be analyzed for use in loops\n",
    "site_list = list(site_df['site_id'])\n",
    "len(site_list)"
   ]
  },
  {
   "cell_type": "code",
   "execution_count": 16,
   "metadata": {
    "ExecuteTime": {
     "end_time": "2020-02-10T23:56:56.606234Z",
     "start_time": "2020-02-10T23:31:46.609077Z"
    }
   },
   "outputs": [],
   "source": [
    "# Downloading all the data to a local csv for EDA and prototyping\n",
    "# that isn't bottlenecked by accessing the database.\n",
    "# All deliverables will be implemented in a manner that does \n",
    "# utilized accessing the database.\n",
    "\n",
    "# all_data_df = pd.DataFrame()\n",
    "# for site in site_list:\n",
    "#     site_data_df = pd.read_sql_query(f\"SELECT * \\\n",
    "#                                       FROM intervals \\\n",
    "#                                       WHERE site_id='{site}';\"\n",
    "#                                     , conn)\n",
    "#     all_data_df = pd.concat([all_data_df,\n",
    "#                              site_data_df])\n",
    "# all_data_df.reset_index(drop=True, inplace=True)\n",
    "# all_data_df.to_csv('data/data.csv', index=False)"
   ]
  },
  {
   "cell_type": "code",
   "execution_count": null,
   "metadata": {},
   "outputs": [],
   "source": [
    "all_data_df = pd.read_csv('data/data.csv')"
   ]
  },
  {
   "cell_type": "markdown",
   "metadata": {},
   "source": [
    "# Identifying Data Gaps\n",
    "I wanted to start with this problem because 1) the nature and frequency of the gaps may impact the algorithms used to solve other problems, and 2) I had the clearest initial idea for solving it."
   ]
  },
  {
   "cell_type": "code",
   "execution_count": 14,
   "metadata": {
    "ExecuteTime": {
     "end_time": "2020-02-10T23:29:25.329015Z",
     "start_time": "2020-02-10T23:10:58.444434Z"
    }
   },
   "outputs": [],
   "source": [
    "all_gap_dates = functions.multi_site_gap_date_df(site_list)\n",
    "all_gap_dates.to_csv('deliverables\\gap_dates.csv', index=False)"
   ]
  }
 ],
 "metadata": {
  "kernelspec": {
   "display_name": "Python 3",
   "language": "python",
   "name": "python3"
  },
  "language_info": {
   "codemirror_mode": {
    "name": "ipython",
    "version": 3
   },
   "file_extension": ".py",
   "mimetype": "text/x-python",
   "name": "python",
   "nbconvert_exporter": "python",
   "pygments_lexer": "ipython3",
   "version": "3.6.10"
  },
  "toc": {
   "base_numbering": 1,
   "nav_menu": {},
   "number_sections": true,
   "sideBar": true,
   "skip_h1_title": false,
   "title_cell": "Table of Contents",
   "title_sidebar": "Contents",
   "toc_cell": false,
   "toc_position": {},
   "toc_section_display": true,
   "toc_window_display": false
  }
 },
 "nbformat": 4,
 "nbformat_minor": 4
}
