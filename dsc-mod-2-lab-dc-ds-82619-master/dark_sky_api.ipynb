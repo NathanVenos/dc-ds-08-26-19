{
 "cells": [
  {
   "cell_type": "code",
   "execution_count": 1,
   "metadata": {
    "collapsed": true
   },
   "outputs": [],
   "source": [
    "import json\n",
    "import requests\n",
    "import pandas as pd\n",
    "pd.set_option('display.max_rows', 500)\n",
    "pd.set_option('display.max_columns', 500)"
   ]
  },
  {
   "cell_type": "code",
   "execution_count": 5,
   "metadata": {},
   "outputs": [],
   "source": [
    "with open(\"/Users/natha/.secret/dark_sky_api.json\") as api_key_file:\n",
    "    api_key = str(json.load(api_key_file)['api_key'])"
   ]
  },
  {
   "cell_type": "code",
   "execution_count": null,
   "metadata": {},
   "outputs": [],
   "source": [
    "url_base = 'https://api.darksky.net/forecast/'\n",
    "location = '38.8483,-77.0342'"
   ]
  },
  {
   "cell_type": "code",
   "execution_count": null,
   "metadata": {},
   "outputs": [],
   "source": [
    "url = url_base+api_key+'/'+location+'?exclude=minutely,daily,alerts,flags?extend=hourly'"
   ]
  },
  {
   "cell_type": "code",
   "execution_count": 33,
   "metadata": {
    "collapsed": true
   },
   "outputs": [],
   "source": [
    "# You don't have to use these classes, but we recommend them as a good place to start!\n",
    "class WeatherGetter():\n",
    "    \n",
    "    def __init__(self, api_key, location, dates_list):\n",
    "        self.api_key = api_key\n",
    "        self.location = location\n",
    "        self.dates_list = dates_list\n",
    "        self.url_base = 'https://api.darksky.net/forecast/'\n",
    "        \n",
    "    def determine_rainy_days(self):\n",
    "        self.rainy_days = {}\n",
    "        for date in self.dates_list:\n",
    "            url = self.url_base+self.api_key+'/'+self.location+','+date+'T12:00:00?exclude=currently,minutely,hourly,flags'\n",
    "#             print(url)\n",
    "            response = requests.get(url)\n",
    "            if response.status_code == 200:\n",
    "                data = response.json()\n",
    "                rainy_bool = (data['daily']['data'][0]['precipIntensity'] > 0)\n",
    "                self.rainy_days.update({date: rainy_bool})\n",
    "            else:\n",
    "                return pd.DataFrame.from_dict(self.rainy_days, orient='index')\n",
    "                print(\"Couldn't get data for \"+date)\n",
    "                break\n",
    "        return pd.DataFrame.from_dict(self.rainy_days, orient='index')"
   ]
  },
  {
   "cell_type": "code",
   "execution_count": 34,
   "metadata": {
    "collapsed": true
   },
   "outputs": [],
   "source": [
    "soccer_weather = WeatherGetter(api_key=my_api_key, location=berlin_location, dates_list=)"
   ]
  }
 ],
 "metadata": {
  "kernelspec": {
   "display_name": "Python 3",
   "language": "python",
   "name": "python3"
  },
  "language_info": {
   "codemirror_mode": {
    "name": "ipython",
    "version": 3
   },
   "file_extension": ".py",
   "mimetype": "text/x-python",
   "name": "python",
   "nbconvert_exporter": "python",
   "pygments_lexer": "ipython3",
   "version": "3.6.9"
  },
  "toc": {
   "base_numbering": 1,
   "nav_menu": {},
   "number_sections": true,
   "sideBar": true,
   "skip_h1_title": false,
   "title_cell": "Table of Contents",
   "title_sidebar": "Contents",
   "toc_cell": false,
   "toc_position": {},
   "toc_section_display": true,
   "toc_window_display": false
  }
 },
 "nbformat": 4,
 "nbformat_minor": 2
}
