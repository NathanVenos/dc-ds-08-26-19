{
 "cells": [
  {
   "cell_type": "code",
   "execution_count": 1,
   "metadata": {
    "ExecuteTime": {
     "end_time": "2019-11-13T15:53:58.485442Z",
     "start_time": "2019-11-13T15:53:56.465997Z"
    }
   },
   "outputs": [],
   "source": [
    "import re\n",
    "import time\n",
    "\n",
    "import numpy as np\n",
    "import pandas as pd\n",
    "import requests"
   ]
  },
  {
   "cell_type": "code",
   "execution_count": 2,
   "metadata": {
    "ExecuteTime": {
     "end_time": "2019-11-13T15:53:58.524578Z",
     "start_time": "2019-11-13T15:53:58.490985Z"
    }
   },
   "outputs": [],
   "source": [
    "# !pip install progressbar2\n",
    "from progressbar import progressbar"
   ]
  },
  {
   "cell_type": "markdown",
   "metadata": {},
   "source": [
    "## Scraping"
   ]
  },
  {
   "cell_type": "markdown",
   "metadata": {},
   "source": [
    "### Scraping Functions"
   ]
  },
  {
   "cell_type": "code",
   "execution_count": 3,
   "metadata": {
    "ExecuteTime": {
     "end_time": "2019-11-13T15:53:58.540666Z",
     "start_time": "2019-11-13T15:53:58.530500Z"
    }
   },
   "outputs": [],
   "source": [
    "# function to scrape reddit page (takes a reddit .json url)\n",
    "# returns posts \n",
    "\n",
    "def scraper_bike(url):\n",
    "    headers = {'User-Agent' : 'override this bad boy!'}\n",
    "    posts = []\n",
    "    after = {}\n",
    "\n",
    "    for page in progressbar(range(40)):\n",
    "        params = {'after': after}\n",
    "        pagepull = requests.get(url=url, params=params, headers=headers)\n",
    "        page_dict = pagepull.json()\n",
    "        posts.extend(page_dict['data']['children'])\n",
    "        after = page_dict['data']['after']\n",
    "        time.sleep(.2)\n",
    "        \n",
    "    return posts"
   ]
  },
  {
   "cell_type": "code",
   "execution_count": 4,
   "metadata": {
    "ExecuteTime": {
     "end_time": "2019-11-13T15:53:58.561721Z",
     "start_time": "2019-11-13T15:53:58.549700Z"
    }
   },
   "outputs": [],
   "source": [
    "# function to convert posts to DataFrame - won't allow duplicate posts since unique id 'name' is set as index\n",
    "# Extract: name (as index) and subreddit, selftext, title (as columns)\n",
    "\n",
    "def posts_to_df(post_list):\n",
    "    i = 0\n",
    "    post_dict = {}\n",
    "    \n",
    "    for post in post_list:\n",
    "        ind = post_list[i]['data']\n",
    "        post_dict[ind['name']] = [ind['subreddit'], ind['title'], ind['selftext']]\n",
    "        i += 1\n",
    "\n",
    "    df_name = pd.DataFrame(post_dict)\n",
    "    df_name = df_name.T\n",
    "    df_name.columns = ['subreddit', 'title', 'selftext']\n",
    "    \n",
    "    return df_name"
   ]
  },
  {
   "cell_type": "code",
   "execution_count": 5,
   "metadata": {
    "ExecuteTime": {
     "end_time": "2019-11-13T15:53:58.573021Z",
     "start_time": "2019-11-13T15:53:58.566052Z"
    }
   },
   "outputs": [],
   "source": [
    "# takes scraper function and url - outputs dataframe\n",
    "\n",
    "def scrape_to_df(scrape_func, url):\n",
    "    \n",
    "    return posts_to_df(scrape_func(url))"
   ]
  },
  {
   "cell_type": "code",
   "execution_count": 6,
   "metadata": {
    "ExecuteTime": {
     "end_time": "2019-11-13T15:53:58.585154Z",
     "start_time": "2019-11-13T15:53:58.577249Z"
    }
   },
   "outputs": [],
   "source": [
    "#### If you want to scrape repeatedly over time and add to a csv\n",
    "# scrape, import csv, concat, drop duplicate, and output to csv\n",
    "# takes in scraper function, url, csv filename to import, csv filename to output\n",
    "# Outputs - Concatenated DataFrame as csv\n",
    "\n",
    "def scrape_add(scrape_func, url, import_file, export_file):\n",
    "    scrape_df = posts_to_df(scrape_func(url))\n",
    "    imported_df = pd.read_csv(import_file, index_col = 'Unnamed: 0')\n",
    "    concat_df = pd.concat([imported_df, scrape_df])\n",
    "    concat_df = concat_df[~concat_df.index.duplicated(keep='first')]\n",
    "    concat_df.to_csv(export_file)"
   ]
  },
  {
   "cell_type": "markdown",
   "metadata": {},
   "source": [
    "### Run Scrape"
   ]
  },
  {
   "cell_type": "code",
   "execution_count": 7,
   "metadata": {
    "ExecuteTime": {
     "end_time": "2019-11-13T15:55:20.646095Z",
     "start_time": "2019-11-13T15:53:58.590618Z"
    }
   },
   "outputs": [
    {
     "name": "stderr",
     "output_type": "stream",
     "text": [
      "100% (40 of 40) |########################| Elapsed Time: 0:00:43 Time:  0:00:43\n",
      "100% (40 of 40) |########################| Elapsed Time: 0:00:38 Time:  0:00:38\n"
     ]
    }
   ],
   "source": [
    "# You can also put in any 2 subreddits in as the URL and get results for those\n",
    "\n",
    "nfltest = scrape_to_df(scraper_bike, 'https://www.reddit.com/r/nfl.json')\n",
    "nbatest = scrape_to_df(scraper_bike, 'https://www.reddit.com/r/nba.json')"
   ]
  },
  {
   "cell_type": "code",
   "execution_count": 8,
   "metadata": {
    "ExecuteTime": {
     "end_time": "2019-11-13T15:56:42.331903Z",
     "start_time": "2019-11-13T15:55:20.650019Z"
    }
   },
   "outputs": [
    {
     "name": "stderr",
     "output_type": "stream",
     "text": [
      "100% (40 of 40) |########################| Elapsed Time: 0:00:41 Time:  0:00:41\n",
      "100% (40 of 40) |########################| Elapsed Time: 0:00:39 Time:  0:00:39\n"
     ]
    }
   ],
   "source": [
    "politics_test = scrape_to_df(scraper_bike, 'https://www.reddit.com/r/politics.json')\n",
    "conservative_test = scrape_to_df(scraper_bike, 'https://www.reddit.com/r/conservative.json')"
   ]
  },
  {
   "cell_type": "code",
   "execution_count": 9,
   "metadata": {
    "ExecuteTime": {
     "end_time": "2019-11-13T15:56:42.366426Z",
     "start_time": "2019-11-13T15:56:42.339305Z"
    }
   },
   "outputs": [
    {
     "data": {
      "text/plain": [
       "(778, 3)"
      ]
     },
     "execution_count": 9,
     "metadata": {},
     "output_type": "execute_result"
    }
   ],
   "source": [
    "nbatest.shape"
   ]
  },
  {
   "cell_type": "code",
   "execution_count": 10,
   "metadata": {
    "ExecuteTime": {
     "end_time": "2019-11-13T15:56:42.381917Z",
     "start_time": "2019-11-13T15:56:42.371232Z"
    }
   },
   "outputs": [
    {
     "data": {
      "text/plain": [
       "(903, 3)"
      ]
     },
     "execution_count": 10,
     "metadata": {},
     "output_type": "execute_result"
    }
   ],
   "source": [
    "nfltest.shape"
   ]
  },
  {
   "cell_type": "markdown",
   "metadata": {},
   "source": [
    "##### These scrape_add functions add to already built csvs"
   ]
  },
  {
   "cell_type": "code",
   "execution_count": 11,
   "metadata": {
    "ExecuteTime": {
     "end_time": "2019-11-13T15:56:42.394481Z",
     "start_time": "2019-11-13T15:56:42.386533Z"
    }
   },
   "outputs": [],
   "source": [
    "# scrape_add(scraper_bike, 'https://www.reddit.com/r/CollegeBasketball/new.json', 'NCAA_Posts_Update2.csv', 'NCAA_Posts_Update3.csv')\n",
    "# scrape_add(scraper_bike, 'https://www.reddit.com/r/AskScience/new.json', 'AskSci_Posts_Update2.csv', 'AskSci_Posts_Update3.csv')\n",
    "# scrape_add(scraper_bike, 'https://www.reddit.com/r/nba/new.json', 'NBA_Posts_Update2.csv', 'NBA_Posts_Update3.csv')\n",
    "# scrape_add(scraper_bike, 'https://www.reddit.com/r/nfl/new.json', 'NFL_Posts_Update2.csv', 'NFL_Posts_Update3.csv')"
   ]
  },
  {
   "cell_type": "markdown",
   "metadata": {},
   "source": [
    "### Data Cleaning / Preprocessing"
   ]
  },
  {
   "cell_type": "code",
   "execution_count": 12,
   "metadata": {
    "ExecuteTime": {
     "end_time": "2019-11-13T15:56:44.527551Z",
     "start_time": "2019-11-13T15:56:42.398273Z"
    }
   },
   "outputs": [],
   "source": [
    "import nltk\n",
    "from nltk.stem import WordNetLemmatizer\n",
    "from nltk.tokenize import RegexpTokenizer, sent_tokenize\n",
    "from nltk.corpus import stopwords\n",
    "from sklearn.feature_extraction.text import CountVectorizer, TfidfVectorizer\n",
    "\n",
    "pd.set_option('max_colwidth', 300)"
   ]
  },
  {
   "cell_type": "code",
   "execution_count": 13,
   "metadata": {
    "ExecuteTime": {
     "end_time": "2019-11-13T15:56:44.564688Z",
     "start_time": "2019-11-13T15:56:44.533810Z"
    }
   },
   "outputs": [],
   "source": [
    "# drop column\n",
    "\n",
    "nfltest = nfltest.drop(columns = 'selftext')\n",
    "nbatest = nbatest.drop(columns = 'selftext')"
   ]
  },
  {
   "cell_type": "code",
   "execution_count": 14,
   "metadata": {
    "ExecuteTime": {
     "end_time": "2019-11-13T15:56:44.585526Z",
     "start_time": "2019-11-13T15:56:44.571910Z"
    }
   },
   "outputs": [],
   "source": [
    "# merge subreddit data\n",
    "\n",
    "train = pd.concat([nfltest, nbatest])"
   ]
  },
  {
   "cell_type": "code",
   "execution_count": 15,
   "metadata": {
    "ExecuteTime": {
     "end_time": "2019-11-13T15:56:44.627607Z",
     "start_time": "2019-11-13T15:56:44.591756Z"
    }
   },
   "outputs": [
    {
     "data": {
      "text/html": [
       "<div>\n",
       "<style scoped>\n",
       "    .dataframe tbody tr th:only-of-type {\n",
       "        vertical-align: middle;\n",
       "    }\n",
       "\n",
       "    .dataframe tbody tr th {\n",
       "        vertical-align: top;\n",
       "    }\n",
       "\n",
       "    .dataframe thead th {\n",
       "        text-align: right;\n",
       "    }\n",
       "</style>\n",
       "<table border=\"1\" class=\"dataframe\">\n",
       "  <thead>\n",
       "    <tr style=\"text-align: right;\">\n",
       "      <th></th>\n",
       "      <th>subreddit</th>\n",
       "      <th>title</th>\n",
       "    </tr>\n",
       "  </thead>\n",
       "  <tbody>\n",
       "    <tr>\n",
       "      <th>t3_dva38v</th>\n",
       "      <td>nfl</td>\n",
       "      <td>Official /r/NFL Sidebar contest</td>\n",
       "    </tr>\n",
       "    <tr>\n",
       "      <th>t3_dvfdhm</th>\n",
       "      <td>nfl</td>\n",
       "      <td>Official Week 10 R/NFL Power Rankings</td>\n",
       "    </tr>\n",
       "    <tr>\n",
       "      <th>t3_dvrvvy</th>\n",
       "      <td>nfl</td>\n",
       "      <td>[Falcons] YEAH, YOUNGHOE! 👉 @YoungHoeKoo has been named NFC Special Teams Player of the Week!</td>\n",
       "    </tr>\n",
       "    <tr>\n",
       "      <th>t3_dvhdmh</th>\n",
       "      <td>nfl</td>\n",
       "      <td>[Schefter] NFL clubs were informed today that a private workout will be held for Colin Kaepernick on Saturday in Atlanta. Session will include on-field work and an interview. All clubs are invited to attend, and video of both the workout and interview will be made available to clubs.</td>\n",
       "    </tr>\n",
       "    <tr>\n",
       "      <th>t3_dvrucj</th>\n",
       "      <td>nfl</td>\n",
       "      <td>[NFL] The AFC and NFC Offensive Players of the week are Lamar Jackson and Dalvin Cook</td>\n",
       "    </tr>\n",
       "    <tr>\n",
       "      <th>...</th>\n",
       "      <td>...</td>\n",
       "      <td>...</td>\n",
       "    </tr>\n",
       "    <tr>\n",
       "      <th>t3_du2fcc</th>\n",
       "      <td>nba</td>\n",
       "      <td>Paul George on Kawhi Leonard - “Everything is true about his makeup. He works hard, he’s a great teammate, great locker room guy. He actually does talk and he’s a fun guy. The legend is true.”</td>\n",
       "    </tr>\n",
       "    <tr>\n",
       "      <th>t3_dudqan</th>\n",
       "      <td>nba</td>\n",
       "      <td>Veteran Taj Gibson Joins Kevin Knox and Mitchell Robinson for Delta Road Bites</td>\n",
       "    </tr>\n",
       "    <tr>\n",
       "      <th>t3_du3gb5</th>\n",
       "      <td>nba</td>\n",
       "      <td>[Highlight] Gordon Hayward leaves the game after taking a hit from LaMarcus Aldridge on the screen</td>\n",
       "    </tr>\n",
       "    <tr>\n",
       "      <th>t3_duuarb</th>\n",
       "      <td>nba</td>\n",
       "      <td>What happens if a rookie plays entire games with no rest?</td>\n",
       "    </tr>\n",
       "    <tr>\n",
       "      <th>t3_dv3ys3</th>\n",
       "      <td>nba</td>\n",
       "      <td>Anyone not a fan of Kawhi Leonard?</td>\n",
       "    </tr>\n",
       "  </tbody>\n",
       "</table>\n",
       "<p>1681 rows × 2 columns</p>\n",
       "</div>"
      ],
      "text/plain": [
       "          subreddit  \\\n",
       "t3_dva38v       nfl   \n",
       "t3_dvfdhm       nfl   \n",
       "t3_dvrvvy       nfl   \n",
       "t3_dvhdmh       nfl   \n",
       "t3_dvrucj       nfl   \n",
       "...             ...   \n",
       "t3_du2fcc       nba   \n",
       "t3_dudqan       nba   \n",
       "t3_du3gb5       nba   \n",
       "t3_duuarb       nba   \n",
       "t3_dv3ys3       nba   \n",
       "\n",
       "                                                                                                                                                                                                                                                                                                  title  \n",
       "t3_dva38v                                                                                                                                                                                                                                                               Official /r/NFL Sidebar contest  \n",
       "t3_dvfdhm                                                                                                                                                                                                                                                         Official Week 10 R/NFL Power Rankings  \n",
       "t3_dvrvvy                                                                                                                                                                                                 [Falcons] YEAH, YOUNGHOE! 👉 @YoungHoeKoo has been named NFC Special Teams Player of the Week!  \n",
       "t3_dvhdmh  [Schefter] NFL clubs were informed today that a private workout will be held for Colin Kaepernick on Saturday in Atlanta. Session will include on-field work and an interview. All clubs are invited to attend, and video of both the workout and interview will be made available to clubs.  \n",
       "t3_dvrucj                                                                                                                                                                                                         [NFL] The AFC and NFC Offensive Players of the week are Lamar Jackson and Dalvin Cook  \n",
       "...                                                                                                                                                                                                                                                                                                 ...  \n",
       "t3_du2fcc                                                                                              Paul George on Kawhi Leonard - “Everything is true about his makeup. He works hard, he’s a great teammate, great locker room guy. He actually does talk and he’s a fun guy. The legend is true.”  \n",
       "t3_dudqan                                                                                                                                                                                                                Veteran Taj Gibson Joins Kevin Knox and Mitchell Robinson for Delta Road Bites  \n",
       "t3_du3gb5                                                                                                                                                                                            [Highlight] Gordon Hayward leaves the game after taking a hit from LaMarcus Aldridge on the screen  \n",
       "t3_duuarb                                                                                                                                                                                                                                     What happens if a rookie plays entire games with no rest?  \n",
       "t3_dv3ys3                                                                                                                                                                                                                                                            Anyone not a fan of Kawhi Leonard?  \n",
       "\n",
       "[1681 rows x 2 columns]"
      ]
     },
     "execution_count": 15,
     "metadata": {},
     "output_type": "execute_result"
    }
   ],
   "source": [
    "train"
   ]
  },
  {
   "cell_type": "markdown",
   "metadata": {},
   "source": [
    "##### Tokenize (grab only word characters)"
   ]
  },
  {
   "cell_type": "code",
   "execution_count": 16,
   "metadata": {
    "ExecuteTime": {
     "end_time": "2019-11-13T15:56:44.638795Z",
     "start_time": "2019-11-13T15:56:44.631554Z"
    }
   },
   "outputs": [],
   "source": [
    "word_tokenizer = RegexpTokenizer(r'\\w+')"
   ]
  },
  {
   "cell_type": "code",
   "execution_count": 17,
   "metadata": {
    "ExecuteTime": {
     "end_time": "2019-11-13T15:56:44.686418Z",
     "start_time": "2019-11-13T15:56:44.642463Z"
    }
   },
   "outputs": [],
   "source": [
    "train['title'] = train['title'].map(lambda x: word_tokenizer.tokenize(x.lower()))"
   ]
  },
  {
   "cell_type": "code",
   "execution_count": 18,
   "metadata": {
    "ExecuteTime": {
     "end_time": "2019-11-13T15:56:44.732464Z",
     "start_time": "2019-11-13T15:56:44.713393Z"
    }
   },
   "outputs": [],
   "source": [
    "# rejoin list of tokenized words into single string for each row\n",
    "\n",
    "train['title'] = train['title'].map(lambda x: ' '.join(x))"
   ]
  },
  {
   "cell_type": "code",
   "execution_count": 19,
   "metadata": {
    "ExecuteTime": {
     "end_time": "2019-11-13T15:56:44.769528Z",
     "start_time": "2019-11-13T15:56:44.753383Z"
    }
   },
   "outputs": [
    {
     "data": {
      "text/plain": [
       "t3_dva38v                                                                                                                                                                                                                                                            official r nfl sidebar contest\n",
       "t3_dvfdhm                                                                                                                                                                                                                                                     official week 10 r nfl power rankings\n",
       "t3_dvrvvy                                                                                                                                                                                                     falcons yeah younghoe younghoekoo has been named nfc special teams player of the week\n",
       "t3_dvhdmh    schefter nfl clubs were informed today that a private workout will be held for colin kaepernick on saturday in atlanta session will include on field work and an interview all clubs are invited to attend and video of both the workout and interview will be made available to clubs\n",
       "t3_dvrucj                                                                                                                                                                                                       nfl the afc and nfc offensive players of the week are lamar jackson and dalvin cook\n",
       "Name: title, dtype: object"
      ]
     },
     "execution_count": 19,
     "metadata": {},
     "output_type": "execute_result"
    }
   ],
   "source": [
    "train['title'][0:5]"
   ]
  },
  {
   "cell_type": "code",
   "execution_count": 20,
   "metadata": {
    "ExecuteTime": {
     "end_time": "2019-11-13T15:56:44.789356Z",
     "start_time": "2019-11-13T15:56:44.774544Z"
    }
   },
   "outputs": [
    {
     "data": {
      "text/plain": [
       "t3_dva38v                                                                                                                                                                                                                                                            official r nfl sidebar contest\n",
       "t3_dvfdhm                                                                                                                                                                                                                                                     official week 10 r nfl power rankings\n",
       "t3_dvrvvy                                                                                                                                                                                                     falcons yeah younghoe younghoekoo has been named nfc special teams player of the week\n",
       "t3_dvhdmh    schefter nfl clubs were informed today that a private workout will be held for colin kaepernick on saturday in atlanta session will include on field work and an interview all clubs are invited to attend and video of both the workout and interview will be made available to clubs\n",
       "t3_dvrucj                                                                                                                                                                                                       nfl the afc and nfc offensive players of the week are lamar jackson and dalvin cook\n",
       "Name: title, dtype: object"
      ]
     },
     "execution_count": 20,
     "metadata": {},
     "output_type": "execute_result"
    }
   ],
   "source": [
    "train['title'][0:5]"
   ]
  },
  {
   "cell_type": "markdown",
   "metadata": {},
   "source": [
    "### Train test split and converting series to list of strings then to array"
   ]
  },
  {
   "cell_type": "code",
   "execution_count": 21,
   "metadata": {
    "ExecuteTime": {
     "end_time": "2019-11-13T15:56:44.805456Z",
     "start_time": "2019-11-13T15:56:44.792342Z"
    }
   },
   "outputs": [],
   "source": [
    "X = train[['title']]\n",
    "y = train['subreddit']"
   ]
  },
  {
   "cell_type": "code",
   "execution_count": 22,
   "metadata": {
    "ExecuteTime": {
     "end_time": "2019-11-13T15:56:44.835374Z",
     "start_time": "2019-11-13T15:56:44.813202Z"
    }
   },
   "outputs": [],
   "source": [
    "from sklearn.model_selection import train_test_split\n",
    "\n",
    "X_train, X_test, y_train, y_test = train_test_split(X,\n",
    "                                                    y,\n",
    "                                                    test_size=.25,\n",
    "                                                    random_state=42,\n",
    "                                                    stratify=y)"
   ]
  },
  {
   "cell_type": "code",
   "execution_count": 23,
   "metadata": {
    "ExecuteTime": {
     "end_time": "2019-11-13T15:56:44.869445Z",
     "start_time": "2019-11-13T15:56:44.840702Z"
    }
   },
   "outputs": [
    {
     "data": {
      "text/plain": [
       "nfl    0.53718\n",
       "nba    0.46282\n",
       "Name: subreddit, dtype: float64"
      ]
     },
     "execution_count": 23,
     "metadata": {},
     "output_type": "execute_result"
    }
   ],
   "source": [
    "# baseline is\n",
    "\n",
    "y.value_counts(normalize=True)"
   ]
  },
  {
   "cell_type": "code",
   "execution_count": 24,
   "metadata": {
    "ExecuteTime": {
     "end_time": "2019-11-13T15:56:44.888761Z",
     "start_time": "2019-11-13T15:56:44.875670Z"
    }
   },
   "outputs": [],
   "source": [
    "# create our training data list - this is a list of strings, with each string being a post title\n",
    "\n",
    "clean_train_data = []\n",
    "\n",
    "for traindata in X_train['title']:\n",
    "    clean_train_data.append(traindata)"
   ]
  },
  {
   "cell_type": "code",
   "execution_count": 25,
   "metadata": {
    "ExecuteTime": {
     "end_time": "2019-11-13T15:56:44.901127Z",
     "start_time": "2019-11-13T15:56:44.892759Z"
    }
   },
   "outputs": [
    {
     "data": {
      "text/plain": [
       "1260"
      ]
     },
     "execution_count": 25,
     "metadata": {},
     "output_type": "execute_result"
    }
   ],
   "source": [
    "len(clean_train_data)"
   ]
  },
  {
   "cell_type": "code",
   "execution_count": 26,
   "metadata": {
    "ExecuteTime": {
     "end_time": "2019-11-13T15:56:44.909405Z",
     "start_time": "2019-11-13T15:56:44.905406Z"
    }
   },
   "outputs": [],
   "source": [
    "# create test data list\n",
    "\n",
    "clean_test_data = []\n",
    "\n",
    "for testdata in X_test['title']:\n",
    "    clean_test_data.append(testdata)"
   ]
  },
  {
   "cell_type": "code",
   "execution_count": 27,
   "metadata": {
    "ExecuteTime": {
     "end_time": "2019-11-13T15:56:44.925013Z",
     "start_time": "2019-11-13T15:56:44.912989Z"
    }
   },
   "outputs": [
    {
     "data": {
      "text/plain": [
       "421"
      ]
     },
     "execution_count": 27,
     "metadata": {},
     "output_type": "execute_result"
    }
   ],
   "source": [
    "len(clean_test_data)"
   ]
  },
  {
   "cell_type": "markdown",
   "metadata": {},
   "source": [
    "### Count Vectorizer"
   ]
  },
  {
   "cell_type": "code",
   "execution_count": 28,
   "metadata": {
    "ExecuteTime": {
     "end_time": "2019-11-13T15:56:44.945106Z",
     "start_time": "2019-11-13T15:56:44.937735Z"
    }
   },
   "outputs": [],
   "source": [
    "# instantiate our CountVectorizer. This counts the number of appearances of all the words in our training data and\n",
    "# eliminates common english stop words. 5000 max features works well for our purposes (tested various numbers). Our\n",
    "# data is already preprocessed and tokenized manually earlier. ngram_range is 1,3, although all or nearly all our\n",
    "# features are single words\n",
    "\n",
    "vectorizer = CountVectorizer(analyzer=\"word\",\n",
    "                             tokenizer=None,\n",
    "                             preprocessor=None,\n",
    "                             stop_words='english',\n",
    "                             max_features=5000,\n",
    "                             ngram_range=(1, 3))"
   ]
  },
  {
   "cell_type": "code",
   "execution_count": 29,
   "metadata": {
    "ExecuteTime": {
     "end_time": "2019-11-13T15:56:45.278088Z",
     "start_time": "2019-11-13T15:56:44.948319Z"
    }
   },
   "outputs": [],
   "source": [
    "# fit our training data and test data lists to our count_vectorizer\n",
    "\n",
    "train_data_features = vectorizer.fit_transform(clean_train_data)\n",
    "\n",
    "test_data_features = vectorizer.transform(clean_test_data)"
   ]
  },
  {
   "cell_type": "code",
   "execution_count": 30,
   "metadata": {
    "ExecuteTime": {
     "end_time": "2019-11-13T15:56:45.307285Z",
     "start_time": "2019-11-13T15:56:45.282539Z"
    }
   },
   "outputs": [],
   "source": [
    "# convert to array\n",
    "\n",
    "train_data_features = train_data_features.toarray()"
   ]
  },
  {
   "cell_type": "code",
   "execution_count": 31,
   "metadata": {
    "ExecuteTime": {
     "end_time": "2019-11-13T15:56:45.322863Z",
     "start_time": "2019-11-13T15:56:45.311382Z"
    },
    "scrolled": true
   },
   "outputs": [
    {
     "data": {
      "text/plain": [
       "((1260, 5000), (421, 5000))"
      ]
     },
     "execution_count": 31,
     "metadata": {},
     "output_type": "execute_result"
    }
   ],
   "source": [
    "# check shapes\n",
    "\n",
    "train_data_features.shape, test_data_features.shape"
   ]
  },
  {
   "cell_type": "code",
   "execution_count": 32,
   "metadata": {
    "ExecuteTime": {
     "end_time": "2019-11-13T15:56:45.341173Z",
     "start_time": "2019-11-13T15:56:45.327223Z"
    },
    "scrolled": true
   },
   "outputs": [],
   "source": [
    "# I wanted check that the features corpus was as expected - removed print statement for readability\n",
    "\n",
    "vocab = vectorizer.get_feature_names()"
   ]
  },
  {
   "cell_type": "code",
   "execution_count": 33,
   "metadata": {
    "ExecuteTime": {
     "end_time": "2019-11-13T15:56:45.360805Z",
     "start_time": "2019-11-13T15:56:45.346081Z"
    },
    "scrolled": true
   },
   "outputs": [
    {
     "data": {
      "text/plain": [
       "['000',\n",
       " '10',\n",
       " '10 10',\n",
       " '10 14',\n",
       " '10 2019',\n",
       " '10 32',\n",
       " '10 assists',\n",
       " '10 game',\n",
       " '10 games',\n",
       " '10 games seahawks',\n",
       " '10 hawks',\n",
       " '10 hawks vs',\n",
       " '10 mnf',\n",
       " '10 nfl',\n",
       " '10 points',\n",
       " '10 teams',\n",
       " '10 waived',\n",
       " '10 weeks',\n",
       " '10 years',\n",
       " '100',\n",
       " '100 possessions',\n",
       " '100 yard',\n",
       " '100 yards',\n",
       " '1000',\n",
       " '101',\n",
       " '102',\n",
       " '104',\n",
       " '106',\n",
       " '107',\n",
       " '108',\n",
       " '108 87',\n",
       " '109',\n",
       " '11',\n",
       " '11 10',\n",
       " '11 10 hawks',\n",
       " '11 11',\n",
       " '11 12',\n",
       " '11 2019',\n",
       " '11 asts',\n",
       " '11 rebounds',\n",
       " '11 rebounds assists',\n",
       " '11 rebs',\n",
       " '11 shooting',\n",
       " '11 signed',\n",
       " '110',\n",
       " '111',\n",
       " '113',\n",
       " '114',\n",
       " '115',\n",
       " '116',\n",
       " '117',\n",
       " '119',\n",
       " '12',\n",
       " '12 2019',\n",
       " '12 22',\n",
       " '12 points',\n",
       " '12 team',\n",
       " '121',\n",
       " '123',\n",
       " '125',\n",
       " '12th',\n",
       " '13',\n",
       " '13 2019',\n",
       " '131',\n",
       " '136',\n",
       " '14',\n",
       " '14 shooting',\n",
       " '15',\n",
       " '15 pass',\n",
       " '15 shooting',\n",
       " '15 years',\n",
       " '150',\n",
       " '158',\n",
       " '158 rating',\n",
       " '16',\n",
       " '16 games',\n",
       " '16 points',\n",
       " '17',\n",
       " '176',\n",
       " '17th',\n",
       " '18',\n",
       " '19',\n",
       " '1950',\n",
       " '1983',\n",
       " '1984',\n",
       " '1985',\n",
       " '1986',\n",
       " '1990',\n",
       " '1st',\n",
       " '1st amp',\n",
       " '1st amp run',\n",
       " '20',\n",
       " '20 points',\n",
       " '20 pts',\n",
       " '20 yards',\n",
       " '2003',\n",
       " '2005',\n",
       " '2006',\n",
       " '2007',\n",
       " '2009',\n",
       " '2011',\n",
       " '2012',\n",
       " '2013',\n",
       " '2014',\n",
       " '2015',\n",
       " '2016',\n",
       " '2017',\n",
       " '2017 season',\n",
       " '2018',\n",
       " '2019',\n",
       " '2019 11',\n",
       " '2019 11 10',\n",
       " '2019 11 11',\n",
       " '2019 11 12',\n",
       " '2019 season',\n",
       " '202',\n",
       " '2020',\n",
       " '21',\n",
       " '21 days',\n",
       " '22',\n",
       " '23',\n",
       " '24',\n",
       " '24 targets',\n",
       " '24 yard',\n",
       " '25',\n",
       " '25 points',\n",
       " '25 points rebounds',\n",
       " '258',\n",
       " '27',\n",
       " '27 pts',\n",
       " '28',\n",
       " '28 14',\n",
       " '29',\n",
       " '2m',\n",
       " '2nd',\n",
       " '2nd amp',\n",
       " '2nd best',\n",
       " '2nd half',\n",
       " '30',\n",
       " '30 points',\n",
       " '30 pts',\n",
       " '300',\n",
       " '300 yard',\n",
       " '300 yard passing',\n",
       " '31',\n",
       " '32',\n",
       " '33',\n",
       " '34',\n",
       " '35',\n",
       " '36',\n",
       " '38',\n",
       " '39',\n",
       " '3p',\n",
       " '3pt',\n",
       " '3rd',\n",
       " '3rd amp',\n",
       " '3rd quarter',\n",
       " '3rd round',\n",
       " '3rd round pick',\n",
       " '40',\n",
       " '400',\n",
       " '41',\n",
       " '42',\n",
       " '42 10',\n",
       " '42 pts',\n",
       " '42 pts 11',\n",
       " '43',\n",
       " '44',\n",
       " '45',\n",
       " '47',\n",
       " '48',\n",
       " '49',\n",
       " '49ers',\n",
       " '49ers seahawks',\n",
       " '49ers week',\n",
       " '49ers wr',\n",
       " '4th',\n",
       " '4th amp',\n",
       " '4th quarter',\n",
       " '50',\n",
       " '500',\n",
       " '52',\n",
       " '53',\n",
       " '53 man',\n",
       " '53 man roster',\n",
       " '54',\n",
       " '55',\n",
       " '57',\n",
       " '58',\n",
       " '59',\n",
       " '5th',\n",
       " '61',\n",
       " '63',\n",
       " '65',\n",
       " '66',\n",
       " '6th',\n",
       " '70',\n",
       " '705',\n",
       " '71',\n",
       " '73']"
      ]
     },
     "execution_count": 33,
     "metadata": {},
     "output_type": "execute_result"
    }
   ],
   "source": [
    "vocab[0:200]"
   ]
  },
  {
   "cell_type": "markdown",
   "metadata": {},
   "source": [
    "## MODELING"
   ]
  },
  {
   "cell_type": "markdown",
   "metadata": {},
   "source": [
    "### Logistic Regression"
   ]
  },
  {
   "cell_type": "code",
   "execution_count": 34,
   "metadata": {
    "ExecuteTime": {
     "end_time": "2019-11-13T15:56:45.369891Z",
     "start_time": "2019-11-13T15:56:45.363910Z"
    }
   },
   "outputs": [],
   "source": [
    "from sklearn.linear_model import LogisticRegression"
   ]
  },
  {
   "cell_type": "code",
   "execution_count": 35,
   "metadata": {
    "ExecuteTime": {
     "end_time": "2019-11-13T15:56:45.381806Z",
     "start_time": "2019-11-13T15:56:45.373889Z"
    }
   },
   "outputs": [],
   "source": [
    "# fit logistic regression model\n",
    "\n",
    "lr = LogisticRegression(penalty='l2')"
   ]
  },
  {
   "cell_type": "code",
   "execution_count": 36,
   "metadata": {
    "ExecuteTime": {
     "end_time": "2019-11-13T15:56:45.393795Z",
     "start_time": "2019-11-13T15:56:45.384897Z"
    }
   },
   "outputs": [
    {
     "data": {
      "text/plain": [
       "((1260, 5000), (1260,))"
      ]
     },
     "execution_count": 36,
     "metadata": {},
     "output_type": "execute_result"
    }
   ],
   "source": [
    "# shape check\n",
    "\n",
    "train_data_features.shape, y_train.shape"
   ]
  },
  {
   "cell_type": "code",
   "execution_count": 37,
   "metadata": {
    "ExecuteTime": {
     "end_time": "2019-11-13T15:56:45.548324Z",
     "start_time": "2019-11-13T15:56:45.396874Z"
    }
   },
   "outputs": [
    {
     "name": "stderr",
     "output_type": "stream",
     "text": [
      "C:\\Users\\natha\\Anaconda3\\lib\\site-packages\\sklearn\\linear_model\\logistic.py:432: FutureWarning: Default solver will be changed to 'lbfgs' in 0.22. Specify a solver to silence this warning.\n",
      "  FutureWarning)\n"
     ]
    },
    {
     "data": {
      "text/plain": [
       "LogisticRegression(C=1.0, class_weight=None, dual=False, fit_intercept=True,\n",
       "                   intercept_scaling=1, l1_ratio=None, max_iter=100,\n",
       "                   multi_class='warn', n_jobs=None, penalty='l2',\n",
       "                   random_state=None, solver='warn', tol=0.0001, verbose=0,\n",
       "                   warm_start=False)"
      ]
     },
     "execution_count": 37,
     "metadata": {},
     "output_type": "execute_result"
    }
   ],
   "source": [
    "lr.fit(train_data_features, y_train)"
   ]
  },
  {
   "cell_type": "code",
   "execution_count": 38,
   "metadata": {
    "ExecuteTime": {
     "end_time": "2019-11-13T15:56:45.630749Z",
     "start_time": "2019-11-13T15:56:45.551731Z"
    }
   },
   "outputs": [
    {
     "data": {
      "text/plain": [
       "0.9984126984126984"
      ]
     },
     "execution_count": 38,
     "metadata": {},
     "output_type": "execute_result"
    }
   ],
   "source": [
    "lr.score(train_data_features, y_train)"
   ]
  },
  {
   "cell_type": "code",
   "execution_count": 39,
   "metadata": {
    "ExecuteTime": {
     "end_time": "2019-11-13T15:56:45.647092Z",
     "start_time": "2019-11-13T15:56:45.633710Z"
    }
   },
   "outputs": [
    {
     "data": {
      "text/plain": [
       "0.9239904988123515"
      ]
     },
     "execution_count": 39,
     "metadata": {},
     "output_type": "execute_result"
    }
   ],
   "source": [
    "lr.score(test_data_features, y_test)"
   ]
  },
  {
   "cell_type": "markdown",
   "metadata": {},
   "source": [
    "### Feature comparison"
   ]
  },
  {
   "cell_type": "markdown",
   "metadata": {},
   "source": [
    "Creates a dataframe that matches features to coefficients"
   ]
  },
  {
   "cell_type": "code",
   "execution_count": 40,
   "metadata": {
    "ExecuteTime": {
     "end_time": "2019-11-13T15:56:45.660741Z",
     "start_time": "2019-11-13T15:56:45.651093Z"
    }
   },
   "outputs": [],
   "source": [
    "coef_list = lr.coef_.tolist()"
   ]
  },
  {
   "cell_type": "code",
   "execution_count": 41,
   "metadata": {
    "ExecuteTime": {
     "end_time": "2019-11-13T15:56:45.670789Z",
     "start_time": "2019-11-13T15:56:45.663881Z"
    }
   },
   "outputs": [],
   "source": [
    "coef_list = coef_list[0]"
   ]
  },
  {
   "cell_type": "code",
   "execution_count": 42,
   "metadata": {
    "ExecuteTime": {
     "end_time": "2019-11-13T15:56:45.695008Z",
     "start_time": "2019-11-13T15:56:45.674790Z"
    }
   },
   "outputs": [],
   "source": [
    "coef_df = pd.DataFrame({'features': vectorizer.get_feature_names(),\n",
    "                        'coefs': coef_list})"
   ]
  },
  {
   "cell_type": "code",
   "execution_count": 43,
   "metadata": {
    "ExecuteTime": {
     "end_time": "2019-11-13T15:56:45.726735Z",
     "start_time": "2019-11-13T15:56:45.701307Z"
    },
    "scrolled": true
   },
   "outputs": [
    {
     "data": {
      "text/html": [
       "<div>\n",
       "<style scoped>\n",
       "    .dataframe tbody tr th:only-of-type {\n",
       "        vertical-align: middle;\n",
       "    }\n",
       "\n",
       "    .dataframe tbody tr th {\n",
       "        vertical-align: top;\n",
       "    }\n",
       "\n",
       "    .dataframe thead th {\n",
       "        text-align: right;\n",
       "    }\n",
       "</style>\n",
       "<table border=\"1\" class=\"dataframe\">\n",
       "  <thead>\n",
       "    <tr style=\"text-align: right;\">\n",
       "      <th></th>\n",
       "      <th>features</th>\n",
       "      <th>coefs</th>\n",
       "    </tr>\n",
       "  </thead>\n",
       "  <tbody>\n",
       "    <tr>\n",
       "      <th>1866</th>\n",
       "      <td>nba</td>\n",
       "      <td>-2.298906</td>\n",
       "    </tr>\n",
       "    <tr>\n",
       "      <th>1605</th>\n",
       "      <td>lebron</td>\n",
       "      <td>-1.373281</td>\n",
       "    </tr>\n",
       "    <tr>\n",
       "      <th>1548</th>\n",
       "      <td>knicks</td>\n",
       "      <td>-1.165539</td>\n",
       "    </tr>\n",
       "    <tr>\n",
       "      <th>1511</th>\n",
       "      <td>kawhi</td>\n",
       "      <td>-1.094964</td>\n",
       "    </tr>\n",
       "    <tr>\n",
       "      <th>3307</th>\n",
       "      <td>raptors</td>\n",
       "      <td>-1.017577</td>\n",
       "    </tr>\n",
       "    <tr>\n",
       "      <th>...</th>\n",
       "      <td>...</td>\n",
       "      <td>...</td>\n",
       "    </tr>\n",
       "    <tr>\n",
       "      <th>4557</th>\n",
       "      <td>td</td>\n",
       "      <td>1.306260</td>\n",
       "    </tr>\n",
       "    <tr>\n",
       "      <th>4952</th>\n",
       "      <td>yards</td>\n",
       "      <td>1.314809</td>\n",
       "    </tr>\n",
       "    <tr>\n",
       "      <th>4857</th>\n",
       "      <td>week</td>\n",
       "      <td>1.416399</td>\n",
       "    </tr>\n",
       "    <tr>\n",
       "      <th>172</th>\n",
       "      <td>49ers</td>\n",
       "      <td>1.475019</td>\n",
       "    </tr>\n",
       "    <tr>\n",
       "      <th>1901</th>\n",
       "      <td>nfl</td>\n",
       "      <td>2.213621</td>\n",
       "    </tr>\n",
       "  </tbody>\n",
       "</table>\n",
       "<p>5000 rows × 2 columns</p>\n",
       "</div>"
      ],
      "text/plain": [
       "     features     coefs\n",
       "1866      nba -2.298906\n",
       "1605   lebron -1.373281\n",
       "1548   knicks -1.165539\n",
       "1511    kawhi -1.094964\n",
       "3307  raptors -1.017577\n",
       "...       ...       ...\n",
       "4557       td  1.306260\n",
       "4952    yards  1.314809\n",
       "4857     week  1.416399\n",
       "172     49ers  1.475019\n",
       "1901      nfl  2.213621\n",
       "\n",
       "[5000 rows x 2 columns]"
      ]
     },
     "execution_count": 43,
     "metadata": {},
     "output_type": "execute_result"
    }
   ],
   "source": [
    "coef_df.sort_values(by = ['coefs'])"
   ]
  },
  {
   "cell_type": "markdown",
   "metadata": {},
   "source": [
    "### Let's throw out these unfair words and rerun"
   ]
  },
  {
   "cell_type": "code",
   "execution_count": 44,
   "metadata": {
    "ExecuteTime": {
     "end_time": "2019-11-13T15:56:45.741982Z",
     "start_time": "2019-11-13T15:56:45.731017Z"
    }
   },
   "outputs": [],
   "source": [
    "stopwords = set(stopwords.words('english'))\n",
    "\n",
    "extra_stopwords = ['nba', 'basketball', 'football', 'nfl']\n",
    "\n",
    "stopwords.update(extra_stopwords)"
   ]
  },
  {
   "cell_type": "code",
   "execution_count": 45,
   "metadata": {
    "ExecuteTime": {
     "end_time": "2019-11-13T15:56:46.113911Z",
     "start_time": "2019-11-13T15:56:45.743192Z"
    }
   },
   "outputs": [
    {
     "data": {
      "text/plain": [
       "((1260, 5000), (421, 5000))"
      ]
     },
     "execution_count": 45,
     "metadata": {},
     "output_type": "execute_result"
    }
   ],
   "source": [
    "vectorizer = CountVectorizer(analyzer = \"word\",\n",
    "                             tokenizer = None,\n",
    "                             preprocessor = None,\n",
    "                             stop_words = stopwords,\n",
    "                             max_features = 5000,\n",
    "                             ngram_range = (1, 3))\n",
    "\n",
    "train_data_features = vectorizer.fit_transform(clean_train_data)\n",
    "\n",
    "test_data_features = vectorizer.transform(clean_test_data)\n",
    "\n",
    "train_data_features = train_data_features.toarray()\n",
    "\n",
    "train_data_features.shape, test_data_features.shape"
   ]
  },
  {
   "cell_type": "code",
   "execution_count": 46,
   "metadata": {
    "ExecuteTime": {
     "end_time": "2019-11-13T15:56:46.258214Z",
     "start_time": "2019-11-13T15:56:46.116989Z"
    }
   },
   "outputs": [
    {
     "name": "stderr",
     "output_type": "stream",
     "text": [
      "C:\\Users\\natha\\Anaconda3\\lib\\site-packages\\sklearn\\linear_model\\logistic.py:432: FutureWarning: Default solver will be changed to 'lbfgs' in 0.22. Specify a solver to silence this warning.\n",
      "  FutureWarning)\n"
     ]
    },
    {
     "data": {
      "text/plain": [
       "LogisticRegression(C=1.0, class_weight=None, dual=False, fit_intercept=True,\n",
       "                   intercept_scaling=1, l1_ratio=None, max_iter=100,\n",
       "                   multi_class='warn', n_jobs=None, penalty='l2',\n",
       "                   random_state=None, solver='warn', tol=0.0001, verbose=0,\n",
       "                   warm_start=False)"
      ]
     },
     "execution_count": 46,
     "metadata": {},
     "output_type": "execute_result"
    }
   ],
   "source": [
    "lr.fit(train_data_features, y_train)"
   ]
  },
  {
   "cell_type": "code",
   "execution_count": 47,
   "metadata": {
    "ExecuteTime": {
     "end_time": "2019-11-13T15:56:46.347408Z",
     "start_time": "2019-11-13T15:56:46.262389Z"
    }
   },
   "outputs": [
    {
     "data": {
      "text/plain": [
       "0.9968253968253968"
      ]
     },
     "execution_count": 47,
     "metadata": {},
     "output_type": "execute_result"
    }
   ],
   "source": [
    "lr.score(train_data_features, y_train)"
   ]
  },
  {
   "cell_type": "code",
   "execution_count": 48,
   "metadata": {
    "ExecuteTime": {
     "end_time": "2019-11-13T15:56:46.366981Z",
     "start_time": "2019-11-13T15:56:46.352724Z"
    }
   },
   "outputs": [
    {
     "data": {
      "text/plain": [
       "0.8907363420427553"
      ]
     },
     "execution_count": 48,
     "metadata": {},
     "output_type": "execute_result"
    }
   ],
   "source": [
    "lr.score(test_data_features, y_test)"
   ]
  },
  {
   "cell_type": "code",
   "execution_count": 49,
   "metadata": {
    "ExecuteTime": {
     "end_time": "2019-11-13T15:56:46.415332Z",
     "start_time": "2019-11-13T15:56:46.371045Z"
    },
    "scrolled": true
   },
   "outputs": [
    {
     "data": {
      "text/html": [
       "<div>\n",
       "<style scoped>\n",
       "    .dataframe tbody tr th:only-of-type {\n",
       "        vertical-align: middle;\n",
       "    }\n",
       "\n",
       "    .dataframe tbody tr th {\n",
       "        vertical-align: top;\n",
       "    }\n",
       "\n",
       "    .dataframe thead th {\n",
       "        text-align: right;\n",
       "    }\n",
       "</style>\n",
       "<table border=\"1\" class=\"dataframe\">\n",
       "  <thead>\n",
       "    <tr style=\"text-align: right;\">\n",
       "      <th></th>\n",
       "      <th>features</th>\n",
       "      <th>coefs</th>\n",
       "    </tr>\n",
       "  </thead>\n",
       "  <tbody>\n",
       "    <tr>\n",
       "      <th>1697</th>\n",
       "      <td>lebron</td>\n",
       "      <td>-1.365517</td>\n",
       "    </tr>\n",
       "    <tr>\n",
       "      <th>1625</th>\n",
       "      <td>knicks</td>\n",
       "      <td>-1.150627</td>\n",
       "    </tr>\n",
       "    <tr>\n",
       "      <th>1587</th>\n",
       "      <td>kawhi</td>\n",
       "      <td>-1.110473</td>\n",
       "    </tr>\n",
       "    <tr>\n",
       "      <th>4480</th>\n",
       "      <td>suns</td>\n",
       "      <td>-1.077362</td>\n",
       "    </tr>\n",
       "    <tr>\n",
       "      <th>1647</th>\n",
       "      <td>lakers</td>\n",
       "      <td>-1.030344</td>\n",
       "    </tr>\n",
       "    <tr>\n",
       "      <th>...</th>\n",
       "      <td>...</td>\n",
       "      <td>...</td>\n",
       "    </tr>\n",
       "    <tr>\n",
       "      <th>4947</th>\n",
       "      <td>yards</td>\n",
       "      <td>1.257305</td>\n",
       "    </tr>\n",
       "    <tr>\n",
       "      <th>2854</th>\n",
       "      <td>qb</td>\n",
       "      <td>1.279346</td>\n",
       "    </tr>\n",
       "    <tr>\n",
       "      <th>4524</th>\n",
       "      <td>td</td>\n",
       "      <td>1.327297</td>\n",
       "    </tr>\n",
       "    <tr>\n",
       "      <th>174</th>\n",
       "      <td>49ers</td>\n",
       "      <td>1.495135</td>\n",
       "    </tr>\n",
       "    <tr>\n",
       "      <th>4842</th>\n",
       "      <td>week</td>\n",
       "      <td>1.571731</td>\n",
       "    </tr>\n",
       "  </tbody>\n",
       "</table>\n",
       "<p>5000 rows × 2 columns</p>\n",
       "</div>"
      ],
      "text/plain": [
       "     features     coefs\n",
       "1697   lebron -1.365517\n",
       "1625   knicks -1.150627\n",
       "1587    kawhi -1.110473\n",
       "4480     suns -1.077362\n",
       "1647   lakers -1.030344\n",
       "...       ...       ...\n",
       "4947    yards  1.257305\n",
       "2854       qb  1.279346\n",
       "4524       td  1.327297\n",
       "174     49ers  1.495135\n",
       "4842     week  1.571731\n",
       "\n",
       "[5000 rows x 2 columns]"
      ]
     },
     "execution_count": 49,
     "metadata": {},
     "output_type": "execute_result"
    }
   ],
   "source": [
    "coef_list = lr.coef_.tolist()\n",
    "coef_list = coef_list[0]\n",
    "\n",
    "coef_df = pd.DataFrame({'features' : vectorizer.get_feature_names(),\n",
    "                       'coefs' : coef_list})\n",
    "\n",
    "coef_df.sort_values(by = ['coefs'])"
   ]
  },
  {
   "cell_type": "markdown",
   "metadata": {},
   "source": [
    "### Decision Tree"
   ]
  },
  {
   "cell_type": "code",
   "execution_count": 50,
   "metadata": {
    "ExecuteTime": {
     "end_time": "2019-11-13T15:56:46.508320Z",
     "start_time": "2019-11-13T15:56:46.420945Z"
    }
   },
   "outputs": [],
   "source": [
    "from sklearn.tree import DecisionTreeClassifier"
   ]
  },
  {
   "cell_type": "code",
   "execution_count": 51,
   "metadata": {
    "ExecuteTime": {
     "end_time": "2019-11-13T15:56:46.519845Z",
     "start_time": "2019-11-13T15:56:46.511925Z"
    }
   },
   "outputs": [],
   "source": [
    "tree = DecisionTreeClassifier()"
   ]
  },
  {
   "cell_type": "code",
   "execution_count": 52,
   "metadata": {
    "ExecuteTime": {
     "end_time": "2019-11-13T15:56:54.814012Z",
     "start_time": "2019-11-13T15:56:46.522844Z"
    }
   },
   "outputs": [
    {
     "data": {
      "text/plain": [
       "DecisionTreeClassifier(class_weight=None, criterion='gini', max_depth=None,\n",
       "                       max_features=None, max_leaf_nodes=None,\n",
       "                       min_impurity_decrease=0.0, min_impurity_split=None,\n",
       "                       min_samples_leaf=1, min_samples_split=2,\n",
       "                       min_weight_fraction_leaf=0.0, presort=False,\n",
       "                       random_state=None, splitter='best')"
      ]
     },
     "execution_count": 52,
     "metadata": {},
     "output_type": "execute_result"
    }
   ],
   "source": [
    "tree.fit(train_data_features, y_train)"
   ]
  },
  {
   "cell_type": "code",
   "execution_count": 53,
   "metadata": {
    "ExecuteTime": {
     "end_time": "2019-11-13T15:56:54.880008Z",
     "start_time": "2019-11-13T15:56:54.817886Z"
    }
   },
   "outputs": [
    {
     "data": {
      "text/plain": [
       "1.0"
      ]
     },
     "execution_count": 53,
     "metadata": {},
     "output_type": "execute_result"
    }
   ],
   "source": [
    "tree.score(train_data_features, y_train)"
   ]
  },
  {
   "cell_type": "code",
   "execution_count": 54,
   "metadata": {
    "ExecuteTime": {
     "end_time": "2019-11-13T15:56:54.901859Z",
     "start_time": "2019-11-13T15:56:54.884109Z"
    }
   },
   "outputs": [
    {
     "data": {
      "text/plain": [
       "0.8242280285035629"
      ]
     },
     "execution_count": 54,
     "metadata": {},
     "output_type": "execute_result"
    }
   ],
   "source": [
    "tree.score(test_data_features, y_test)"
   ]
  },
  {
   "cell_type": "markdown",
   "metadata": {},
   "source": [
    "### Random Forest"
   ]
  },
  {
   "cell_type": "code",
   "execution_count": 55,
   "metadata": {
    "ExecuteTime": {
     "end_time": "2019-11-13T15:56:54.935817Z",
     "start_time": "2019-11-13T15:56:54.904963Z"
    }
   },
   "outputs": [],
   "source": [
    "from sklearn.ensemble import RandomForestClassifier"
   ]
  },
  {
   "cell_type": "code",
   "execution_count": 56,
   "metadata": {
    "ExecuteTime": {
     "end_time": "2019-11-13T15:56:54.947650Z",
     "start_time": "2019-11-13T15:56:54.940818Z"
    }
   },
   "outputs": [],
   "source": [
    "forest = RandomForestClassifier(n_estimators = 100)"
   ]
  },
  {
   "cell_type": "code",
   "execution_count": 57,
   "metadata": {
    "ExecuteTime": {
     "end_time": "2019-11-13T15:57:03.547177Z",
     "start_time": "2019-11-13T15:56:54.952707Z"
    }
   },
   "outputs": [
    {
     "data": {
      "text/plain": [
       "RandomForestClassifier(bootstrap=True, class_weight=None, criterion='gini',\n",
       "                       max_depth=None, max_features='auto', max_leaf_nodes=None,\n",
       "                       min_impurity_decrease=0.0, min_impurity_split=None,\n",
       "                       min_samples_leaf=1, min_samples_split=2,\n",
       "                       min_weight_fraction_leaf=0.0, n_estimators=100,\n",
       "                       n_jobs=None, oob_score=False, random_state=None,\n",
       "                       verbose=0, warm_start=False)"
      ]
     },
     "execution_count": 57,
     "metadata": {},
     "output_type": "execute_result"
    }
   ],
   "source": [
    "forest.fit(train_data_features, y_train)"
   ]
  },
  {
   "cell_type": "code",
   "execution_count": 58,
   "metadata": {
    "ExecuteTime": {
     "end_time": "2019-11-13T15:57:03.818097Z",
     "start_time": "2019-11-13T15:57:03.552487Z"
    }
   },
   "outputs": [
    {
     "data": {
      "text/plain": [
       "1.0"
      ]
     },
     "execution_count": 58,
     "metadata": {},
     "output_type": "execute_result"
    }
   ],
   "source": [
    "forest.score(train_data_features, y_train)"
   ]
  },
  {
   "cell_type": "code",
   "execution_count": 59,
   "metadata": {
    "ExecuteTime": {
     "end_time": "2019-11-13T15:57:03.907519Z",
     "start_time": "2019-11-13T15:57:03.825251Z"
    }
   },
   "outputs": [
    {
     "data": {
      "text/plain": [
       "0.8717339667458432"
      ]
     },
     "execution_count": 59,
     "metadata": {},
     "output_type": "execute_result"
    }
   ],
   "source": [
    "forest.score(test_data_features, y_test)"
   ]
  },
  {
   "cell_type": "markdown",
   "metadata": {},
   "source": [
    "###  Matrix on Logistic Regression"
   ]
  },
  {
   "cell_type": "code",
   "execution_count": 60,
   "metadata": {
    "ExecuteTime": {
     "end_time": "2019-11-13T15:57:03.924418Z",
     "start_time": "2019-11-13T15:57:03.915029Z"
    }
   },
   "outputs": [],
   "source": [
    "from sklearn.metrics import confusion_matrix"
   ]
  },
  {
   "cell_type": "code",
   "execution_count": 61,
   "metadata": {
    "ExecuteTime": {
     "end_time": "2019-11-13T15:57:03.943924Z",
     "start_time": "2019-11-13T15:57:03.933928Z"
    }
   },
   "outputs": [],
   "source": [
    "y_pred = lr.predict(test_data_features)"
   ]
  },
  {
   "cell_type": "code",
   "execution_count": 62,
   "metadata": {
    "ExecuteTime": {
     "end_time": "2019-11-13T15:57:03.972191Z",
     "start_time": "2019-11-13T15:57:03.950921Z"
    }
   },
   "outputs": [],
   "source": [
    "cm = confusion_matrix(y_test, y_pred)"
   ]
  },
  {
   "cell_type": "code",
   "execution_count": 63,
   "metadata": {
    "ExecuteTime": {
     "end_time": "2019-11-13T15:57:03.992732Z",
     "start_time": "2019-11-13T15:57:03.979344Z"
    }
   },
   "outputs": [],
   "source": [
    "cm_df = pd.DataFrame(cm,\n",
    "                    columns=['predict_neg', 'predict_pos'],\n",
    "                    index = ['actual_neg', 'actual_pos'])"
   ]
  },
  {
   "cell_type": "code",
   "execution_count": 64,
   "metadata": {
    "ExecuteTime": {
     "end_time": "2019-11-13T15:57:04.018003Z",
     "start_time": "2019-11-13T15:57:03.998773Z"
    }
   },
   "outputs": [
    {
     "data": {
      "text/html": [
       "<div>\n",
       "<style scoped>\n",
       "    .dataframe tbody tr th:only-of-type {\n",
       "        vertical-align: middle;\n",
       "    }\n",
       "\n",
       "    .dataframe tbody tr th {\n",
       "        vertical-align: top;\n",
       "    }\n",
       "\n",
       "    .dataframe thead th {\n",
       "        text-align: right;\n",
       "    }\n",
       "</style>\n",
       "<table border=\"1\" class=\"dataframe\">\n",
       "  <thead>\n",
       "    <tr style=\"text-align: right;\">\n",
       "      <th></th>\n",
       "      <th>predict_neg</th>\n",
       "      <th>predict_pos</th>\n",
       "    </tr>\n",
       "  </thead>\n",
       "  <tbody>\n",
       "    <tr>\n",
       "      <th>actual_neg</th>\n",
       "      <td>181</td>\n",
       "      <td>14</td>\n",
       "    </tr>\n",
       "    <tr>\n",
       "      <th>actual_pos</th>\n",
       "      <td>32</td>\n",
       "      <td>194</td>\n",
       "    </tr>\n",
       "  </tbody>\n",
       "</table>\n",
       "</div>"
      ],
      "text/plain": [
       "            predict_neg  predict_pos\n",
       "actual_neg          181           14\n",
       "actual_pos           32          194"
      ]
     },
     "execution_count": 64,
     "metadata": {},
     "output_type": "execute_result"
    }
   ],
   "source": [
    "cm_df"
   ]
  },
  {
   "cell_type": "markdown",
   "metadata": {},
   "source": [
    "## Checking where our model failed"
   ]
  },
  {
   "cell_type": "code",
   "execution_count": 65,
   "metadata": {
    "ExecuteTime": {
     "end_time": "2019-11-13T15:57:04.030554Z",
     "start_time": "2019-11-13T15:57:04.022795Z"
    }
   },
   "outputs": [],
   "source": [
    "comparison_df = pd.DataFrame({'y_actual' : y_test,\n",
    "             'y_predicted' : y_pred})"
   ]
  },
  {
   "cell_type": "code",
   "execution_count": 66,
   "metadata": {
    "ExecuteTime": {
     "end_time": "2019-11-13T15:57:04.046667Z",
     "start_time": "2019-11-13T15:57:04.036444Z"
    }
   },
   "outputs": [],
   "source": [
    "mismatch_df = comparison_df[comparison_df['y_actual'] != comparison_df['y_predicted']]"
   ]
  },
  {
   "cell_type": "code",
   "execution_count": 67,
   "metadata": {
    "ExecuteTime": {
     "end_time": "2019-11-13T15:57:04.063219Z",
     "start_time": "2019-11-13T15:57:04.050992Z"
    }
   },
   "outputs": [
    {
     "name": "stderr",
     "output_type": "stream",
     "text": [
      "C:\\Users\\natha\\Anaconda3\\lib\\site-packages\\ipykernel_launcher.py:1: FutureWarning: Sorting because non-concatenation axis is not aligned. A future version\n",
      "of pandas will change to not sort by default.\n",
      "\n",
      "To accept the future behavior, pass 'sort=False'.\n",
      "\n",
      "To retain the current behavior and silence the warning, pass 'sort=True'.\n",
      "\n",
      "  \"\"\"Entry point for launching an IPython kernel.\n"
     ]
    }
   ],
   "source": [
    "mismatch2_df = pd.concat([mismatch_df, X_test], axis = 1)"
   ]
  },
  {
   "cell_type": "code",
   "execution_count": 68,
   "metadata": {
    "ExecuteTime": {
     "end_time": "2019-11-13T15:57:04.079241Z",
     "start_time": "2019-11-13T15:57:04.064220Z"
    }
   },
   "outputs": [],
   "source": [
    "# All incorrect predictions with titles\n",
    "\n",
    "mismatches = mismatch2_df.dropna()"
   ]
  },
  {
   "cell_type": "code",
   "execution_count": 69,
   "metadata": {
    "ExecuteTime": {
     "end_time": "2019-11-13T15:57:04.123085Z",
     "start_time": "2019-11-13T15:57:04.082989Z"
    },
    "scrolled": true
   },
   "outputs": [
    {
     "data": {
      "text/html": [
       "<div>\n",
       "<style scoped>\n",
       "    .dataframe tbody tr th:only-of-type {\n",
       "        vertical-align: middle;\n",
       "    }\n",
       "\n",
       "    .dataframe tbody tr th {\n",
       "        vertical-align: top;\n",
       "    }\n",
       "\n",
       "    .dataframe thead th {\n",
       "        text-align: right;\n",
       "    }\n",
       "</style>\n",
       "<table border=\"1\" class=\"dataframe\">\n",
       "  <thead>\n",
       "    <tr style=\"text-align: right;\">\n",
       "      <th></th>\n",
       "      <th>y_actual</th>\n",
       "      <th>y_predicted</th>\n",
       "      <th>title</th>\n",
       "    </tr>\n",
       "  </thead>\n",
       "  <tbody>\n",
       "    <tr>\n",
       "      <th>t3_du418t</th>\n",
       "      <td>nba</td>\n",
       "      <td>nfl</td>\n",
       "      <td>highlight robert timelord williams jumps out of the gym to catch the lob</td>\n",
       "    </tr>\n",
       "    <tr>\n",
       "      <th>t3_duhoax</th>\n",
       "      <td>nfl</td>\n",
       "      <td>nba</td>\n",
       "      <td>zrebiec jackson on whether that was his best run of his career it don t matter we scored and move on</td>\n",
       "    </tr>\n",
       "    <tr>\n",
       "      <th>t3_duhu9j</th>\n",
       "      <td>nba</td>\n",
       "      <td>nfl</td>\n",
       "      <td>agness pacers without turner bitadze lamb sumner and oladipo in orlando turner played some 4 on 4 this week but more time is needed to recover</td>\n",
       "    </tr>\n",
       "    <tr>\n",
       "      <th>t3_dui3ai</th>\n",
       "      <td>nfl</td>\n",
       "      <td>nba</td>\n",
       "      <td>highlight hoyer gets destroyered</td>\n",
       "    </tr>\n",
       "    <tr>\n",
       "      <th>t3_dujp31</th>\n",
       "      <td>nfl</td>\n",
       "      <td>nba</td>\n",
       "      <td>locker colts loyalty to the kicking goat vinatieri has them in a tough spot they ve fought their ass off this year but their margin for error is low and the poor kicking has them in a tough spot</td>\n",
       "    </tr>\n",
       "    <tr>\n",
       "      <th>t3_dujxvh</th>\n",
       "      <td>nfl</td>\n",
       "      <td>nba</td>\n",
       "      <td>d angelo dolphins are three games out of a wild card spot</td>\n",
       "    </tr>\n",
       "    <tr>\n",
       "      <th>t3_duldaf</th>\n",
       "      <td>nfl</td>\n",
       "      <td>nba</td>\n",
       "      <td>pft jarvis landry has noticed that opposing defenses are assigning their top cb to follow obj and landry regards that as disrespect</td>\n",
       "    </tr>\n",
       "    <tr>\n",
       "      <th>t3_dumnqx</th>\n",
       "      <td>nfl</td>\n",
       "      <td>nba</td>\n",
       "      <td>how do nfl players communicate during games when it s so loud with coaches with each other etc</td>\n",
       "    </tr>\n",
       "    <tr>\n",
       "      <th>t3_dumo5m</th>\n",
       "      <td>nfl</td>\n",
       "      <td>nba</td>\n",
       "      <td>the snf top gun segment was using the music from hot shots</td>\n",
       "    </tr>\n",
       "    <tr>\n",
       "      <th>t3_dusqmj</th>\n",
       "      <td>nba</td>\n",
       "      <td>nfl</td>\n",
       "      <td>kyle kuzma splits in his first 5 games 10 2 4 0 0 4 396 200 600</td>\n",
       "    </tr>\n",
       "    <tr>\n",
       "      <th>t3_duuhb3</th>\n",
       "      <td>nfl</td>\n",
       "      <td>nba</td>\n",
       "      <td>nfl what ifs</td>\n",
       "    </tr>\n",
       "    <tr>\n",
       "      <th>t3_duv82g</th>\n",
       "      <td>nfl</td>\n",
       "      <td>nba</td>\n",
       "      <td>nflmatchup these players have the most receiving yards from the slot position so far this season tdlockett12 leads the nfl heading into tonight s mnf game</td>\n",
       "    </tr>\n",
       "    <tr>\n",
       "      <th>t3_duvdwz</th>\n",
       "      <td>nfl</td>\n",
       "      <td>nba</td>\n",
       "      <td>has vinateri been the least valuable player in the nfl this year</td>\n",
       "    </tr>\n",
       "    <tr>\n",
       "      <th>t3_duvv94</th>\n",
       "      <td>nfl</td>\n",
       "      <td>nba</td>\n",
       "      <td>with all the teams being 2 games away from each other how do you guys see the afc south ending</td>\n",
       "    </tr>\n",
       "    <tr>\n",
       "      <th>t3_duxpqj</th>\n",
       "      <td>nfl</td>\n",
       "      <td>nba</td>\n",
       "      <td>on this day 100 years ago college teammates sunshine gepford and roy adkins helped the decatur staleys now bears beat the taylorville independents who had shut out all but 3 teams since 1914 for the state title their college coach who was at the game kicked them off the team the next day</td>\n",
       "    </tr>\n",
       "    <tr>\n",
       "      <th>t3_duychd</th>\n",
       "      <td>nfl</td>\n",
       "      <td>nba</td>\n",
       "      <td>who are your top 10 qbs so far this season</td>\n",
       "    </tr>\n",
       "    <tr>\n",
       "      <th>t3_duzpux</th>\n",
       "      <td>nfl</td>\n",
       "      <td>nba</td>\n",
       "      <td>grantland the death of bob kalsu the only active nfl player to die while serving in vietnam</td>\n",
       "    </tr>\n",
       "    <tr>\n",
       "      <th>t3_duzwro</th>\n",
       "      <td>nfl</td>\n",
       "      <td>nba</td>\n",
       "      <td>does anyone where youtubers get angles for film study</td>\n",
       "    </tr>\n",
       "    <tr>\n",
       "      <th>t3_dv0tg3</th>\n",
       "      <td>nfl</td>\n",
       "      <td>nba</td>\n",
       "      <td>butker s blocked fg got me thinking how do nfl rules account for natural world interference in play</td>\n",
       "    </tr>\n",
       "    <tr>\n",
       "      <th>t3_dv1hi1</th>\n",
       "      <td>nfl</td>\n",
       "      <td>nba</td>\n",
       "      <td>mcnabb it s hilarious to me that people think this video is worthy of jokes if you know about playing the position you would understand using your base and foundation is vital to your success as a passer there s a reason why his numbers are around the top</td>\n",
       "    </tr>\n",
       "    <tr>\n",
       "      <th>t3_dv2lfl</th>\n",
       "      <td>nfl</td>\n",
       "      <td>nba</td>\n",
       "      <td>gregbeacham sean mcvay is being asked repeatedly and from multiple directions about why todd gurley got no action in the 4th quarter mcvay admits he wishes he had kept gurley in the game early in the 4th and he would do it differently if he had a do over</td>\n",
       "    </tr>\n",
       "    <tr>\n",
       "      <th>t3_dv3i3k</th>\n",
       "      <td>nfl</td>\n",
       "      <td>nba</td>\n",
       "      <td>interesting note the last 9 qbs to win mvp have also been on a team who snagged a top 2 seed in their conference i e a bye</td>\n",
       "    </tr>\n",
       "    <tr>\n",
       "      <th>t3_dv47my</th>\n",
       "      <td>nba</td>\n",
       "      <td>nfl</td>\n",
       "      <td>bill burr 7 years ago talking about nba officiating and why it s so hard to hold a lead in today s nba it s gotten even worse since then</td>\n",
       "    </tr>\n",
       "    <tr>\n",
       "      <th>t3_dv4mni</th>\n",
       "      <td>nba</td>\n",
       "      <td>nfl</td>\n",
       "      <td>does anyone find it crazy that the bookies tend to get the handicap lines just perfect</td>\n",
       "    </tr>\n",
       "    <tr>\n",
       "      <th>t3_dv4nks</th>\n",
       "      <td>nba</td>\n",
       "      <td>nfl</td>\n",
       "      <td>did dallas ultimately win the dwight powell trade</td>\n",
       "    </tr>\n",
       "    <tr>\n",
       "      <th>t3_dv4xy3</th>\n",
       "      <td>nba</td>\n",
       "      <td>nfl</td>\n",
       "      <td>highlight tim duncan to tony parker there s no one else i would ve rather been my point guard through this whole time</td>\n",
       "    </tr>\n",
       "    <tr>\n",
       "      <th>t3_dv4zw8</th>\n",
       "      <td>nfl</td>\n",
       "      <td>nba</td>\n",
       "      <td>deaf nfl fans what is the most interesting thing you ve lipread when the tv shows players talking on the sidelines</td>\n",
       "    </tr>\n",
       "    <tr>\n",
       "      <th>t3_dv55jj</th>\n",
       "      <td>nfl</td>\n",
       "      <td>nba</td>\n",
       "      <td>chan um this is not where the ball is supposed to go</td>\n",
       "    </tr>\n",
       "    <tr>\n",
       "      <th>t3_dv5ag0</th>\n",
       "      <td>nba</td>\n",
       "      <td>nfl</td>\n",
       "      <td>highlight kawhi on the fastbreak drive scores the layup and gets his first field goal against the raptors since leaving the team</td>\n",
       "    </tr>\n",
       "    <tr>\n",
       "      <th>t3_dva38v</th>\n",
       "      <td>nfl</td>\n",
       "      <td>nba</td>\n",
       "      <td>official r nfl sidebar contest</td>\n",
       "    </tr>\n",
       "    <tr>\n",
       "      <th>t3_dvayls</th>\n",
       "      <td>nba</td>\n",
       "      <td>nfl</td>\n",
       "      <td>great article on the influence rudy gobert has had on defense this year</td>\n",
       "    </tr>\n",
       "    <tr>\n",
       "      <th>t3_dvbl50</th>\n",
       "      <td>nfl</td>\n",
       "      <td>nba</td>\n",
       "      <td>sikkema at bruce arians s very first press conference with the buccaneers he was asked a question about taking practice seriously and the effort from his players his answer you can t play hard you can t play here man of his word</td>\n",
       "    </tr>\n",
       "    <tr>\n",
       "      <th>t3_dvbmp6</th>\n",
       "      <td>nba</td>\n",
       "      <td>nfl</td>\n",
       "      <td>cam reddish is currently averaging 5 6ppg on 34ts in 24mpg</td>\n",
       "    </tr>\n",
       "    <tr>\n",
       "      <th>t3_dvbvjf</th>\n",
       "      <td>nfl</td>\n",
       "      <td>nba</td>\n",
       "      <td>of the teams with 2 or less wins right now who is most likely to be holding the lombardi trophy in 5 years</td>\n",
       "    </tr>\n",
       "    <tr>\n",
       "      <th>t3_dvdef3</th>\n",
       "      <td>nfl</td>\n",
       "      <td>nba</td>\n",
       "      <td>charles rogers death and the scrutiny of an athlete s public life</td>\n",
       "    </tr>\n",
       "    <tr>\n",
       "      <th>t3_dvdve4</th>\n",
       "      <td>nfl</td>\n",
       "      <td>nba</td>\n",
       "      <td>elway true hero s</td>\n",
       "    </tr>\n",
       "    <tr>\n",
       "      <th>t3_dve4zk</th>\n",
       "      <td>nba</td>\n",
       "      <td>nfl</td>\n",
       "      <td>k c johnson jim boylen said lauri markkanen is fighting through a sore oblique and has been dealing with it for 2 weeks yesterday was first time team disclosed it</td>\n",
       "    </tr>\n",
       "    <tr>\n",
       "      <th>t3_dveeq4</th>\n",
       "      <td>nba</td>\n",
       "      <td>nfl</td>\n",
       "      <td>most least fun non playoff teams to watch over the last 10 years</td>\n",
       "    </tr>\n",
       "    <tr>\n",
       "      <th>t3_dvg27o</th>\n",
       "      <td>nfl</td>\n",
       "      <td>nba</td>\n",
       "      <td>nfl films the young the old and the bold 1969</td>\n",
       "    </tr>\n",
       "    <tr>\n",
       "      <th>t3_dvghny</th>\n",
       "      <td>nba</td>\n",
       "      <td>nfl</td>\n",
       "      <td>would kristaps playing the 5 help the mavs out on defense and offense</td>\n",
       "    </tr>\n",
       "    <tr>\n",
       "      <th>t3_dvgxnq</th>\n",
       "      <td>nfl</td>\n",
       "      <td>nba</td>\n",
       "      <td>do you think teams are regretting they passed on dk metcalf</td>\n",
       "    </tr>\n",
       "    <tr>\n",
       "      <th>t3_dvgzjt</th>\n",
       "      <td>nfl</td>\n",
       "      <td>nba</td>\n",
       "      <td>5 6 tarik cohen complains about towels on the top shelf at 0 32</td>\n",
       "    </tr>\n",
       "    <tr>\n",
       "      <th>t3_dvjkhy</th>\n",
       "      <td>nfl</td>\n",
       "      <td>nba</td>\n",
       "      <td>sessler recaps from the future how the 2019 nfl playoffs played out</td>\n",
       "    </tr>\n",
       "    <tr>\n",
       "      <th>t3_dvkp3a</th>\n",
       "      <td>nba</td>\n",
       "      <td>nfl</td>\n",
       "      <td>playoff standings week 3 edition</td>\n",
       "    </tr>\n",
       "    <tr>\n",
       "      <th>t3_dvlixg</th>\n",
       "      <td>nfl</td>\n",
       "      <td>nba</td>\n",
       "      <td>parkerlewis ladies and gentlemen of twitter i present to you james richard garoppolo</td>\n",
       "    </tr>\n",
       "    <tr>\n",
       "      <th>t3_dvp0vb</th>\n",
       "      <td>nfl</td>\n",
       "      <td>nba</td>\n",
       "      <td>is it possible that the nfl combine would ever consider switching to all players having to wear pads during workouts</td>\n",
       "    </tr>\n",
       "  </tbody>\n",
       "</table>\n",
       "</div>"
      ],
      "text/plain": [
       "          y_actual y_predicted  \\\n",
       "t3_du418t      nba         nfl   \n",
       "t3_duhoax      nfl         nba   \n",
       "t3_duhu9j      nba         nfl   \n",
       "t3_dui3ai      nfl         nba   \n",
       "t3_dujp31      nfl         nba   \n",
       "t3_dujxvh      nfl         nba   \n",
       "t3_duldaf      nfl         nba   \n",
       "t3_dumnqx      nfl         nba   \n",
       "t3_dumo5m      nfl         nba   \n",
       "t3_dusqmj      nba         nfl   \n",
       "t3_duuhb3      nfl         nba   \n",
       "t3_duv82g      nfl         nba   \n",
       "t3_duvdwz      nfl         nba   \n",
       "t3_duvv94      nfl         nba   \n",
       "t3_duxpqj      nfl         nba   \n",
       "t3_duychd      nfl         nba   \n",
       "t3_duzpux      nfl         nba   \n",
       "t3_duzwro      nfl         nba   \n",
       "t3_dv0tg3      nfl         nba   \n",
       "t3_dv1hi1      nfl         nba   \n",
       "t3_dv2lfl      nfl         nba   \n",
       "t3_dv3i3k      nfl         nba   \n",
       "t3_dv47my      nba         nfl   \n",
       "t3_dv4mni      nba         nfl   \n",
       "t3_dv4nks      nba         nfl   \n",
       "t3_dv4xy3      nba         nfl   \n",
       "t3_dv4zw8      nfl         nba   \n",
       "t3_dv55jj      nfl         nba   \n",
       "t3_dv5ag0      nba         nfl   \n",
       "t3_dva38v      nfl         nba   \n",
       "t3_dvayls      nba         nfl   \n",
       "t3_dvbl50      nfl         nba   \n",
       "t3_dvbmp6      nba         nfl   \n",
       "t3_dvbvjf      nfl         nba   \n",
       "t3_dvdef3      nfl         nba   \n",
       "t3_dvdve4      nfl         nba   \n",
       "t3_dve4zk      nba         nfl   \n",
       "t3_dveeq4      nba         nfl   \n",
       "t3_dvg27o      nfl         nba   \n",
       "t3_dvghny      nba         nfl   \n",
       "t3_dvgxnq      nfl         nba   \n",
       "t3_dvgzjt      nfl         nba   \n",
       "t3_dvjkhy      nfl         nba   \n",
       "t3_dvkp3a      nba         nfl   \n",
       "t3_dvlixg      nfl         nba   \n",
       "t3_dvp0vb      nfl         nba   \n",
       "\n",
       "                                                                                                                                                                                                                                                                                                      title  \n",
       "t3_du418t                                                                                                                                                                                                                          highlight robert timelord williams jumps out of the gym to catch the lob  \n",
       "t3_duhoax                                                                                                                                                                                              zrebiec jackson on whether that was his best run of his career it don t matter we scored and move on  \n",
       "t3_duhu9j                                                                                                                                                    agness pacers without turner bitadze lamb sumner and oladipo in orlando turner played some 4 on 4 this week but more time is needed to recover  \n",
       "t3_dui3ai                                                                                                                                                                                                                                                                  highlight hoyer gets destroyered  \n",
       "t3_dujp31                                                                                                locker colts loyalty to the kicking goat vinatieri has them in a tough spot they ve fought their ass off this year but their margin for error is low and the poor kicking has them in a tough spot  \n",
       "t3_dujxvh                                                                                                                                                                                                                                         d angelo dolphins are three games out of a wild card spot  \n",
       "t3_duldaf                                                                                                                                                               pft jarvis landry has noticed that opposing defenses are assigning their top cb to follow obj and landry regards that as disrespect  \n",
       "t3_dumnqx                                                                                                                                                                                                    how do nfl players communicate during games when it s so loud with coaches with each other etc  \n",
       "t3_dumo5m                                                                                                                                                                                                                                        the snf top gun segment was using the music from hot shots  \n",
       "t3_dusqmj                                                                                                                                                                                                                                   kyle kuzma splits in his first 5 games 10 2 4 0 0 4 396 200 600  \n",
       "t3_duuhb3                                                                                                                                                                                                                                                                                      nfl what ifs  \n",
       "t3_duv82g                                                                                                                                        nflmatchup these players have the most receiving yards from the slot position so far this season tdlockett12 leads the nfl heading into tonight s mnf game  \n",
       "t3_duvdwz                                                                                                                                                                                                                                  has vinateri been the least valuable player in the nfl this year  \n",
       "t3_duvv94                                                                                                                                                                                                    with all the teams being 2 games away from each other how do you guys see the afc south ending  \n",
       "t3_duxpqj  on this day 100 years ago college teammates sunshine gepford and roy adkins helped the decatur staleys now bears beat the taylorville independents who had shut out all but 3 teams since 1914 for the state title their college coach who was at the game kicked them off the team the next day  \n",
       "t3_duychd                                                                                                                                                                                                                                                        who are your top 10 qbs so far this season  \n",
       "t3_duzpux                                                                                                                                                                                                       grantland the death of bob kalsu the only active nfl player to die while serving in vietnam  \n",
       "t3_duzwro                                                                                                                                                                                                                                             does anyone where youtubers get angles for film study  \n",
       "t3_dv0tg3                                                                                                                                                                                               butker s blocked fg got me thinking how do nfl rules account for natural world interference in play  \n",
       "t3_dv1hi1                                   mcnabb it s hilarious to me that people think this video is worthy of jokes if you know about playing the position you would understand using your base and foundation is vital to your success as a passer there s a reason why his numbers are around the top  \n",
       "t3_dv2lfl                                    gregbeacham sean mcvay is being asked repeatedly and from multiple directions about why todd gurley got no action in the 4th quarter mcvay admits he wishes he had kept gurley in the game early in the 4th and he would do it differently if he had a do over  \n",
       "t3_dv3i3k                                                                                                                                                                        interesting note the last 9 qbs to win mvp have also been on a team who snagged a top 2 seed in their conference i e a bye  \n",
       "t3_dv47my                                                                                                                                                          bill burr 7 years ago talking about nba officiating and why it s so hard to hold a lead in today s nba it s gotten even worse since then  \n",
       "t3_dv4mni                                                                                                                                                                                                            does anyone find it crazy that the bookies tend to get the handicap lines just perfect  \n",
       "t3_dv4nks                                                                                                                                                                                                                                                 did dallas ultimately win the dwight powell trade  \n",
       "t3_dv4xy3                                                                                                                                                                             highlight tim duncan to tony parker there s no one else i would ve rather been my point guard through this whole time  \n",
       "t3_dv4zw8                                                                                                                                                                                deaf nfl fans what is the most interesting thing you ve lipread when the tv shows players talking on the sidelines  \n",
       "t3_dv55jj                                                                                                                                                                                                                                              chan um this is not where the ball is supposed to go  \n",
       "t3_dv5ag0                                                                                                                                                                  highlight kawhi on the fastbreak drive scores the layup and gets his first field goal against the raptors since leaving the team  \n",
       "t3_dva38v                                                                                                                                                                                                                                                                    official r nfl sidebar contest  \n",
       "t3_dvayls                                                                                                                                                                                                                           great article on the influence rudy gobert has had on defense this year  \n",
       "t3_dvbl50                                                              sikkema at bruce arians s very first press conference with the buccaneers he was asked a question about taking practice seriously and the effort from his players his answer you can t play hard you can t play here man of his word  \n",
       "t3_dvbmp6                                                                                                                                                                                                                                        cam reddish is currently averaging 5 6ppg on 34ts in 24mpg  \n",
       "t3_dvbvjf                                                                                                                                                                                        of the teams with 2 or less wins right now who is most likely to be holding the lombardi trophy in 5 years  \n",
       "t3_dvdef3                                                                                                                                                                                                                                 charles rogers death and the scrutiny of an athlete s public life  \n",
       "t3_dvdve4                                                                                                                                                                                                                                                                                 elway true hero s  \n",
       "t3_dve4zk                                                                                                                                k c johnson jim boylen said lauri markkanen is fighting through a sore oblique and has been dealing with it for 2 weeks yesterday was first time team disclosed it  \n",
       "t3_dveeq4                                                                                                                                                                                                                                  most least fun non playoff teams to watch over the last 10 years  \n",
       "t3_dvg27o                                                                                                                                                                                                                                                     nfl films the young the old and the bold 1969  \n",
       "t3_dvghny                                                                                                                                                                                                                             would kristaps playing the 5 help the mavs out on defense and offense  \n",
       "t3_dvgxnq                                                                                                                                                                                                                                       do you think teams are regretting they passed on dk metcalf  \n",
       "t3_dvgzjt                                                                                                                                                                                                                                   5 6 tarik cohen complains about towels on the top shelf at 0 32  \n",
       "t3_dvjkhy                                                                                                                                                                                                                               sessler recaps from the future how the 2019 nfl playoffs played out  \n",
       "t3_dvkp3a                                                                                                                                                                                                                                                                  playoff standings week 3 edition  \n",
       "t3_dvlixg                                                                                                                                                                                                              parkerlewis ladies and gentlemen of twitter i present to you james richard garoppolo  \n",
       "t3_dvp0vb                                                                                                                                                                              is it possible that the nfl combine would ever consider switching to all players having to wear pads during workouts  "
      ]
     },
     "execution_count": 69,
     "metadata": {},
     "output_type": "execute_result"
    }
   ],
   "source": [
    "mismatches"
   ]
  },
  {
   "cell_type": "markdown",
   "metadata": {},
   "source": [
    "### Let's try TF-IDF"
   ]
  },
  {
   "cell_type": "markdown",
   "metadata": {},
   "source": [
    "Term Frequency / Inverse Document Frequency\n",
    "\n",
    "TF(w) = (Number of times term w appears in a document) / (Total number of terms in the document)\n",
    "\n",
    "IDF(w) = log_e(Total number of documents / Number of documents with term w in it)"
   ]
  },
  {
   "cell_type": "code",
   "execution_count": 70,
   "metadata": {
    "ExecuteTime": {
     "end_time": "2019-11-13T15:57:04.138376Z",
     "start_time": "2019-11-13T15:57:04.125956Z"
    }
   },
   "outputs": [],
   "source": [
    "tfidf_vec = TfidfVectorizer(analyzer=\"word\",\n",
    "                            tokenizer=None,\n",
    "                            preprocessor=None,\n",
    "                            stop_words=stopwords,\n",
    "                            max_features=5000,\n",
    "                            ngram_range=(1, 3))"
   ]
  },
  {
   "cell_type": "code",
   "execution_count": 71,
   "metadata": {
    "ExecuteTime": {
     "end_time": "2019-11-13T15:57:04.518972Z",
     "start_time": "2019-11-13T15:57:04.143444Z"
    }
   },
   "outputs": [
    {
     "data": {
      "text/plain": [
       "((1260, 5000), (421, 5000))"
      ]
     },
     "execution_count": 71,
     "metadata": {},
     "output_type": "execute_result"
    }
   ],
   "source": [
    "train_data_features = tfidf_vec.fit_transform(clean_train_data)\n",
    "\n",
    "test_data_features = tfidf_vec.transform(clean_test_data)\n",
    "\n",
    "train_data_features = train_data_features.toarray()\n",
    "\n",
    "train_data_features.shape, test_data_features.shape"
   ]
  },
  {
   "cell_type": "code",
   "execution_count": 72,
   "metadata": {
    "ExecuteTime": {
     "end_time": "2019-11-13T15:57:04.601586Z",
     "start_time": "2019-11-13T15:57:04.522098Z"
    }
   },
   "outputs": [
    {
     "name": "stderr",
     "output_type": "stream",
     "text": [
      "C:\\Users\\natha\\Anaconda3\\lib\\site-packages\\sklearn\\linear_model\\logistic.py:432: FutureWarning: Default solver will be changed to 'lbfgs' in 0.22. Specify a solver to silence this warning.\n",
      "  FutureWarning)\n"
     ]
    },
    {
     "data": {
      "text/plain": [
       "LogisticRegression(C=1.0, class_weight=None, dual=False, fit_intercept=True,\n",
       "                   intercept_scaling=1, l1_ratio=None, max_iter=100,\n",
       "                   multi_class='warn', n_jobs=None, penalty='l2',\n",
       "                   random_state=None, solver='warn', tol=0.0001, verbose=0,\n",
       "                   warm_start=False)"
      ]
     },
     "execution_count": 72,
     "metadata": {},
     "output_type": "execute_result"
    }
   ],
   "source": [
    "lr.fit(train_data_features, y_train)"
   ]
  },
  {
   "cell_type": "code",
   "execution_count": 73,
   "metadata": {
    "ExecuteTime": {
     "end_time": "2019-11-13T15:57:04.644428Z",
     "start_time": "2019-11-13T15:57:04.606435Z"
    }
   },
   "outputs": [
    {
     "data": {
      "text/plain": [
       "0.9920634920634921"
      ]
     },
     "execution_count": 73,
     "metadata": {},
     "output_type": "execute_result"
    }
   ],
   "source": [
    "lr.score(train_data_features, y_train)"
   ]
  },
  {
   "cell_type": "code",
   "execution_count": 74,
   "metadata": {
    "ExecuteTime": {
     "end_time": "2019-11-13T15:57:04.664880Z",
     "start_time": "2019-11-13T15:57:04.650837Z"
    }
   },
   "outputs": [
    {
     "data": {
      "text/plain": [
       "0.9097387173396675"
      ]
     },
     "execution_count": 74,
     "metadata": {},
     "output_type": "execute_result"
    }
   ],
   "source": [
    "lr.score(test_data_features, y_test)"
   ]
  },
  {
   "cell_type": "markdown",
   "metadata": {},
   "source": [
    "### Let's try on some other subreddits"
   ]
  },
  {
   "cell_type": "code",
   "execution_count": 75,
   "metadata": {
    "ExecuteTime": {
     "end_time": "2019-11-13T15:57:04.676853Z",
     "start_time": "2019-11-13T15:57:04.669387Z"
    }
   },
   "outputs": [],
   "source": [
    "train = pd.concat([politics_test, conservative_test])"
   ]
  },
  {
   "cell_type": "code",
   "execution_count": 76,
   "metadata": {
    "ExecuteTime": {
     "end_time": "2019-11-13T15:57:04.690082Z",
     "start_time": "2019-11-13T15:57:04.680192Z"
    }
   },
   "outputs": [],
   "source": [
    "X = train[['title']]\n",
    "y = train['subreddit']"
   ]
  },
  {
   "cell_type": "code",
   "execution_count": 77,
   "metadata": {
    "ExecuteTime": {
     "end_time": "2019-11-13T15:57:04.702317Z",
     "start_time": "2019-11-13T15:57:04.694236Z"
    }
   },
   "outputs": [],
   "source": [
    "# politics_test = scrape_to_df(scraper_bike, 'https://www.reddit.com/r/politics.json')\n",
    "# conservative_test = scrape_to_df(scraper_bike, 'https://www.reddit.com/r/conservative.json')"
   ]
  },
  {
   "cell_type": "code",
   "execution_count": 78,
   "metadata": {
    "ExecuteTime": {
     "end_time": "2019-11-13T15:57:04.729545Z",
     "start_time": "2019-11-13T15:57:04.707427Z"
    }
   },
   "outputs": [],
   "source": [
    "X_train, X_test, y_train, y_test = train_test_split(X, y, random_state = 42, stratify = y)"
   ]
  },
  {
   "cell_type": "code",
   "execution_count": 79,
   "metadata": {
    "ExecuteTime": {
     "end_time": "2019-11-13T15:57:04.796956Z",
     "start_time": "2019-11-13T15:57:04.732066Z"
    }
   },
   "outputs": [],
   "source": [
    "politics_test = politics_test.drop(columns='selftext')\n",
    "conservative_test = conservative_test.drop(columns='selftext')\n",
    "\n",
    "train = pd.concat([politics_test, conservative_test])\n",
    "tokenizer = RegexpTokenizer(r'\\w+')\n",
    "\n",
    "train['title'] = train['title'].map(lambda x: tokenizer.tokenize(x.lower()))\n",
    "train['title'] = train['title'].map(lambda x: ' '.join(x))"
   ]
  },
  {
   "cell_type": "code",
   "execution_count": 80,
   "metadata": {
    "ExecuteTime": {
     "end_time": "2019-11-13T15:57:04.818623Z",
     "start_time": "2019-11-13T15:57:04.802482Z"
    }
   },
   "outputs": [],
   "source": [
    "# create our training data list - this is a list of strings, with each string being a post title\n",
    "\n",
    "clean_train_data = []\n",
    "\n",
    "for traindata in X_train['title']:\n",
    "    clean_train_data.append(traindata)\n",
    "    \n",
    "    \n",
    "# create test data list\n",
    "\n",
    "clean_test_data = []\n",
    "\n",
    "for testdata in X_test['title']:\n",
    "    clean_test_data.append(testdata)"
   ]
  },
  {
   "cell_type": "code",
   "execution_count": 81,
   "metadata": {
    "ExecuteTime": {
     "end_time": "2019-11-13T15:57:05.101698Z",
     "start_time": "2019-11-13T15:57:04.823133Z"
    }
   },
   "outputs": [],
   "source": [
    "vectorizer = CountVectorizer(analyzer=\"word\",\n",
    "                             tokenizer=None,\n",
    "                             preprocessor=None,\n",
    "                             stop_words='english',\n",
    "                             max_features=5000,\n",
    "                             ngram_range=(1, 3))\n",
    "\n",
    "train_data_features = vectorizer.fit_transform(clean_train_data)\n",
    "\n",
    "test_data_features = vectorizer.transform(clean_test_data)\n",
    "\n",
    "train_data_features = train_data_features.toarray()\n",
    "\n",
    "train_data_features.shape, test_data_features.shape\n",
    "\n",
    "vocab = vectorizer.get_feature_names()"
   ]
  },
  {
   "cell_type": "markdown",
   "metadata": {},
   "source": [
    "### Modeling"
   ]
  },
  {
   "cell_type": "code",
   "execution_count": 82,
   "metadata": {
    "ExecuteTime": {
     "end_time": "2019-11-13T15:57:05.113810Z",
     "start_time": "2019-11-13T15:57:05.106529Z"
    }
   },
   "outputs": [],
   "source": [
    "lr = LogisticRegression(penalty = 'l2')"
   ]
  },
  {
   "cell_type": "code",
   "execution_count": 83,
   "metadata": {
    "ExecuteTime": {
     "end_time": "2019-11-13T15:57:05.130250Z",
     "start_time": "2019-11-13T15:57:05.118087Z"
    }
   },
   "outputs": [
    {
     "data": {
      "text/plain": [
       "((1310, 5000), (1310,))"
      ]
     },
     "execution_count": 83,
     "metadata": {},
     "output_type": "execute_result"
    }
   ],
   "source": [
    "train_data_features.shape, y_train.shape"
   ]
  },
  {
   "cell_type": "code",
   "execution_count": 84,
   "metadata": {
    "ExecuteTime": {
     "end_time": "2019-11-13T15:57:05.346698Z",
     "start_time": "2019-11-13T15:57:05.133250Z"
    }
   },
   "outputs": [
    {
     "name": "stderr",
     "output_type": "stream",
     "text": [
      "C:\\Users\\natha\\Anaconda3\\lib\\site-packages\\sklearn\\linear_model\\logistic.py:432: FutureWarning: Default solver will be changed to 'lbfgs' in 0.22. Specify a solver to silence this warning.\n",
      "  FutureWarning)\n"
     ]
    },
    {
     "data": {
      "text/plain": [
       "0.9778625954198473"
      ]
     },
     "execution_count": 84,
     "metadata": {},
     "output_type": "execute_result"
    }
   ],
   "source": [
    "lr.fit(train_data_features, y_train)\n",
    "\n",
    "lr.score(train_data_features, y_train)"
   ]
  },
  {
   "cell_type": "code",
   "execution_count": 85,
   "metadata": {
    "ExecuteTime": {
     "end_time": "2019-11-13T15:57:05.370745Z",
     "start_time": "2019-11-13T15:57:05.353386Z"
    }
   },
   "outputs": [
    {
     "data": {
      "text/plain": [
       "0.8100686498855835"
      ]
     },
     "execution_count": 85,
     "metadata": {},
     "output_type": "execute_result"
    }
   ],
   "source": [
    "lr.score(test_data_features, y_test)"
   ]
  },
  {
   "cell_type": "code",
   "execution_count": 86,
   "metadata": {
    "ExecuteTime": {
     "end_time": "2019-11-13T15:57:05.383440Z",
     "start_time": "2019-11-13T15:57:05.375247Z"
    }
   },
   "outputs": [],
   "source": [
    "coef_list = lr.coef_.tolist()\n",
    "\n",
    "coef_list = coef_list[0]"
   ]
  },
  {
   "cell_type": "code",
   "execution_count": 87,
   "metadata": {
    "ExecuteTime": {
     "end_time": "2019-11-13T15:57:05.437695Z",
     "start_time": "2019-11-13T15:57:05.389966Z"
    },
    "scrolled": true
   },
   "outputs": [
    {
     "data": {
      "text/html": [
       "<div>\n",
       "<style scoped>\n",
       "    .dataframe tbody tr th:only-of-type {\n",
       "        vertical-align: middle;\n",
       "    }\n",
       "\n",
       "    .dataframe tbody tr th {\n",
       "        vertical-align: top;\n",
       "    }\n",
       "\n",
       "    .dataframe thead th {\n",
       "        text-align: right;\n",
       "    }\n",
       "</style>\n",
       "<table border=\"1\" class=\"dataframe\">\n",
       "  <thead>\n",
       "    <tr style=\"text-align: right;\">\n",
       "      <th></th>\n",
       "      <th>features</th>\n",
       "      <th>coefs</th>\n",
       "    </tr>\n",
       "  </thead>\n",
       "  <tbody>\n",
       "    <tr>\n",
       "      <th>709</th>\n",
       "      <td>don</td>\n",
       "      <td>-1.062196</td>\n",
       "    </tr>\n",
       "    <tr>\n",
       "      <th>55</th>\n",
       "      <td>abc</td>\n",
       "      <td>-1.057494</td>\n",
       "    </tr>\n",
       "    <tr>\n",
       "      <th>113</th>\n",
       "      <td>alabama</td>\n",
       "      <td>-1.002882</td>\n",
       "    </tr>\n",
       "    <tr>\n",
       "      <th>250</th>\n",
       "      <td>believe</td>\n",
       "      <td>-0.955713</td>\n",
       "    </tr>\n",
       "    <tr>\n",
       "      <th>1029</th>\n",
       "      <td>haley trump</td>\n",
       "      <td>-0.904861</td>\n",
       "    </tr>\n",
       "    <tr>\n",
       "      <th>...</th>\n",
       "      <td>...</td>\n",
       "      <td>...</td>\n",
       "    </tr>\n",
       "    <tr>\n",
       "      <th>1163</th>\n",
       "      <td>impeachment hearings</td>\n",
       "      <td>1.095762</td>\n",
       "    </tr>\n",
       "    <tr>\n",
       "      <th>596</th>\n",
       "      <td>deal</td>\n",
       "      <td>1.098692</td>\n",
       "    </tr>\n",
       "    <tr>\n",
       "      <th>1159</th>\n",
       "      <td>impeachment</td>\n",
       "      <td>1.122041</td>\n",
       "    </tr>\n",
       "    <tr>\n",
       "      <th>4712</th>\n",
       "      <td>trump</td>\n",
       "      <td>1.397442</td>\n",
       "    </tr>\n",
       "    <tr>\n",
       "      <th>4340</th>\n",
       "      <td>sanders</td>\n",
       "      <td>1.745221</td>\n",
       "    </tr>\n",
       "  </tbody>\n",
       "</table>\n",
       "<p>5000 rows × 2 columns</p>\n",
       "</div>"
      ],
      "text/plain": [
       "                  features     coefs\n",
       "709                    don -1.062196\n",
       "55                     abc -1.057494\n",
       "113                alabama -1.002882\n",
       "250                believe -0.955713\n",
       "1029           haley trump -0.904861\n",
       "...                    ...       ...\n",
       "1163  impeachment hearings  1.095762\n",
       "596                   deal  1.098692\n",
       "1159           impeachment  1.122041\n",
       "4712                 trump  1.397442\n",
       "4340               sanders  1.745221\n",
       "\n",
       "[5000 rows x 2 columns]"
      ]
     },
     "execution_count": 87,
     "metadata": {},
     "output_type": "execute_result"
    }
   ],
   "source": [
    "coef_df = pd.DataFrame({'features' : vectorizer.get_feature_names(),\n",
    "                       'coefs' : coef_list})\n",
    "\n",
    "coef_df.sort_values(by = ['coefs'])"
   ]
  },
  {
   "cell_type": "markdown",
   "metadata": {},
   "source": [
    "# Understanding word vectors"
   ]
  },
  {
   "cell_type": "markdown",
   "metadata": {},
   "source": [
    "... for, like, actual poets. By [Allison Parrish](http://www.decontextualize.com/)\n",
    "\n",
    "\n",
    "## Why word vectors?\n",
    "\n",
    "Poetry is, at its core, the art of identifying and manipulating linguistic similarity. I have discovered a truly marvelous proof of this, which this notebook is too narrow to contain. (By which I mean: I will elaborate on this some other time)"
   ]
  },
  {
   "cell_type": "markdown",
   "metadata": {},
   "source": [
    "## Animal similarity and simple linear algebra\n",
    "\n",
    "We'll begin by considering a small subset of English: words for animals. Our task is to be able to write computer programs to find similarities among these words and the creatures they designate. To do this, we might start by making a spreadsheet of some animals and their characteristics. For example:\n",
    "\n",
    "![Animal spreadsheet](http://static.decontextualize.com/snaps/animal-spreadsheet.png)\n",
    "\n",
    "This spreadsheet associates a handful of animals with two numbers: their cuteness and their size, both in a range from zero to one hundred. (The values themselves are simply based on my own judgment. Your taste in cuteness and evaluation of size may differ significantly from mine. As with all data, these data are simply a mirror reflection of the person who collected them.)\n",
    "\n",
    "These values give us everything we need to make determinations about which animals are similar (at least, similar in the properties that we've included in the data). Try to answer the following question: Which animal is most similar to a capybara? You could go through the values one by one and do the math to make that evaluation, but visualizing the data as points in 2-dimensional space makes finding the answer very intuitive:\n",
    "\n",
    "![Animal space](http://static.decontextualize.com/snaps/animal-space.png)\n",
    "\n",
    "The plot shows us that the closest animal to the capybara is the panda bear (again, in terms of its subjective size and cuteness). One way of calculating how \"far apart\" two points are is to find their *Euclidean distance*. (This is simply the length of the line that connects the two points.) For points in two dimensions, Euclidean distance can be calculated with the following Python function:"
   ]
  },
  {
   "cell_type": "code",
   "execution_count": 88,
   "metadata": {
    "ExecuteTime": {
     "end_time": "2019-11-13T15:57:05.453449Z",
     "start_time": "2019-11-13T15:57:05.442163Z"
    }
   },
   "outputs": [],
   "source": [
    "import numpy as np\n",
    "def distance2d(x1, y1, x2, y2):\n",
    "    return np.linalg.norm(np.array([x1, y1])-np.array([x2, y2]))"
   ]
  },
  {
   "cell_type": "markdown",
   "metadata": {},
   "source": [
    "So, the distance between \"capybara\" (70, 30) and \"panda\" (74, 40):"
   ]
  },
  {
   "cell_type": "code",
   "execution_count": 89,
   "metadata": {
    "ExecuteTime": {
     "end_time": "2019-11-13T15:57:05.473079Z",
     "start_time": "2019-11-13T15:57:05.459097Z"
    }
   },
   "outputs": [
    {
     "data": {
      "text/plain": [
       "11.180339887498949"
      ]
     },
     "execution_count": 89,
     "metadata": {},
     "output_type": "execute_result"
    }
   ],
   "source": [
    "distance2d(70, 30, 75, 40) # panda and capybara"
   ]
  },
  {
   "cell_type": "markdown",
   "metadata": {},
   "source": [
    "... is less than the distance between \"tarantula\" and \"elephant\":"
   ]
  },
  {
   "cell_type": "code",
   "execution_count": 90,
   "metadata": {
    "ExecuteTime": {
     "end_time": "2019-11-13T15:57:05.484803Z",
     "start_time": "2019-11-13T15:57:05.477077Z"
    }
   },
   "outputs": [
    {
     "data": {
      "text/plain": [
       "104.0096149401583"
      ]
     },
     "execution_count": 90,
     "metadata": {},
     "output_type": "execute_result"
    }
   ],
   "source": [
    "distance2d(8, 3, 65, 90) # tarantula and elephant"
   ]
  },
  {
   "cell_type": "markdown",
   "metadata": {},
   "source": [
    "Modeling animals in this way has a few other interesting properties. For example, you can pick an arbitrary point in \"animal space\" and then find the animal closest to that point. If you imagine an animal of size 25 and cuteness 30, you can easily look at the space to find the animal that most closely fits that description: the chicken.\n",
    "\n",
    "Reasoning visually, you can also answer questions like: what's halfway between a chicken and an elephant? Simply draw a line from \"elephant\" to \"chicken,\" mark off the midpoint and find the closest animal. (According to our chart, halfway between an elephant and a chicken is a horse.)\n",
    "\n",
    "You can also ask: what's the *difference* between a hamster and a tarantula? According to our plot, it's about seventy five units of cute (and a few units of size).\n",
    "\n",
    "The relationship of \"difference\" is an interesting one, because it allows us to reason about *analogous* relationships. In the chart below, I've drawn an arrow from \"tarantula\" to \"hamster\" (in blue):\n",
    "\n",
    "![Animal analogy](http://static.decontextualize.com/snaps/animal-space-analogy.png)\n",
    "\n",
    "You can understand this arrow as being the *relationship* between a tarantula and a hamster, in terms of their size and cuteness (i.e., hamsters and tarantulas are about the same size, but hamsters are much cuter). In the same diagram, I've also transposed this same arrow (this time in red) so that its origin point is \"chicken.\" The arrow ends closest to \"kitten.\" What we've discovered is that the animal that is about the same size as a chicken but much cuter is... a kitten. To put it in terms of an analogy:\n",
    "\n",
    "    Tarantulas are to hamsters as chickens are to kittens.\n",
    "    \n",
    "A sequence of numbers used to identify a point is called a *vector*, and the kind of math we've been doing so far is called *linear algebra.* (Linear algebra is surprisingly useful across many domains: It's the same kind of math you might do to, e.g., simulate the velocity and acceleration of a sprite in a video game.)\n",
    "\n",
    "A set of vectors that are all part of the same data set is often called a *vector space*. The vector space of animals in this section has two *dimensions*, by which I mean that each vector in the space has two numbers associated with it (i.e., two columns in the spreadsheet). The fact that this space has two dimensions just happens to make it easy to *visualize* the space by drawing a 2D plot. But most vector spaces you'll work with will have more than two dimensions—sometimes many hundreds. In those cases, it's more difficult to visualize the \"space,\" but the math works pretty much the same."
   ]
  },
  {
   "cell_type": "markdown",
   "metadata": {},
   "source": [
    "## Language with vectors: colors\n",
    "\n",
    "So far, so good. We have a system in place—albeit highly subjective—for talking about animals and the words used to name them. I want to talk about another vector space that has to do with language: the vector space of colors.\n",
    "\n",
    "Colors are often represented in computers as vectors with three dimensions: red, green, and blue. Just as with the animals in the previous section, we can use these vectors to answer questions like: which colors are similar? What's the most likely color name for an arbitrarily chosen set of values for red, green and blue? Given the names of two colors, what's the name of those colors' \"average\"?\n",
    "\n",
    "We'll be working with this [color data](https://github.com/dariusk/corpora/blob/master/data/colors/xkcd.json) from the [xkcd color survey](https://blog.xkcd.com/2010/05/03/color-survey-results/). The data relates a color name to the RGB value associated with that color. [Here's a page that shows what the colors look like](https://xkcd.com/color/rgb/). Download the color data and put it in the same directory as this notebook.\n",
    "\n",
    "A few notes before we proceed:\n",
    "\n",
    "* The linear algebra functions implemented below (`addv`, `meanv`, etc.) are slow, potentially inaccurate, and shouldn't be used for \"real\" code—I wrote them so beginner programmers can understand how these kinds of functions work behind the scenes. Use [numpy](http://www.numpy.org/) for fast and accurate math in Python.\n",
    "* If you're interested in perceptually accurate color math in Python, consider using the [colormath library](http://python-colormath.readthedocs.io/en/latest/).\n",
    "\n",
    "Now, import the `json` library and load the color data:"
   ]
  },
  {
   "cell_type": "code",
   "execution_count": 91,
   "metadata": {
    "ExecuteTime": {
     "end_time": "2019-11-13T15:57:05.496955Z",
     "start_time": "2019-11-13T15:57:05.488769Z"
    }
   },
   "outputs": [],
   "source": [
    "import requests"
   ]
  },
  {
   "cell_type": "code",
   "execution_count": 92,
   "metadata": {
    "ExecuteTime": {
     "end_time": "2019-11-13T15:57:06.057925Z",
     "start_time": "2019-11-13T15:57:05.500231Z"
    }
   },
   "outputs": [],
   "source": [
    "resp = requests.get('https://raw.githubusercontent.com/dariusk/corpora/master/data/colors/xkcd.json')\n",
    "color_data = resp.json()"
   ]
  },
  {
   "cell_type": "markdown",
   "metadata": {},
   "source": [
    "The following function converts colors from hex format (`#1a2b3c`) to a tuple of integers:"
   ]
  },
  {
   "cell_type": "code",
   "execution_count": 93,
   "metadata": {
    "ExecuteTime": {
     "end_time": "2019-11-13T15:57:06.082258Z",
     "start_time": "2019-11-13T15:57:06.066309Z"
    }
   },
   "outputs": [],
   "source": [
    "def hex_to_int(s):\n",
    "    return int(s[1:3], 16), int(s[3:5], 16), int(s[5:7], 16)"
   ]
  },
  {
   "cell_type": "markdown",
   "metadata": {},
   "source": [
    "And the following cell creates a dictionary and populates it with mappings from color names to RGB vectors for each color in the data:"
   ]
  },
  {
   "cell_type": "code",
   "execution_count": 94,
   "metadata": {
    "ExecuteTime": {
     "end_time": "2019-11-13T15:57:06.106207Z",
     "start_time": "2019-11-13T15:57:06.087164Z"
    }
   },
   "outputs": [],
   "source": [
    "colors = dict()\n",
    "for item in color_data['colors']:\n",
    "    colors[item[\"color\"]] = hex_to_int(item[\"hex\"])"
   ]
  },
  {
   "cell_type": "markdown",
   "metadata": {},
   "source": [
    "Testing it out:"
   ]
  },
  {
   "cell_type": "code",
   "execution_count": 95,
   "metadata": {
    "ExecuteTime": {
     "end_time": "2019-11-13T15:57:06.121436Z",
     "start_time": "2019-11-13T15:57:06.112032Z"
    }
   },
   "outputs": [
    {
     "data": {
      "text/plain": [
       "(110, 117, 14)"
      ]
     },
     "execution_count": 95,
     "metadata": {},
     "output_type": "execute_result"
    }
   ],
   "source": [
    "colors['olive']"
   ]
  },
  {
   "cell_type": "code",
   "execution_count": 96,
   "metadata": {
    "ExecuteTime": {
     "end_time": "2019-11-13T15:57:06.137810Z",
     "start_time": "2019-11-13T15:57:06.126452Z"
    }
   },
   "outputs": [
    {
     "data": {
      "text/plain": [
       "(229, 0, 0)"
      ]
     },
     "execution_count": 96,
     "metadata": {},
     "output_type": "execute_result"
    }
   ],
   "source": [
    "colors['red']"
   ]
  },
  {
   "cell_type": "code",
   "execution_count": 97,
   "metadata": {
    "ExecuteTime": {
     "end_time": "2019-11-13T15:57:06.154291Z",
     "start_time": "2019-11-13T15:57:06.141110Z"
    }
   },
   "outputs": [
    {
     "data": {
      "text/plain": [
       "(0, 0, 0)"
      ]
     },
     "execution_count": 97,
     "metadata": {},
     "output_type": "execute_result"
    }
   ],
   "source": [
    "colors['black']"
   ]
  },
  {
   "cell_type": "code",
   "execution_count": 98,
   "metadata": {
    "ExecuteTime": {
     "end_time": "2019-11-13T15:57:06.173619Z",
     "start_time": "2019-11-13T15:57:06.162815Z"
    }
   },
   "outputs": [
    {
     "data": {
      "text/plain": [
       "(173, 144, 13)"
      ]
     },
     "execution_count": 98,
     "metadata": {},
     "output_type": "execute_result"
    }
   ],
   "source": [
    "colors['baby shit brown']"
   ]
  },
  {
   "cell_type": "code",
   "execution_count": 99,
   "metadata": {
    "ExecuteTime": {
     "end_time": "2019-11-13T15:57:06.192314Z",
     "start_time": "2019-11-13T15:57:06.174965Z"
    }
   },
   "outputs": [
    {
     "data": {
      "text/plain": [
       "dict_keys(['cloudy blue', 'dark pastel green', 'dust', 'electric lime', 'fresh green', 'light eggplant', 'nasty green', 'really light blue', 'tea', 'warm purple', 'yellowish tan', 'cement', 'dark grass green', 'dusty teal', 'grey teal', 'macaroni and cheese', 'pinkish tan', 'spruce', 'strong blue', 'toxic green', 'windows blue', 'blue blue', 'blue with a hint of purple', 'booger', 'bright sea green', 'dark green blue', 'deep turquoise', 'green teal', 'strong pink', 'bland', 'deep aqua', 'lavender pink', 'light moss green', 'light seafoam green', 'olive yellow', 'pig pink', 'deep lilac', 'desert', 'dusty lavender', 'purpley grey', 'purply', 'candy pink', 'light pastel green', 'boring green', 'kiwi green', 'light grey green', 'orange pink', 'tea green', 'very light brown', 'egg shell', 'eggplant purple', 'powder pink', 'reddish grey', 'baby shit brown', 'liliac', 'stormy blue', 'ugly brown', 'custard', 'darkish pink', 'deep brown', 'greenish beige', 'manilla', 'off blue', 'battleship grey', 'browny green', 'bruise', 'kelley green', 'sickly yellow', 'sunny yellow', 'azul', 'darkgreen', 'green/yellow', 'lichen', 'light light green', 'pale gold', 'sun yellow', 'tan green', 'burple', 'butterscotch', 'toupe', 'dark cream', 'indian red', 'light lavendar', 'poison green', 'baby puke green', 'bright yellow green', 'charcoal grey', 'squash', 'cinnamon', 'light pea green', 'radioactive green', 'raw sienna', 'baby purple', 'cocoa', 'light royal blue', 'orangeish', 'rust brown', 'sand brown', 'swamp', 'tealish green', 'burnt siena', 'camo', 'dusk blue', 'fern', 'old rose', 'pale light green', 'peachy pink', 'rosy pink', 'light bluish green', 'light bright green', 'light neon green', 'light seafoam', 'tiffany blue', 'washed out green', 'browny orange', 'nice blue', 'sapphire', 'greyish teal', 'orangey yellow', 'parchment', 'straw', 'very dark brown', 'terracota', 'ugly blue', 'clear blue', 'creme', 'foam green', 'grey/green', 'light gold', 'seafoam blue', 'topaz', 'violet pink', 'wintergreen', 'yellow tan', 'dark fuchsia', 'indigo blue', 'light yellowish green', 'pale magenta', 'rich purple', 'sunflower yellow', 'green/blue', 'leather', 'racing green', 'vivid purple', 'dark royal blue', 'hazel', 'muted pink', 'booger green', 'canary', 'cool grey', 'dark taupe', 'darkish purple', 'true green', 'coral pink', 'dark sage', 'dark slate blue', 'flat blue', 'mushroom', 'rich blue', 'dirty purple', 'greenblue', 'icky green', 'light khaki', 'warm blue', 'dark hot pink', 'deep sea blue', 'carmine', 'dark yellow green', 'pale peach', 'plum purple', 'golden rod', 'neon red', 'old pink', 'very pale blue', 'blood orange', 'grapefruit', 'sand yellow', 'clay brown', 'dark blue grey', 'flat green', 'light green blue', 'warm pink', 'dodger blue', 'gross green', 'ice', 'metallic blue', 'pale salmon', 'sap green', 'algae', 'bluey grey', 'greeny grey', 'highlighter green', 'light light blue', 'light mint', 'raw umber', 'vivid blue', 'deep lavender', 'dull teal', 'light greenish blue', 'mud green', 'pinky', 'red wine', 'shit green', 'tan brown', 'darkblue', 'rosa', 'lipstick', 'pale mauve', 'claret', 'dandelion', 'orangered', 'poop green', 'ruby', 'dark', 'greenish turquoise', 'pastel red', 'piss yellow', 'bright cyan', 'dark coral', 'algae green', 'darkish red', 'reddy brown', 'blush pink', 'camouflage green', 'lawn green', 'putty', 'vibrant blue', 'dark sand', 'purple/blue', 'saffron', 'twilight', 'warm brown', 'bluegrey', 'bubble gum pink', 'duck egg blue', 'greenish cyan', 'petrol', 'royal', 'butter', 'dusty orange', 'off yellow', 'pale olive green', 'orangish', 'leaf', 'light blue grey', 'dried blood', 'lightish purple', 'rusty red', 'lavender blue', 'light grass green', 'light mint green', 'sunflower', 'velvet', 'brick orange', 'lightish red', 'pure blue', 'twilight blue', 'violet red', 'yellowy brown', 'carnation', 'muddy yellow', 'dark seafoam green', 'deep rose', 'dusty red', 'grey/blue', 'lemon lime', 'purple/pink', 'brown yellow', 'purple brown', 'wisteria', 'banana yellow', 'lipstick red', 'water blue', 'brown grey', 'vibrant purple', 'baby green', 'barf green', 'eggshell blue', 'sandy yellow', 'cool green', 'pale', 'blue/grey', 'hot magenta', 'greyblue', 'purpley', 'baby shit green', 'brownish pink', 'dark aquamarine', 'diarrhea', 'light mustard', 'pale sky blue', 'turtle green', 'bright olive', 'dark grey blue', 'greeny brown', 'lemon green', 'light periwinkle', 'seaweed green', 'sunshine yellow', 'ugly purple', 'medium pink', 'puke brown', 'very light pink', 'viridian', 'bile', 'faded yellow', 'very pale green', 'vibrant green', 'bright lime', 'spearmint', 'light aquamarine', 'light sage', 'yellowgreen', 'baby poo', 'dark seafoam', 'deep teal', 'heather', 'rust orange', 'dirty blue', 'fern green', 'bright lilac', 'weird green', 'peacock blue', 'avocado green', 'faded orange', 'grape purple', 'hot green', 'lime yellow', 'mango', 'shamrock', 'bubblegum', 'purplish brown', 'vomit yellow', 'pale cyan', 'key lime', 'tomato red', 'lightgreen', 'merlot', 'night blue', 'purpleish pink', 'apple', 'baby poop green', 'green apple', 'heliotrope', 'yellow/green', 'almost black', 'cool blue', 'leafy green', 'mustard brown', 'dusk', 'dull brown', 'frog green', 'vivid green', 'bright light green', 'fluro green', 'kiwi', 'seaweed', 'navy green', 'ultramarine blue', 'iris', 'pastel orange', 'yellowish orange', 'perrywinkle', 'tealish', 'dark plum', 'pear', 'pinkish orange', 'midnight purple', 'light urple', 'dark mint', 'greenish tan', 'light burgundy', 'turquoise blue', 'ugly pink', 'sandy', 'electric pink', 'muted purple', 'mid green', 'greyish', 'neon yellow', 'banana', 'carnation pink', 'tomato', 'sea', 'muddy brown', 'turquoise green', 'buff', 'fawn', 'muted blue', 'pale rose', 'dark mint green', 'amethyst', 'blue/green', 'chestnut', 'sick green', 'pea', 'rusty orange', 'stone', 'rose red', 'pale aqua', 'deep orange', 'earth', 'mossy green', 'grassy green', 'pale lime green', 'light grey blue', 'pale grey', 'asparagus', 'blueberry', 'purple red', 'pale lime', 'greenish teal', 'caramel', 'deep magenta', 'light peach', 'milk chocolate', 'ocher', 'off green', 'purply pink', 'lightblue', 'dusky blue', 'golden', 'light beige', 'butter yellow', 'dusky purple', 'french blue', 'ugly yellow', 'greeny yellow', 'orangish red', 'shamrock green', 'orangish brown', 'tree green', 'deep violet', 'gunmetal', 'blue/purple', 'cherry', 'sandy brown', 'warm grey', 'dark indigo', 'midnight', 'bluey green', 'grey pink', 'soft purple', 'blood', 'brown red', 'medium grey', 'berry', 'poo', 'purpley pink', 'light salmon', 'snot', 'easter purple', 'light yellow green', 'dark navy blue', 'drab', 'light rose', 'rouge', 'purplish red', 'slime green', 'baby poop', 'irish green', 'pink/purple', 'dark navy', 'greeny blue', 'light plum', 'pinkish grey', 'dirty orange', 'rust red', 'pale lilac', 'orangey red', 'primary blue', 'kermit green', 'brownish purple', 'murky green', 'wheat', 'very dark purple', 'bottle green', 'watermelon', 'deep sky blue', 'fire engine red', 'yellow ochre', 'pumpkin orange', 'pale olive', 'light lilac', 'lightish green', 'carolina blue', 'mulberry', 'shocking pink', 'auburn', 'bright lime green', 'celadon', 'pinkish brown', 'poo brown', 'bright sky blue', 'celery', 'dirt brown', 'strawberry', 'dark lime', 'copper', 'medium brown', 'muted green', \"robin's egg\", 'bright aqua', 'bright lavender', 'ivory', 'very light purple', 'light navy', 'pink red', 'olive brown', 'poop brown', 'mustard green', 'ocean green', 'very dark blue', 'dusty green', 'light navy blue', 'minty green', 'adobe', 'barney', 'jade green', 'bright light blue', 'light lime', 'dark khaki', 'orange yellow', 'ocre', 'maize', 'faded pink', 'british racing green', 'sandstone', 'mud brown', 'light sea green', 'robin egg blue', 'aqua marine', 'dark sea green', 'soft pink', 'orangey brown', 'cherry red', 'burnt yellow', 'brownish grey', 'camel', 'purplish grey', 'marine', 'greyish pink', 'pale turquoise', 'pastel yellow', 'bluey purple', 'canary yellow', 'faded red', 'sepia', 'coffee', 'bright magenta', 'mocha', 'ecru', 'purpleish', 'cranberry', 'darkish green', 'brown orange', 'dusky rose', 'melon', 'sickly green', 'silver', 'purply blue', 'purpleish blue', 'hospital green', 'shit brown', 'mid blue', 'amber', 'easter green', 'soft blue', 'cerulean blue', 'golden brown', 'bright turquoise', 'red pink', 'red purple', 'greyish brown', 'vermillion', 'russet', 'steel grey', 'lighter purple', 'bright violet', 'prussian blue', 'slate green', 'dirty pink', 'dark blue green', 'pine', 'yellowy green', 'dark gold', 'bluish', 'darkish blue', 'dull red', 'pinky red', 'bronze', 'pale teal', 'military green', 'barbie pink', 'bubblegum pink', 'pea soup green', 'dark mustard', 'shit', 'medium purple', 'very dark green', 'dirt', 'dusky pink', 'red violet', 'lemon yellow', 'pistachio', 'dull yellow', 'dark lime green', 'denim blue', 'teal blue', 'lightish blue', 'purpley blue', 'light indigo', 'swamp green', 'brown green', 'dark maroon', 'hot purple', 'dark forest green', 'faded blue', 'drab green', 'light lime green', 'snot green', 'yellowish', 'light blue green', 'bordeaux', 'light mauve', 'ocean', 'marigold', 'muddy green', 'dull orange', 'steel', 'electric purple', 'fluorescent green', 'yellowish brown', 'blush', 'soft green', 'bright orange', 'lemon', 'purple grey', 'acid green', 'pale lavender', 'violet blue', 'light forest green', 'burnt red', 'khaki green', 'cerise', 'faded purple', 'apricot', 'dark olive green', 'grey brown', 'green grey', 'true blue', 'pale violet', 'periwinkle blue', 'light sky blue', 'blurple', 'green brown', 'bluegreen', 'bright teal', 'brownish yellow', 'pea soup', 'forest', 'barney purple', 'ultramarine', 'purplish', 'puke yellow', 'bluish grey', 'dark periwinkle', 'dark lilac', 'reddish', 'light maroon', 'dusty purple', 'terra cotta', 'avocado', 'marine blue', 'teal green', 'slate grey', 'lighter green', 'electric green', 'dusty blue', 'golden yellow', 'bright yellow', 'light lavender', 'umber', 'poop', 'dark peach', 'jungle green', 'eggshell', 'denim', 'yellow brown', 'dull purple', 'chocolate brown', 'wine red', 'neon blue', 'dirty green', 'light tan', 'ice blue', 'cadet blue', 'dark mauve', 'very light blue', 'grey purple', 'pastel pink', 'very light green', 'dark sky blue', 'evergreen', 'dull pink', 'aubergine', 'mahogany', 'reddish orange', 'deep green', 'vomit green', 'purple pink', 'dusty pink', 'faded green', 'camo green', 'pinky purple', 'pink purple', 'brownish red', 'dark rose', 'mud', 'brownish', 'emerald green', 'pale brown', 'dull blue', 'burnt umber', 'medium green', 'clay', 'light aqua', 'light olive green', 'brownish orange', 'dark aqua', 'purplish pink', 'dark salmon', 'greenish grey', 'jade', 'ugly green', 'dark beige', 'emerald', 'pale red', 'light magenta', 'sky', 'light cyan', 'yellow orange', 'reddish purple', 'reddish pink', 'orchid', 'dirty yellow', 'orange red', 'deep red', 'orange brown', 'cobalt blue', 'neon pink', 'rose pink', 'greyish purple', 'raspberry', 'aqua green', 'salmon pink', 'tangerine', 'brownish green', 'red brown', 'greenish brown', 'pumpkin', 'pine green', 'charcoal', 'baby pink', 'cornflower', 'blue violet', 'chocolate', 'greyish green', 'scarlet', 'green yellow', 'dark olive', 'sienna', 'pastel purple', 'terracotta', 'aqua blue', 'sage green', 'blood red', 'deep pink', 'grass', 'moss', 'pastel blue', 'bluish green', 'green blue', 'dark tan', 'greenish blue', 'pale orange', 'vomit', 'forrest green', 'dark lavender', 'dark violet', 'purple blue', 'dark cyan', 'olive drab', 'pinkish', 'cobalt', 'neon purple', 'light turquoise', 'apple green', 'dull green', 'wine', 'powder blue', 'off white', 'electric blue', 'dark turquoise', 'blue purple', 'azure', 'bright red', 'pinkish red', 'cornflower blue', 'light olive', 'grape', 'greyish blue', 'purplish blue', 'yellowish green', 'greenish yellow', 'medium blue', 'dusty rose', 'light violet', 'midnight blue', 'bluish purple', 'red orange', 'dark magenta', 'greenish', 'ocean blue', 'coral', 'cream', 'reddish brown', 'burnt sienna', 'brick', 'sage', 'grey green', 'white', \"robin's egg blue\", 'moss green', 'steel blue', 'eggplant', 'light yellow', 'leaf green', 'light grey', 'puke', 'pinkish purple', 'sea blue', 'pale purple', 'slate blue', 'blue grey', 'hunter green', 'fuchsia', 'crimson', 'pale yellow', 'ochre', 'mustard yellow', 'light red', 'cerulean', 'pale pink', 'deep blue', 'rust', 'light teal', 'slate', 'goldenrod', 'dark yellow', 'dark grey', 'army green', 'grey blue', 'seafoam', 'puce', 'spring green', 'dark orange', 'sand', 'pastel green', 'mint', 'light orange', 'bright pink', 'chartreuse', 'deep purple', 'dark brown', 'taupe', 'pea green', 'puke green', 'kelly green', 'seafoam green', 'blue green', 'khaki', 'burgundy', 'dark teal', 'brick red', 'royal purple', 'plum', 'mint green', 'gold', 'baby blue', 'yellow green', 'bright purple', 'dark red', 'pale blue', 'grass green', 'navy', 'aquamarine', 'burnt orange', 'neon green', 'bright blue', 'rose', 'light pink', 'mustard', 'indigo', 'lime', 'sea green', 'periwinkle', 'dark pink', 'olive green', 'peach', 'pale green', 'light brown', 'hot pink', 'black', 'lilac', 'navy blue', 'royal blue', 'beige', 'salmon', 'olive', 'maroon', 'bright green', 'dark purple', 'mauve', 'forest green', 'aqua', 'cyan', 'tan', 'dark blue', 'lavender', 'turquoise', 'dark green', 'violet', 'light purple', 'lime green', 'grey', 'sky blue', 'yellow', 'magenta', 'light green', 'orange', 'teal', 'light blue', 'red', 'brown', 'pink', 'blue', 'green', 'purple'])"
      ]
     },
     "execution_count": 99,
     "metadata": {},
     "output_type": "execute_result"
    }
   ],
   "source": [
    "colors.keys()"
   ]
  },
  {
   "cell_type": "markdown",
   "metadata": {},
   "source": [
    "### Vector math\n",
    "\n",
    "Before we keep going, we'll need some functions for performing basic vector arithmetic. These functions will work with vectors in spaces of any number of dimensions.\n",
    "\n",
    "The first function returns the Euclidean distance between two points:"
   ]
  },
  {
   "cell_type": "code",
   "execution_count": 100,
   "metadata": {
    "ExecuteTime": {
     "end_time": "2019-11-13T15:57:06.216405Z",
     "start_time": "2019-11-13T15:57:06.198709Z"
    },
    "scrolled": true
   },
   "outputs": [
    {
     "data": {
      "text/plain": [
       "5.0990195135927845"
      ]
     },
     "execution_count": 100,
     "metadata": {},
     "output_type": "execute_result"
    }
   ],
   "source": [
    "import math\n",
    "def distance(coord1, coord2):\n",
    "    return np.linalg.norm(np.array(coord1)-np.array(coord2))\n",
    "distance([10, 1], [5, 2])"
   ]
  },
  {
   "cell_type": "markdown",
   "metadata": {},
   "source": [
    "The `subtractv` function subtracts one vector from another:"
   ]
  },
  {
   "cell_type": "code",
   "execution_count": 101,
   "metadata": {
    "ExecuteTime": {
     "end_time": "2019-11-13T15:57:06.233914Z",
     "start_time": "2019-11-13T15:57:06.221063Z"
    }
   },
   "outputs": [
    {
     "data": {
      "text/plain": [
       "[5, -1]"
      ]
     },
     "execution_count": 101,
     "metadata": {},
     "output_type": "execute_result"
    }
   ],
   "source": [
    "def subtractv(coord1, coord2):\n",
    "    return list(np.array(coord1) - np.array(coord2))\n",
    "subtractv([10, 1], [5, 2])"
   ]
  },
  {
   "cell_type": "markdown",
   "metadata": {},
   "source": [
    "The `addv` vector adds two vectors together:"
   ]
  },
  {
   "cell_type": "code",
   "execution_count": 102,
   "metadata": {
    "ExecuteTime": {
     "end_time": "2019-11-13T15:57:06.252182Z",
     "start_time": "2019-11-13T15:57:06.237916Z"
    }
   },
   "outputs": [
    {
     "data": {
      "text/plain": [
       "[15, 3]"
      ]
     },
     "execution_count": 102,
     "metadata": {},
     "output_type": "execute_result"
    }
   ],
   "source": [
    "def addv(coord1, coord2):\n",
    "    return list(np.array(coord1) + np.array(coord2))\n",
    "addv([10, 1], [5, 2])"
   ]
  },
  {
   "cell_type": "markdown",
   "metadata": {},
   "source": [
    "And the `meanv` function takes a list of vectors and finds their mean or average:"
   ]
  },
  {
   "cell_type": "code",
   "execution_count": 103,
   "metadata": {
    "ExecuteTime": {
     "end_time": "2019-11-13T15:57:06.272946Z",
     "start_time": "2019-11-13T15:57:06.256467Z"
    }
   },
   "outputs": [
    {
     "data": {
      "text/plain": [
       "[2.0, 2.0]"
      ]
     },
     "execution_count": 103,
     "metadata": {},
     "output_type": "execute_result"
    }
   ],
   "source": [
    "def meanv(coords):\n",
    "    return list(np.mean(coords, axis=0))\n",
    "meanv([[0, 1], [2, 2], [4, 3]])"
   ]
  },
  {
   "cell_type": "markdown",
   "metadata": {},
   "source": [
    "Just as a test, the following cell shows that the distance from \"red\" to \"green\" is greater than the distance from \"red\" to \"pink\":"
   ]
  },
  {
   "cell_type": "code",
   "execution_count": 104,
   "metadata": {
    "ExecuteTime": {
     "end_time": "2019-11-13T15:57:06.298662Z",
     "start_time": "2019-11-13T15:57:06.278617Z"
    }
   },
   "outputs": [
    {
     "data": {
      "text/plain": [
       "True"
      ]
     },
     "execution_count": 104,
     "metadata": {},
     "output_type": "execute_result"
    }
   ],
   "source": [
    "distance(colors['red'], colors['green']) > distance(colors['red'], colors['pink'])"
   ]
  },
  {
   "cell_type": "markdown",
   "metadata": {},
   "source": [
    "### Finding the closest item\n",
    "\n",
    "Just as we wanted to find the animal that most closely matched an arbitrary point in cuteness/size space, we'll want to find the closest color name to an arbitrary point in RGB space. The easiest way to find the closest item to an arbitrary vector is simply to find the distance between the target vector and each item in the space, in turn, then sort the list from closest to farthest. The `closest()` function below does just that. By default, it returns a list of the ten closest items to the given vector.\n",
    "\n",
    "> Note: Calculating \"closest neighbors\" like this is fine for the examples in this notebook, but unmanageably slow for vector spaces of any appreciable size. As your vector space grows, you'll want to move to a faster solution, like SciPy's [kdtree](https://docs.scipy.org/doc/scipy-0.14.0/reference/generated/scipy.spatial.KDTree.html) or [Annoy](https://pypi.python.org/pypi/annoy)."
   ]
  },
  {
   "cell_type": "code",
   "execution_count": 105,
   "metadata": {
    "ExecuteTime": {
     "end_time": "2019-11-13T15:57:06.314144Z",
     "start_time": "2019-11-13T15:57:06.304211Z"
    }
   },
   "outputs": [],
   "source": [
    "def closest(space, coord, n=10):\n",
    "    return sorted(space.keys(), key=lambda x: distance(coord, space[x]))[:n]"
   ]
  },
  {
   "cell_type": "markdown",
   "metadata": {},
   "source": [
    "Testing it out, we can find the ten colors closest to \"red\":"
   ]
  },
  {
   "cell_type": "code",
   "execution_count": 106,
   "metadata": {
    "ExecuteTime": {
     "end_time": "2019-11-13T15:57:06.352940Z",
     "start_time": "2019-11-13T15:57:06.317569Z"
    }
   },
   "outputs": [
    {
     "data": {
      "text/plain": [
       "['white',\n",
       " 'pale grey',\n",
       " 'very light pink',\n",
       " 'off white',\n",
       " 'ice blue',\n",
       " 'very pale blue',\n",
       " 'ice',\n",
       " 'very light blue',\n",
       " 'really light blue',\n",
       " 'eggshell']"
      ]
     },
     "execution_count": 106,
     "metadata": {},
     "output_type": "execute_result"
    }
   ],
   "source": [
    "closest(colors, colors['white'])"
   ]
  },
  {
   "cell_type": "markdown",
   "metadata": {},
   "source": [
    "... or the ten colors closest to (150, 60, 150):"
   ]
  },
  {
   "cell_type": "code",
   "execution_count": 107,
   "metadata": {
    "ExecuteTime": {
     "end_time": "2019-11-13T15:57:06.390677Z",
     "start_time": "2019-11-13T15:57:06.356233Z"
    }
   },
   "outputs": [
    {
     "data": {
      "text/plain": [
       "['barbie pink',\n",
       " 'warm pink',\n",
       " 'medium pink',\n",
       " 'rosy pink',\n",
       " 'darkish pink',\n",
       " 'bubble gum pink',\n",
       " 'strong pink',\n",
       " 'electric pink',\n",
       " 'bubblegum',\n",
       " 'hot pink']"
      ]
     },
     "execution_count": 107,
     "metadata": {},
     "output_type": "execute_result"
    }
   ],
   "source": [
    "closest(colors, [255, 60, 150])"
   ]
  },
  {
   "cell_type": "markdown",
   "metadata": {},
   "source": [
    "### Color magic\n",
    "\n",
    "The magical part of representing words as vectors is that the vector operations we defined earlier appear to operate on language the same way they operate on numbers. For example, if we find the word closest to the vector resulting from subtracting \"red\" from \"purple,\" we get a series of \"blue\" colors:"
   ]
  },
  {
   "cell_type": "code",
   "execution_count": 108,
   "metadata": {
    "ExecuteTime": {
     "end_time": "2019-11-13T15:57:06.433762Z",
     "start_time": "2019-11-13T15:57:06.396161Z"
    }
   },
   "outputs": [
    {
     "data": {
      "text/plain": [
       "['true green',\n",
       " 'racing green',\n",
       " 'bottle green',\n",
       " 'deep green',\n",
       " 'darkgreen',\n",
       " 'forest',\n",
       " 'emerald green',\n",
       " 'dark green',\n",
       " 'vibrant green',\n",
       " 'british racing green']"
      ]
     },
     "execution_count": 108,
     "metadata": {},
     "output_type": "execute_result"
    }
   ],
   "source": [
    "closest(colors, subtractv(colors['green'], colors['purple']))"
   ]
  },
  {
   "cell_type": "markdown",
   "metadata": {},
   "source": [
    "This matches our intuition about RGB colors, which is that purple is a combination of red and blue. Take away the red, and blue is all you have left.\n",
    "\n",
    "You can do something similar with addition. What's blue plus green?"
   ]
  },
  {
   "cell_type": "code",
   "execution_count": 109,
   "metadata": {
    "ExecuteTime": {
     "end_time": "2019-11-13T15:57:06.487360Z",
     "start_time": "2019-11-13T15:57:06.436021Z"
    }
   },
   "outputs": [
    {
     "data": {
      "text/plain": [
       "['bright turquoise',\n",
       " 'bright light blue',\n",
       " 'bright aqua',\n",
       " 'cyan',\n",
       " 'neon blue',\n",
       " 'aqua blue',\n",
       " 'bright cyan',\n",
       " 'bright sky blue',\n",
       " 'aqua',\n",
       " 'bright teal']"
      ]
     },
     "execution_count": 109,
     "metadata": {},
     "output_type": "execute_result"
    }
   ],
   "source": [
    "closest(colors, addv(colors['blue'], colors['green']))"
   ]
  },
  {
   "cell_type": "markdown",
   "metadata": {},
   "source": [
    "That's right, it's something like turquoise or cyan! What if we find the average of black and white? Predictably, we get gray:"
   ]
  },
  {
   "cell_type": "code",
   "execution_count": 110,
   "metadata": {
    "ExecuteTime": {
     "end_time": "2019-11-13T15:57:06.535844Z",
     "start_time": "2019-11-13T15:57:06.495682Z"
    }
   },
   "outputs": [
    {
     "data": {
      "text/plain": [
       "['medium grey',\n",
       " 'purple grey',\n",
       " 'steel grey',\n",
       " 'battleship grey',\n",
       " 'grey purple',\n",
       " 'purplish grey',\n",
       " 'greyish purple',\n",
       " 'steel',\n",
       " 'warm grey',\n",
       " 'green grey']"
      ]
     },
     "execution_count": 110,
     "metadata": {},
     "output_type": "execute_result"
    }
   ],
   "source": [
    "# the average of black and white: medium grey\n",
    "closest(colors, meanv([colors['black'], colors['white']]))"
   ]
  },
  {
   "cell_type": "markdown",
   "metadata": {},
   "source": [
    "Just as with the tarantula/hamster example from the previous section, we can use color vectors to reason about relationships between colors. In the cell below, finding the difference between \"pink\" and \"red\" then adding it to \"blue\" seems to give us a list of colors that are to blue what pink is to red (i.e., a slightly lighter, less saturated shade):"
   ]
  },
  {
   "cell_type": "code",
   "execution_count": 111,
   "metadata": {
    "ExecuteTime": {
     "end_time": "2019-11-13T15:57:06.571032Z",
     "start_time": "2019-11-13T15:57:06.539842Z"
    }
   },
   "outputs": [
    {
     "data": {
      "text/plain": [
       "['azure',\n",
       " 'turquoise blue',\n",
       " 'bright sky blue',\n",
       " 'aqua blue',\n",
       " 'neon blue',\n",
       " 'water blue',\n",
       " 'topaz',\n",
       " 'cerulean',\n",
       " 'aqua',\n",
       " 'dark sky blue']"
      ]
     },
     "execution_count": 111,
     "metadata": {},
     "output_type": "execute_result"
    }
   ],
   "source": [
    "# an analogy: pink is to red as X is to blue\n",
    "pink_to_red = subtractv(colors['orange'], colors['red'])\n",
    "closest(colors, addv(pink_to_red, colors['blue']))"
   ]
  },
  {
   "cell_type": "markdown",
   "metadata": {},
   "source": [
    "Another example of color analogies: Navy is to blue as true green/dark grass green is to green:"
   ]
  },
  {
   "cell_type": "code",
   "execution_count": 112,
   "metadata": {
    "ExecuteTime": {
     "end_time": "2019-11-13T15:57:06.611071Z",
     "start_time": "2019-11-13T15:57:06.574486Z"
    }
   },
   "outputs": [
    {
     "data": {
      "text/plain": [
       "['true green',\n",
       " 'dark grass green',\n",
       " 'grassy green',\n",
       " 'racing green',\n",
       " 'forest',\n",
       " 'bottle green',\n",
       " 'dark olive green',\n",
       " 'darkgreen',\n",
       " 'forrest green',\n",
       " 'grass green']"
      ]
     },
     "execution_count": 112,
     "metadata": {},
     "output_type": "execute_result"
    }
   ],
   "source": [
    "# another example: \n",
    "navy_to_blue = subtractv(colors['navy'], colors['blue'])\n",
    "closest(colors, addv(navy_to_blue, colors['green']))"
   ]
  },
  {
   "cell_type": "markdown",
   "metadata": {},
   "source": [
    "The examples above are fairly simple from a mathematical perspective but nevertheless *feel* magical: they're demonstrating that it's possible to use math to reason about how people use language."
   ]
  },
  {
   "cell_type": "markdown",
   "metadata": {},
   "source": [
    "### Interlude: A Love Poem That Loses Its Way"
   ]
  },
  {
   "cell_type": "code",
   "execution_count": 113,
   "metadata": {
    "ExecuteTime": {
     "end_time": "2019-11-13T15:57:07.169355Z",
     "start_time": "2019-11-13T15:57:06.614703Z"
    }
   },
   "outputs": [
    {
     "name": "stdout",
     "output_type": "stream",
     "text": [
      "Roses are red, violets are blue\n",
      "Roses are orangish red, violets are rich blue\n",
      "Roses are tomato red, violets are ultramarine blue\n",
      "Roses are reddish orange, violets are royal blue\n",
      "Roses are red orange, violets are indigo blue\n",
      "Roses are orange red, violets are blue with a hint of purple\n",
      "Roses are blood orange, violets are purple/blue\n",
      "Roses are vermillion, violets are burple\n",
      "Roses are red orange, violets are purple/blue\n",
      "Roses are orangey red, violets are blurple\n",
      "Roses are orangered, violets are iris\n",
      "Roses are orange red, violets are bluey purple\n",
      "Roses are red orange, violets are dark periwinkle\n",
      "Roses are orangered, violets are iris\n"
     ]
    }
   ],
   "source": [
    "import random\n",
    "red = colors['red']\n",
    "blue = colors['blue']\n",
    "for i in range(14):\n",
    "    rednames = closest(colors, red)\n",
    "    bluenames = closest(colors, blue)\n",
    "    print(f\"Roses are {rednames[0]}, violets are {bluenames[0]}\")\n",
    "    red = colors[random.choice(rednames[1:])]\n",
    "    blue = colors[random.choice(bluenames[1:])]"
   ]
  },
  {
   "cell_type": "markdown",
   "metadata": {},
   "source": [
    "### Doing bad digital humanities with color vectors\n",
    "\n",
    "With the tools above in hand, we can start using our vectorized knowledge of language toward academic ends. In the following example, I'm going to calculate the average color of Bram Stoker's *Dracula*.\n",
    "\n",
    "First, we'll load [spaCy](https://spacy.io/):"
   ]
  },
  {
   "cell_type": "code",
   "execution_count": 114,
   "metadata": {
    "ExecuteTime": {
     "end_time": "2019-11-13T15:57:09.313308Z",
     "start_time": "2019-11-13T15:57:07.172390Z"
    }
   },
   "outputs": [],
   "source": [
    "import spacy\n",
    "nlp = spacy.load('en_core_web_sm')"
   ]
  },
  {
   "cell_type": "markdown",
   "metadata": {},
   "source": [
    "To calculate the average color, we'll follow these steps:\n",
    "\n",
    "1. Parse the text into words\n",
    "2. Check every word to see if it names a color in our vector space. If it does, add it to a list of vectors.\n",
    "3. Find the average of that list of vectors.\n",
    "4. Find the color(s) closest to that average vector.\n",
    "\n",
    "The following cell performs steps 1-3:"
   ]
  },
  {
   "cell_type": "code",
   "execution_count": 115,
   "metadata": {
    "ExecuteTime": {
     "end_time": "2019-11-13T15:58:18.171384Z",
     "start_time": "2019-11-13T15:57:09.316860Z"
    }
   },
   "outputs": [
    {
     "name": "stdout",
     "output_type": "stream",
     "text": [
      "[147.44839067702551, 113.65371809100999, 100.13540510543841]\n"
     ]
    }
   ],
   "source": [
    "resp = requests.get('http://www.gutenberg.org/cache/epub/345/pg345.txt')\n",
    "dracula = nlp(resp.text)\n",
    "# use word.lower_ to normalize case\n",
    "drac_colors = [colors[word.lower_] for word in dracula if word.lower_ in colors]\n",
    "avg_color = meanv(drac_colors)\n",
    "print(avg_color)"
   ]
  },
  {
   "cell_type": "markdown",
   "metadata": {},
   "source": [
    "Now, we'll pass the averaged color vector to the `closest()` function, yielding... well, it's just a brown mush, which is kinda what you'd expect from adding a bunch of colors together willy-nilly."
   ]
  },
  {
   "cell_type": "code",
   "execution_count": 116,
   "metadata": {
    "ExecuteTime": {
     "end_time": "2019-11-13T15:58:18.224812Z",
     "start_time": "2019-11-13T15:58:18.175593Z"
    }
   },
   "outputs": [
    {
     "data": {
      "text/plain": [
       "['reddish grey',\n",
       " 'brownish grey',\n",
       " 'brownish',\n",
       " 'brown grey',\n",
       " 'mocha',\n",
       " 'grey brown',\n",
       " 'puce',\n",
       " 'dull brown',\n",
       " 'pinkish brown',\n",
       " 'dark taupe']"
      ]
     },
     "execution_count": 116,
     "metadata": {},
     "output_type": "execute_result"
    }
   ],
   "source": [
    "closest(colors, avg_color)"
   ]
  },
  {
   "cell_type": "markdown",
   "metadata": {},
   "source": [
    "On the other hand, here's what we get when we average the colors of Charlotte Perkins Gilman's classic *The Yellow Wallpaper*. The result definitely reflects the content of the story, so maybe we're on to something here."
   ]
  },
  {
   "cell_type": "code",
   "execution_count": 117,
   "metadata": {
    "ExecuteTime": {
     "end_time": "2019-11-13T15:58:23.017952Z",
     "start_time": "2019-11-13T15:58:18.226185Z"
    }
   },
   "outputs": [
    {
     "data": {
      "text/plain": [
       "['sickly yellow',\n",
       " 'piss yellow',\n",
       " 'puke yellow',\n",
       " 'vomit yellow',\n",
       " 'dirty yellow',\n",
       " 'mustard yellow',\n",
       " 'dark yellow',\n",
       " 'olive yellow',\n",
       " 'macaroni and cheese',\n",
       " 'pea']"
      ]
     },
     "execution_count": 117,
     "metadata": {},
     "output_type": "execute_result"
    }
   ],
   "source": [
    "resp = requests.get('http://www.gutenberg.org/cache/epub/1952/pg1952.txt')\n",
    "yellow = nlp(resp.text)\n",
    "wallpaper_colors = [colors[word.lower_] for word in yellow if word.lower_ in colors]\n",
    "avg_color = meanv(wallpaper_colors)\n",
    "closest(colors, avg_color)"
   ]
  },
  {
   "cell_type": "markdown",
   "metadata": {},
   "source": [
    "Exercise for the reader: Use the vector arithmetic functions to rewrite a text, making it...\n",
    "\n",
    "* more blue (i.e., add `colors['blue']` to each occurrence of a color word); or\n",
    "* more light (i.e., add `colors['white']` to each occurrence of a color word); or\n",
    "* darker (i.e., attenuate each color. You might need to write a vector multiplication function to do this one right.)"
   ]
  },
  {
   "cell_type": "markdown",
   "metadata": {},
   "source": [
    "## Distributional semantics\n",
    "\n",
    "In the previous section, the examples are interesting because of a simple fact: colors that we think of as similar are \"closer\" to each other in RGB vector space. In our color vector space, or in our animal cuteness/size space, you can think of the words identified by vectors close to each other as being *synonyms*, in a sense: they sort of \"mean\" the same thing. They're also, for many purposes, *functionally identical*. Think of this in terms of writing, say, a search engine. If someone searches for \"mauve trousers,\" then it's probably also okay to show them results for, say,"
   ]
  },
  {
   "cell_type": "code",
   "execution_count": 118,
   "metadata": {
    "ExecuteTime": {
     "end_time": "2019-11-13T15:58:23.125643Z",
     "start_time": "2019-11-13T15:58:23.023668Z"
    }
   },
   "outputs": [
    {
     "name": "stdout",
     "output_type": "stream",
     "text": [
      "mauve trousers\n",
      "dusty rose trousers\n",
      "dusky rose trousers\n",
      "brownish pink trousers\n",
      "old pink trousers\n",
      "reddish grey trousers\n",
      "dirty pink trousers\n",
      "old rose trousers\n",
      "light plum trousers\n",
      "ugly pink trousers\n"
     ]
    }
   ],
   "source": [
    "for cname in closest(colors, colors['mauve']):\n",
    "    print(cname, \"trousers\")"
   ]
  },
  {
   "cell_type": "markdown",
   "metadata": {},
   "source": [
    "That's all well and good for color words, which intuitively seem to exist in a multidimensional continuum of perception, and for our animal space, where we've written out the vectors ahead of time. But what about... arbitrary words? Is it possible to create a vector space for all English words that has this same \"closer in space is closer in meaning\" property?\n",
    "\n",
    "To answer that, we have to back up a bit and ask the question: what does *meaning* mean? No one really knows, but one theory popular among computational linguists, computer scientists and other people who make search engines is the [Distributional Hypothesis](https://en.wikipedia.org/wiki/Distributional_semantics), which states that:\n",
    "\n",
    "    Linguistic items with similar distributions have similar meanings.\n",
    "    \n",
    "What's meant by \"similar distributions\" is *similar contexts*. Take for example the following sentences:\n",
    "\n",
    "    It was really cold yesterday.\n",
    "    It will be really warm today, though.\n",
    "    It'll be really hot tomorrow!\n",
    "    Will it be really cool Tuesday?\n",
    "    \n",
    "According to the Distributional Hypothesis, the words `cold`, `warm`, `hot` and `cool` must be related in some way (i.e., be close in meaning) because they occur in a similar context, i.e., between the word \"really\" and a word indicating a particular day. (Likewise, the words `yesterday`, `today`, `tomorrow` and `Tuesday` must be related, since they occur in the context of a word indicating a temperature.)\n",
    "\n",
    "In other words, according to the Distributional Hypothesis, a word's meaning is just a big list of all the contexts it occurs in. Two words are closer in meaning if they share contexts."
   ]
  },
  {
   "cell_type": "markdown",
   "metadata": {},
   "source": [
    "## Word vectors by counting contexts\n",
    "\n",
    "So how do we turn this insight from the Distributional Hypothesis into a system for creating general-purpose vectors that capture the meaning of words? Maybe you can see where I'm going with this. What if we made a *really big* spreadsheet that had one column for every context for every word in a given source text. Let's use a small source text to begin with, such as this excerpt from Dickens:\n",
    "\n",
    "    It was the best of times, it was the worst of times.\n",
    "\n",
    "Such a spreadsheet might look something like this:\n",
    "\n",
    "![dickens contexts](http://static.decontextualize.com/snaps/best-of-times.png)\n",
    "\n",
    "The spreadsheet has one column for every possible context, and one row for every word. The values in each cell correspond with how many times the word occurs in the given context. The numbers in the columns constitute that word's vector, i.e., the vector for the word `of` is\n",
    "\n",
    "    [0, 0, 0, 0, 1, 0, 0, 0, 1, 0]\n",
    "    \n",
    "Because there are ten possible contexts, this is a ten dimensional space! It might be strange to think of it, but you can do vector arithmetic on vectors with ten dimensions just as easily as you can on vectors with two or three dimensions, and you could use the same distance formula that we defined earlier to get useful information about which vectors in this space are similar to each other. In particular, the vectors for `best` and `worst` are actually the same (a distance of zero), since they occur only in the same context (`the ___ of`):\n",
    "\n",
    "    [0, 0, 0, 1, 0, 0, 0, 0, 0, 0]\n",
    "    \n",
    "Of course, the conventional way of thinking about \"best\" and \"worst\" is that they're *antonyms*, not *synonyms*. But they're also clearly two words of the same kind, with related meanings (through opposition), a fact that is captured by this distributional model.\n",
    "\n",
    "### Contexts and dimensionality\n",
    "\n",
    "Of course, in a corpus of any reasonable size, there will be many thousands if not many millions of possible contexts. It's difficult enough working with a vector space of ten dimensions, let alone a vector space of a million dimensions! It turns out, though, that many of the dimensions end up being superfluous and can either be eliminated or combined with other dimensions without significantly affecting the predictive power of the resulting vectors. The process of getting rid of superfluous dimensions in a vector space is called [dimensionality reduction](https://en.wikipedia.org/wiki/Dimensionality_reduction), and most implementations of count-based word vectors make use of dimensionality reduction so that the resulting vector space has a reasonable number of dimensions (say, 100—300, depending on the corpus and application).\n",
    "\n",
    "The question of how to identify a \"context\" is itself very difficult to answer. In the toy example above, we've said that a \"context\" is just the word that precedes and the word that follows. Depending on your implementation of this procedure, though, you might want a context with a bigger \"window\" (e.g., two words before and after), or a non-contiguous window (skip a word before and after the given word). You might exclude certain \"function\" words like \"the\" and \"of\" when determining a word's context, or you might [lemmatize](https://en.wikipedia.org/wiki/Lemmatisation) the words before you begin your analysis, so two occurrences with different \"forms\" of the same word count as the same context. These are all questions open to research and debate, and different implementations of procedures for creating count-based word vectors make different decisions on this issue.\n",
    "\n",
    "### GloVe vectors\n",
    "\n",
    "But you don't have to create your own word vectors from scratch! Many researchers have made downloadable databases of pre-trained vectors. One such project is Stanford's [Global Vectors for Word Representation (GloVe)](https://nlp.stanford.edu/projects/glove/). These 300-dimensional vectors are included with spaCy, and they're the vectors we'll be using for the rest of this tutorial."
   ]
  },
  {
   "cell_type": "markdown",
   "metadata": {},
   "source": [
    "## Word vectors in spaCy\n",
    "\n",
    "Okay, let's have some fun with real word vectors. We're going to use the GloVe vectors that come with spaCy to creatively analyze and manipulate the text of Bram Stoker's *Dracula*. First, make sure you've got `spacy` imported:"
   ]
  },
  {
   "cell_type": "code",
   "execution_count": 119,
   "metadata": {
    "ExecuteTime": {
     "end_time": "2019-11-13T15:58:23.141968Z",
     "start_time": "2019-11-13T15:58:23.128630Z"
    }
   },
   "outputs": [
    {
     "data": {
      "text/plain": [
       "hour"
      ]
     },
     "execution_count": 119,
     "metadata": {},
     "output_type": "execute_result"
    }
   ],
   "source": [
    "dracula[560]"
   ]
  },
  {
   "cell_type": "code",
   "execution_count": 120,
   "metadata": {
    "ExecuteTime": {
     "end_time": "2019-11-13T15:58:23.159914Z",
     "start_time": "2019-11-13T15:58:23.146017Z"
    }
   },
   "outputs": [
    {
     "data": {
      "text/plain": [
       "array([ 0.5709872 , -0.6691947 , -1.1217625 , -5.528201  ,  1.3921497 ,\n",
       "        4.9203725 , -0.56104887,  1.6897587 , -0.08120264, -2.637401  ,\n",
       "        1.4427888 ,  0.6387766 ,  1.5736012 , -1.7319528 , -0.15907216,\n",
       "       -1.4701918 ,  0.2048592 , -3.7989602 , -1.7334095 , -1.3146017 ,\n",
       "        2.1964169 , -1.0994648 ,  2.5789955 ,  1.7571774 ,  1.4141188 ,\n",
       "       -0.09545761, -4.4905334 ,  6.025118  ,  1.2233729 ,  1.8006239 ,\n",
       "       -1.5193732 , -1.9043732 ,  2.0958662 , -2.0175858 ,  0.62754625,\n",
       "        0.2538525 , -1.1772894 ,  1.5775251 , -2.2222161 , -0.31077972,\n",
       "        1.750873  ,  6.203821  , -0.32794297, -0.47397357,  0.6908189 ,\n",
       "       -0.89367414,  1.5397241 , -2.1254988 ,  2.165449  , -0.6182877 ,\n",
       "       -0.87687325, -2.6341186 , -4.1461005 , -1.5638533 , -3.503604  ,\n",
       "        0.9974545 , -2.0495496 ,  3.884788  ,  3.3099852 , -1.9785341 ,\n",
       "        2.658121  , -0.27347875,  1.8895068 , -0.6714524 ,  0.9160788 ,\n",
       "        1.1273175 ,  1.059118  , -0.92695475,  1.8675635 ,  0.4010948 ,\n",
       "        0.5527148 , -0.38601214, -2.522396  ,  0.4802179 ,  1.8367046 ,\n",
       "       -2.0952811 ,  2.4308786 ,  1.0692087 ,  0.11714417, -2.9478514 ,\n",
       "        4.5148945 ,  2.4730816 , -1.9645671 , -2.755486  ,  0.7970042 ,\n",
       "       -3.6278307 , -0.188652  ,  3.1590905 , -1.8368919 ,  1.1193297 ,\n",
       "        1.0878386 , -0.49707764,  1.2557764 , -1.1244017 , -0.18818206,\n",
       "       -3.768433  ], dtype=float32)"
      ]
     },
     "execution_count": 120,
     "metadata": {},
     "output_type": "execute_result"
    }
   ],
   "source": [
    "_.vector"
   ]
  },
  {
   "cell_type": "code",
   "execution_count": 121,
   "metadata": {
    "ExecuteTime": {
     "end_time": "2019-11-13T15:58:23.568185Z",
     "start_time": "2019-11-13T15:58:23.164811Z"
    }
   },
   "outputs": [
    {
     "ename": "ModuleNotFoundError",
     "evalue": "No module named 'en_core_web_lg'",
     "output_type": "error",
     "traceback": [
      "\u001b[1;31m---------------------------------------------------------------------------\u001b[0m",
      "\u001b[1;31mModuleNotFoundError\u001b[0m                       Traceback (most recent call last)",
      "\u001b[1;32m<ipython-input-121-21ae3e9084c8>\u001b[0m in \u001b[0;36m<module>\u001b[1;34m\u001b[0m\n\u001b[0;32m      1\u001b[0m \u001b[1;31m# previously we've used the _sm model, which doesn't include all vectors.\u001b[0m\u001b[1;33m\u001b[0m\u001b[1;33m\u001b[0m\u001b[1;33m\u001b[0m\u001b[0m\n\u001b[0;32m      2\u001b[0m \u001b[1;31m# !pip3 install https://github.com/explosion/spacy-models/releases/download/en_core_web_lg-2.2.0/en_core_web_lg-2.2.0.tar.gz\u001b[0m\u001b[1;33m\u001b[0m\u001b[1;33m\u001b[0m\u001b[1;33m\u001b[0m\u001b[0m\n\u001b[1;32m----> 3\u001b[1;33m \u001b[1;32mimport\u001b[0m \u001b[0men_core_web_lg\u001b[0m\u001b[1;33m\u001b[0m\u001b[1;33m\u001b[0m\u001b[0m\n\u001b[0m\u001b[0;32m      4\u001b[0m \u001b[0mnlp\u001b[0m \u001b[1;33m=\u001b[0m \u001b[0men_core_web_lg\u001b[0m\u001b[1;33m.\u001b[0m\u001b[0mload\u001b[0m\u001b[1;33m(\u001b[0m\u001b[1;33m)\u001b[0m\u001b[1;33m\u001b[0m\u001b[1;33m\u001b[0m\u001b[0m\n",
      "\u001b[1;31mModuleNotFoundError\u001b[0m: No module named 'en_core_web_lg'"
     ]
    }
   ],
   "source": [
    "# previously we've used the _sm model, which doesn't include all vectors.\n",
    "# !pip3 install https://github.com/explosion/spacy-models/releases/download/en_core_web_lg-2.2.0/en_core_web_lg-2.2.0.tar.gz\n",
    "import en_core_web_lg\n",
    "nlp = en_core_web_lg.load()"
   ]
  },
  {
   "cell_type": "code",
   "execution_count": null,
   "metadata": {
    "ExecuteTime": {
     "end_time": "2019-11-13T15:58:23.573337Z",
     "start_time": "2019-11-13T15:53:58.205Z"
    }
   },
   "outputs": [],
   "source": [
    "resp = requests.get('http://www.gutenberg.org/cache/epub/345/pg345.txt')\n",
    "dracula = nlp(resp.text)\n"
   ]
  },
  {
   "cell_type": "markdown",
   "metadata": {},
   "source": [
    "And the cell below creates a list of unique words (or tokens) in the text, as a list of strings."
   ]
  },
  {
   "cell_type": "code",
   "execution_count": null,
   "metadata": {
    "ExecuteTime": {
     "end_time": "2019-11-13T15:58:23.579966Z",
     "start_time": "2019-11-13T15:53:58.231Z"
    }
   },
   "outputs": [],
   "source": [
    "# all of the words in the text file\n",
    "tokens = list(set([w.text for w in dracula if w.is_alpha]))"
   ]
  },
  {
   "cell_type": "markdown",
   "metadata": {},
   "source": [
    "You can see the vector of any word in spaCy's vocabulary using the `vocab` attribute, like so:"
   ]
  },
  {
   "cell_type": "code",
   "execution_count": null,
   "metadata": {
    "ExecuteTime": {
     "end_time": "2019-11-13T15:58:23.584571Z",
     "start_time": "2019-11-13T15:53:58.253Z"
    },
    "scrolled": true
   },
   "outputs": [],
   "source": [
    "nlp.vocab['alligator'].vector"
   ]
  },
  {
   "cell_type": "markdown",
   "metadata": {},
   "source": [
    "For the sake of convenience, the following function gets the vector of a given string from spaCy's vocabulary:"
   ]
  },
  {
   "cell_type": "code",
   "execution_count": null,
   "metadata": {
    "ExecuteTime": {
     "end_time": "2019-11-13T15:58:23.587810Z",
     "start_time": "2019-11-13T15:53:58.263Z"
    }
   },
   "outputs": [],
   "source": [
    "def vec(s):\n",
    "    return nlp.vocab[s].vector"
   ]
  },
  {
   "cell_type": "markdown",
   "metadata": {},
   "source": [
    "### Cosine similarity and finding closest neighbors\n",
    "\n",
    "The cell below defines a function `cosine()`, which returns the [cosine similarity](https://en.wikipedia.org/wiki/Cosine_similarity) of two vectors. Cosine similarity is another way of determining how similar two vectors are, which is more suited to high-dimensional spaces. [See the Encyclopedia of Distances for more information and even more ways of determining vector similarity.](http://www.uco.es/users/ma1fegan/Comunes/asignaturas/vision/Encyclopedia-of-distances-2009.pdf)"
   ]
  },
  {
   "cell_type": "code",
   "execution_count": null,
   "metadata": {
    "ExecuteTime": {
     "end_time": "2019-11-13T15:58:23.591039Z",
     "start_time": "2019-11-13T15:53:58.275Z"
    }
   },
   "outputs": [],
   "source": [
    "from sklearn.metrics.pairwise import cosine_similarity"
   ]
  },
  {
   "cell_type": "markdown",
   "metadata": {},
   "source": [
    "The following cell shows that the cosine similarity between `dog` and `puppy` is larger than the similarity between `trousers` and `octopus`, thereby demonstrating that the vectors are working how we expect them to:"
   ]
  },
  {
   "cell_type": "code",
   "execution_count": null,
   "metadata": {
    "ExecuteTime": {
     "end_time": "2019-11-13T15:58:23.596431Z",
     "start_time": "2019-11-13T15:53:58.287Z"
    }
   },
   "outputs": [],
   "source": [
    "(cosine_similarity(vec('dog').reshape(1, -1), vec('puppy').reshape(1, -1))[0][0] > \n",
    "    cosine_similarity(vec('trousers').reshape(1, -1), vec('octopus').reshape(1, -1))[0][0])"
   ]
  },
  {
   "cell_type": "markdown",
   "metadata": {},
   "source": [
    "The following cell defines a function that iterates through a list of tokens and returns the token whose vector is most similar to a given vector."
   ]
  },
  {
   "cell_type": "code",
   "execution_count": null,
   "metadata": {
    "ExecuteTime": {
     "end_time": "2019-11-13T15:58:23.600859Z",
     "start_time": "2019-11-13T15:53:58.294Z"
    }
   },
   "outputs": [],
   "source": [
    "def spacy_closest(token_list, vec_to_check, n=10):\n",
    "    return sorted(token_list,\n",
    "                  key=lambda x: cosine_similarity(vec_to_check.reshape(1, -1), vec(x))[0][0],\n",
    "                  reverse=True)[:n]"
   ]
  },
  {
   "cell_type": "markdown",
   "metadata": {},
   "source": [
    "Using this function, we can get a list of synonyms, or words closest in meaning (or distribution, depending on how you look at it), to any arbitrary word in spaCy's vocabulary. In the following example, we're finding the words in *Dracula* closest to \"basketball\":"
   ]
  },
  {
   "cell_type": "code",
   "execution_count": null,
   "metadata": {
    "ExecuteTime": {
     "end_time": "2019-11-13T15:58:23.605057Z",
     "start_time": "2019-11-13T15:53:58.306Z"
    },
    "scrolled": true
   },
   "outputs": [],
   "source": [
    "# what's the closest equivalent of basketball?\n",
    "spacy_closest(tokens, vec(\"basketball\"))"
   ]
  },
  {
   "cell_type": "markdown",
   "metadata": {},
   "source": [
    "### Fun with spaCy, Dracula, and vector arithmetic\n",
    "\n",
    "Now we can start doing vector arithmetic and finding the closest words to the resulting vectors. For example, what word is closest to the halfway point between day and night?"
   ]
  },
  {
   "cell_type": "code",
   "execution_count": null,
   "metadata": {
    "ExecuteTime": {
     "end_time": "2019-11-13T15:58:23.608709Z",
     "start_time": "2019-11-13T15:53:58.313Z"
    }
   },
   "outputs": [],
   "source": [
    "# halfway between day and night\n",
    "spacy_closest(tokens, meanv([vec(\"day\"), vec(\"night\")]))"
   ]
  },
  {
   "cell_type": "markdown",
   "metadata": {},
   "source": [
    "Variations of `night` and `day` are still closest, but after that we get words like `evening` and `morning`, which are indeed halfway between day and night!"
   ]
  },
  {
   "cell_type": "markdown",
   "metadata": {},
   "source": [
    "Here are the closest words in _Dracula_ to \"wine\":"
   ]
  },
  {
   "cell_type": "code",
   "execution_count": null,
   "metadata": {
    "ExecuteTime": {
     "end_time": "2019-11-13T15:58:23.611316Z",
     "start_time": "2019-11-13T15:53:58.326Z"
    }
   },
   "outputs": [],
   "source": [
    "spacy_closest(tokens, vec(\"wine\"))"
   ]
  },
  {
   "cell_type": "markdown",
   "metadata": {},
   "source": [
    "If you subtract \"alcohol\" from \"wine\" and find the closest words to the resulting vector, you're left with simply a lovely dinner:"
   ]
  },
  {
   "cell_type": "code",
   "execution_count": null,
   "metadata": {
    "ExecuteTime": {
     "end_time": "2019-11-13T15:58:23.613989Z",
     "start_time": "2019-11-13T15:53:58.337Z"
    }
   },
   "outputs": [],
   "source": [
    "spacy_closest(tokens, subtractv(vec(\"wine\"), vec(\"alcohol\")))"
   ]
  },
  {
   "cell_type": "markdown",
   "metadata": {},
   "source": [
    "The closest words to \"water\":"
   ]
  },
  {
   "cell_type": "code",
   "execution_count": null,
   "metadata": {
    "ExecuteTime": {
     "end_time": "2019-11-13T15:58:23.618080Z",
     "start_time": "2019-11-13T15:53:58.344Z"
    }
   },
   "outputs": [],
   "source": [
    "spacy_closest(tokens, vec(\"water\"))"
   ]
  },
  {
   "cell_type": "markdown",
   "metadata": {},
   "source": [
    "But if you add \"frozen\" to \"water,\" you get \"ice\":"
   ]
  },
  {
   "cell_type": "code",
   "execution_count": null,
   "metadata": {
    "ExecuteTime": {
     "end_time": "2019-11-13T15:58:23.623053Z",
     "start_time": "2019-11-13T15:53:58.356Z"
    }
   },
   "outputs": [],
   "source": [
    "spacy_closest(tokens, addv(vec(\"water\"), vec(\"frozen\")))"
   ]
  },
  {
   "cell_type": "markdown",
   "metadata": {},
   "source": [
    "You can even do analogies! For example, the words most similar to \"grass\":"
   ]
  },
  {
   "cell_type": "code",
   "execution_count": null,
   "metadata": {
    "ExecuteTime": {
     "end_time": "2019-11-13T15:58:23.627290Z",
     "start_time": "2019-11-13T15:53:58.363Z"
    },
    "scrolled": true
   },
   "outputs": [],
   "source": [
    "spacy_closest(tokens, vec(\"grass\"))"
   ]
  },
  {
   "cell_type": "markdown",
   "metadata": {},
   "source": [
    "If you take the difference of \"blue\" and \"sky\" and add it to grass, you get the analogous word (\"green\"):"
   ]
  },
  {
   "cell_type": "code",
   "execution_count": null,
   "metadata": {
    "ExecuteTime": {
     "end_time": "2019-11-13T15:58:23.630930Z",
     "start_time": "2019-11-13T15:53:58.375Z"
    },
    "scrolled": true
   },
   "outputs": [],
   "source": [
    "# analogy: blue is to sky as X is to grass\n",
    "blue_to_sky = subtractv(vec(\"blue\"), vec(\"sky\"))\n",
    "spacy_closest(tokens, addv(blue_to_sky, vec(\"grass\")))"
   ]
  },
  {
   "cell_type": "markdown",
   "metadata": {},
   "source": [
    "## Sentence similarity"
   ]
  },
  {
   "cell_type": "markdown",
   "metadata": {},
   "source": [
    "To get the vector for a sentence, we simply average its component vectors, like so:"
   ]
  },
  {
   "cell_type": "code",
   "execution_count": null,
   "metadata": {
    "ExecuteTime": {
     "end_time": "2019-11-13T15:58:23.633010Z",
     "start_time": "2019-11-13T15:53:58.389Z"
    }
   },
   "outputs": [],
   "source": [
    "def sentvec(s):\n",
    "    sent = nlp(s)\n",
    "    return meanv([w.vector for w in sent])"
   ]
  },
  {
   "cell_type": "markdown",
   "metadata": {},
   "source": [
    "Let's find the sentence in our text file that is closest in \"meaning\" to an arbitrary input sentence. First, we'll get the list of sentences:"
   ]
  },
  {
   "cell_type": "code",
   "execution_count": null,
   "metadata": {
    "ExecuteTime": {
     "end_time": "2019-11-13T15:58:23.640166Z",
     "start_time": "2019-11-13T15:53:58.405Z"
    }
   },
   "outputs": [],
   "source": [
    "sentences = list(doc.sents)"
   ]
  },
  {
   "cell_type": "markdown",
   "metadata": {},
   "source": [
    "The following function takes a list of sentences from a spaCy parse and compares them to an input sentence, sorting them by cosine similarity."
   ]
  },
  {
   "cell_type": "code",
   "execution_count": null,
   "metadata": {
    "ExecuteTime": {
     "end_time": "2019-11-13T15:58:23.642890Z",
     "start_time": "2019-11-13T15:53:58.414Z"
    }
   },
   "outputs": [],
   "source": [
    "def spacy_closest_sent(space, input_str, n=10):\n",
    "    input_vec = sentvec(input_str)\n",
    "    return sorted(space,\n",
    "                  key=lambda x: cosine_similarity(np.array(sentvec(str(x))).reshape(1, -1), np.array(input_vec).reshape(1, -1))[0][0],\n",
    "                  reverse=True)[:n]"
   ]
  },
  {
   "cell_type": "markdown",
   "metadata": {},
   "source": [
    "Here are the sentences in *Dracula* closest in meaning to \"My favorite food is strawberry ice cream.\" (Extra linebreaks are present because we didn't strip them out when we originally read in the source text.)"
   ]
  },
  {
   "cell_type": "code",
   "execution_count": null,
   "metadata": {
    "ExecuteTime": {
     "end_time": "2019-11-13T15:58:23.647368Z",
     "start_time": "2019-11-13T15:53:58.426Z"
    }
   },
   "outputs": [],
   "source": [
    "for sent in spacy_closest_sent(sentences, \"My favorite food is strawberry ice cream.\"):\n",
    "    print(sent.text)\n",
    "    print(\"---\")"
   ]
  },
  {
   "cell_type": "markdown",
   "metadata": {},
   "source": [
    "## Further resources\n",
    "\n",
    "* [Word2vec](https://en.wikipedia.org/wiki/Word2vec) is another procedure for producing word vectors which uses a predictive approach rather than a context-counting approach. [This paper](http://clic.cimec.unitn.it/marco/publications/acl2014/baroni-etal-countpredict-acl2014.pdf) compares and contrasts the two approaches. (Spoiler: it's kind of a wash.)\n",
    "* If you want to train your own word vectors on a particular corpus, the popular Python library [gensim](https://radimrehurek.com/gensim/) has an implementation of Word2Vec that is relatively easy to use. [There's a good tutorial here.](https://rare-technologies.com/word2vec-tutorial/)\n",
    "* When you're working with vector spaces with high dimensionality and millions of vectors, iterating through your entire space calculating cosine similarities can be a drag. I use [Annoy](https://pypi.python.org/pypi/annoy) to make these calculations faster, and you should consider using it too."
   ]
  }
 ],
 "metadata": {
  "kernelspec": {
   "display_name": "Python 3",
   "language": "python",
   "name": "python3"
  },
  "language_info": {
   "codemirror_mode": {
    "name": "ipython",
    "version": 3
   },
   "file_extension": ".py",
   "mimetype": "text/x-python",
   "name": "python",
   "nbconvert_exporter": "python",
   "pygments_lexer": "ipython3",
   "version": "3.6.9"
  },
  "toc": {
   "base_numbering": 1,
   "nav_menu": {},
   "number_sections": true,
   "sideBar": true,
   "skip_h1_title": false,
   "title_cell": "Table of Contents",
   "title_sidebar": "Contents",
   "toc_cell": false,
   "toc_position": {},
   "toc_section_display": true,
   "toc_window_display": false
  }
 },
 "nbformat": 4,
 "nbformat_minor": 4
}
