{
 "cells": [
  {
   "cell_type": "markdown",
   "metadata": {},
   "source": [
    "#  For loops in lists and dictionaries\n",
    "\n",
    "### Problem 1\n",
    "\n",
    "We are given an array of integers. \n",
    "\n",
    "numbers = [8,5,9,2,4,0]\n",
    "\n",
    "We also have a given target\n",
    "\n",
    "target = 9\n",
    "\n",
    "Please return the index of the target number using a for loop. The target number may repeat several times.\n",
    "\n",
    "\n"
   ]
  },
  {
   "cell_type": "code",
<<<<<<< HEAD
   "execution_count": 2,
   "metadata": {
    "collapsed": true
   },
=======
   "execution_count": null,
   "metadata": {},
>>>>>>> b4099a19601b2857e0ae87d569bd6b7525cc1c0e
   "outputs": [],
   "source": [
    "numbers = [8,5,9,2,4,0]"
   ]
  },
  {
   "cell_type": "code",
<<<<<<< HEAD
   "execution_count": 3,
   "metadata": {
    "collapsed": true
   },
=======
   "execution_count": null,
   "metadata": {},
>>>>>>> b4099a19601b2857e0ae87d569bd6b7525cc1c0e
   "outputs": [],
   "source": [
    "target = 9"
   ]
  },
  {
   "cell_type": "code",
   "execution_count": 4,
   "metadata": {},
   "outputs": [
    {
     "name": "stdout",
     "output_type": "stream",
     "text": [
      "2\n"
     ]
    }
   ],
   "source": [
    "for i, x in enumerate(numbers):\n",
    "    if x == target:\n",
    "        print(i)\n",
    "        break\n",
    "    "
   ]
  },
  {
   "cell_type": "markdown",
   "metadata": {},
   "source": [
    "Expected Output: 2"
   ]
  },
  {
   "cell_type": "markdown",
   "metadata": {},
   "source": [
    "### Problem 2\n",
    "What if we had multiple instances of the same target number in a given list `numbers2`? Could you print out the indexes of all the instances of 9?"
   ]
  },
  {
   "cell_type": "code",
<<<<<<< HEAD
   "execution_count": 5,
   "metadata": {
    "collapsed": true
   },
=======
   "execution_count": null,
   "metadata": {},
>>>>>>> b4099a19601b2857e0ae87d569bd6b7525cc1c0e
   "outputs": [],
   "source": [
    "numbers2 = [3,2,9,5,9,4,0,1,9]"
   ]
  },
  {
   "cell_type": "code",
   "execution_count": 6,
   "metadata": {
    "scrolled": true
   },
   "outputs": [
    {
     "name": "stdout",
     "output_type": "stream",
     "text": [
      "2\n",
      "4\n",
      "8\n"
     ]
    }
   ],
   "source": [
    "for i, x in enumerate(numbers2):\n",
    "    if x == target:\n",
    "        print(i)"
   ]
  },
  {
   "cell_type": "markdown",
   "metadata": {},
   "source": [
    "Expected Output: 2,4,8"
   ]
  },
  {
   "cell_type": "markdown",
   "metadata": {},
   "source": [
    "### Problem 3"
   ]
  },
  {
   "cell_type": "markdown",
   "metadata": {},
   "source": [
    "Now I have a dictionary of key-value pairs that contain colors with a corresponding list of numbers."
   ]
  },
  {
   "cell_type": "code",
<<<<<<< HEAD
   "execution_count": 21,
   "metadata": {
    "collapsed": true
   },
=======
   "execution_count": null,
   "metadata": {},
>>>>>>> b4099a19601b2857e0ae87d569bd6b7525cc1c0e
   "outputs": [],
   "source": [
    "my_dict = {\n",
    "    'blue':[4,8],\n",
    "    'red':[2,1],\n",
    "    'black':[9,4],\n",
    "    'green':[0,3],\n",
    "    'orange':[6,8]\n",
    "}"
   ]
  },
  {
   "cell_type": "code",
<<<<<<< HEAD
   "execution_count": 22,
   "metadata": {
    "scrolled": false
   },
   "outputs": [
    {
     "data": {
      "text/plain": [
       "{'black': [9, 4],\n",
       " 'blue': [4, 8],\n",
       " 'green': [0, 3],\n",
       " 'orange': [6, 8],\n",
       " 'red': [2, 1]}"
      ]
     },
     "execution_count": 22,
     "metadata": {},
     "output_type": "execute_result"
    }
   ],
=======
   "execution_count": null,
   "metadata": {
    "scrolled": false
   },
   "outputs": [],
>>>>>>> b4099a19601b2857e0ae87d569bd6b7525cc1c0e
   "source": [
    "my_dict"
   ]
  },
  {
   "cell_type": "markdown",
   "metadata": {},
   "source": [
    "How could I get rid of the entire key-value pair that contains our target number 9?"
   ]
  },
  {
   "cell_type": "markdown",
   "metadata": {},
   "source": [
    "Expected Output: my_dict = \n",
    "{\n",
    "\n",
    "'blue': [4, 8], \n",
    "\n",
    "'red': [2, 1], \n",
    "\n",
    "'green': [0, 3], \n",
    "\n",
    "'orange': [6, 8]\n",
    "\n",
    "}"
   ]
  },
  {
   "cell_type": "code",
   "execution_count": 29,
   "metadata": {},
   "outputs": [
    {
     "name": "stdout",
     "output_type": "stream",
     "text": [
      "{'blue': [4, 8], 'red': [2, 1], 'green': [0, 3], 'orange': [6, 8]}\n"
     ]
    }
   ],
   "source": [
    "pop_list =[]\n",
    "for k, v in my_dict.items():\n",
    "    for item in v:\n",
    "        if item == 9:\n",
    "            pop_list.append(k)\n",
    "            continue\n",
    "\n",
    "for pop_key in pop_list:\n",
    "    my_dict.pop(pop_key)\n",
    "\n",
    "print(my_dict)        "
   ]
  }
 ],
 "metadata": {
  "kernelspec": {
   "display_name": "Python 3",
   "language": "python",
   "name": "python3"
  },
  "language_info": {
   "codemirror_mode": {
    "name": "ipython",
    "version": 3
   },
   "file_extension": ".py",
   "mimetype": "text/x-python",
   "name": "python",
   "nbconvert_exporter": "python",
   "pygments_lexer": "ipython3",
   "version": "3.6.7"
  }
 },
 "nbformat": 4,
 "nbformat_minor": 2
}
