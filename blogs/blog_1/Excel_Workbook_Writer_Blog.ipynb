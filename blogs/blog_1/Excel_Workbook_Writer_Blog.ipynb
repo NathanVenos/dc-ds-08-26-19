{
 "cells": [
  {
   "cell_type": "markdown",
   "metadata": {},
   "source": [
    "# Importing the Relevant Python Libraries"
   ]
  },
  {
   "cell_type": "code",
   "execution_count": 1,
   "metadata": {},
   "outputs": [],
   "source": [
    "# importing pandas to work with the excel files as dataframes\n",
    "import pandas as pd\n",
    "# importing os to support looping through a directory\n",
    "import os"
   ]
  },
  {
   "cell_type": "markdown",
   "metadata": {},
   "source": [
    "# Generating Multiple Dataframes\n",
    "The code below dowloads publicly available Animal Shelter Data from Austin, TX and converts it into a pandas dataframe. \n",
    "\n",
    "A separate dataframe is then constructed for each Animal Type and saved as an Excel file in a separate file directory. \n",
    "\n",
    "Prior to executing this code, one must create a folder called 'Files_to_combine' within the file directory where this python file is saved so that the .to_excel() function as written has a valid file path to save to."
   ]
  },
  {
   "cell_type": "code",
   "execution_count": 2,
   "metadata": {},
   "outputs": [
    {
     "data": {
      "text/plain": [
       "Dog          60718\n",
       "Cat          40111\n",
       "Other         5603\n",
       "Bird           484\n",
       "Livestock       16\n",
       "Name: Animal Type, dtype: int64"
      ]
     },
     "execution_count": 2,
     "metadata": {},
     "output_type": "execute_result"
    }
   ],
   "source": [
    "# Reading in the Austin Animal Shelter Data\n",
    "animal_outcomes = pd.read_csv('https://data.austintexas.gov/api/views/9t4d-g238/rows.csv?accessType=DOWNLOAD')\n",
    "\n",
    "# Inspecting the different types of animals\n",
    "animal_outcomes['Animal Type'].value_counts()"
   ]
  },
  {
   "cell_type": "code",
   "execution_count": 3,
   "metadata": {},
   "outputs": [],
   "source": [
    "# Creating a separate dataframe of the Animal Shelter Data for each Animal Type\n",
    "Dog_df = animal_outcomes.loc[animal_outcomes['Animal Type'] == 'Dog']\n",
    "Cat_df = animal_outcomes.loc[animal_outcomes['Animal Type'] == 'Cat']\n",
    "Other_df = animal_outcomes.loc[animal_outcomes['Animal Type'] == 'Other']\n",
    "Bird_df = animal_outcomes.loc[animal_outcomes['Animal Type'] == 'Bird']\n",
    "Livestock_df = animal_outcomes.loc[animal_outcomes['Animal Type'] == 'Livestock']"
   ]
  },
  {
   "cell_type": "code",
   "execution_count": 4,
   "metadata": {},
   "outputs": [],
   "source": [
    "# Creating a separate excel file for each dataframe and saving it to a single directory\n",
    "Dog_df.to_excel('Files_to_combine/Austin_Dogs.xlsx', index = False)\n",
    "Cat_df.to_excel('Files_to_combine/Austin_Cats.xlsx', index = False)\n",
    "Other_df.to_excel('Files_to_combine/Austin_Others.xlsx', index = False)\n",
    "Bird_df.to_excel('Files_to_combine/Austin_Birds.xlsx', index = False)\n",
    "Livestock_df.to_excel('Files_to_combine/Austin_Livestock.xlsx', index = False)"
   ]
  },
  {
   "cell_type": "markdown",
   "metadata": {},
   "source": [
    "# Looping Through the File Directory and Creating a Multi-Sheet Excel File\n",
    "The code below loops through a given file directory and reads all of the files into dataframes and then writes them as a separate sheet within a multi-sheet Excel file. As written, the given file path must include only Excel files or the .read_excel() function will generate an error.\n",
    "\n",
    "The code below performs the read and write operation action in a single loop. If you wanted to manipulate the data from the excel files before writing them to the multi-sheet Excel file, you could create separate loops for the read and write process with the desired manipulation occurring in between."
   ]
  },
  {
   "cell_type": "code",
   "execution_count": 5,
   "metadata": {},
   "outputs": [],
   "source": [
    "# creating the writer that the pandas.to_excel() function will write to\n",
    "writer = pd.ExcelWriter('Combined_Austin_Files.xlsx')\n",
    "\n",
    "# Creating a path variable that points to the directory that will be looped through\n",
    "path = 'Files_to_combine'\n",
    "\n",
    "# The for loop that loops through the list of files in the directory at the path\n",
    "for file in os.listdir(path):\n",
    "    \n",
    "    #reading a given excel file as a dataframe\n",
    "    current = pd.read_excel(os.path.join(path, file))\n",
    "    \n",
    "    # writing a given dataframe to a sheet in the output excel workbook\n",
    "    current.to_excel(excel_writer = writer, sheet_name = file.replace('.xlsx', ''), index=False)\n",
    "    \n",
    "# Saving the previously created multi-sheet excel workbook. \n",
    "# The pandas.to_excel() function will automatically save your file if creating a single-sheet excel file with a provided path, \n",
    "# but one must explicitly save it in this situation because you're writing to the writer and not directly to the path.\n",
    "writer.save()"
   ]
  }
 ],
 "metadata": {
  "kernelspec": {
   "display_name": "Python 3",
   "language": "python",
   "name": "python3"
  },
  "language_info": {
   "codemirror_mode": {
    "name": "ipython",
    "version": 3
   },
   "file_extension": ".py",
   "mimetype": "text/x-python",
   "name": "python",
   "nbconvert_exporter": "python",
   "pygments_lexer": "ipython3",
   "version": "3.6.9"
  }
 },
 "nbformat": 4,
 "nbformat_minor": 2
}
