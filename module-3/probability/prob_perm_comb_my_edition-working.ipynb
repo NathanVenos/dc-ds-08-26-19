{
 "cells": [
  {
   "cell_type": "code",
   "execution_count": 28,
   "metadata": {},
   "outputs": [],
   "source": [
    "import numpy as np\n",
    "\n",
    "import pandas as pd\n",
    "\n",
    "import matplotlib.pyplot as plt"
   ]
  },
  {
   "cell_type": "code",
   "execution_count": 44,
   "metadata": {},
   "outputs": [],
   "source": [
    "# a function that returns the number of elements in the events sum of three dice is 11 and sum of three dice is 12\n",
    "\n",
    "import itertools\n",
    "dice1 = [1, 2, 3, 4, 5, 6]\n",
    "dice2 = [1, 2, 3, 4, 5, 6]\n",
    "dice3 = [1, 2, 3, 4, 5, 6]\n",
    "\n",
    "\n",
    "rolling = list(itertools.product(dice1, dice2, dice3))\n",
    "\n",
    "s = {}\n",
    "\n",
    "for i in [11, 12]:\n",
    "    if not i == 0:\n",
    "        l = [a for a in rolling if a[0] + a[1] + a[2] == i]\n",
    "        s[i] = l"
   ]
  },
  {
   "cell_type": "code",
   "execution_count": 21,
   "metadata": {},
   "outputs": [],
   "source": [
    "dice_space = []\n",
    "for i in range(1, 7):\n",
    "    for j in range(1, 7):\n",
    "        for k in range(1, 7):\n",
    "            dice_space.append((i, k, j))"
   ]
  },
  {
   "cell_type": "code",
   "execution_count": 22,
   "metadata": {
    "collapsed": true
   },
   "outputs": [
    {
     "data": {
      "text/plain": [
       "[(1, 1, 1),\n",
       " (1, 2, 1),\n",
       " (1, 3, 1),\n",
       " (1, 4, 1),\n",
       " (1, 5, 1),\n",
       " (1, 6, 1),\n",
       " (1, 1, 2),\n",
       " (1, 2, 2),\n",
       " (1, 3, 2),\n",
       " (1, 4, 2),\n",
       " (1, 5, 2),\n",
       " (1, 6, 2),\n",
       " (1, 1, 3),\n",
       " (1, 2, 3),\n",
       " (1, 3, 3),\n",
       " (1, 4, 3),\n",
       " (1, 5, 3),\n",
       " (1, 6, 3),\n",
       " (1, 1, 4),\n",
       " (1, 2, 4),\n",
       " (1, 3, 4),\n",
       " (1, 4, 4),\n",
       " (1, 5, 4),\n",
       " (1, 6, 4),\n",
       " (1, 1, 5),\n",
       " (1, 2, 5),\n",
       " (1, 3, 5),\n",
       " (1, 4, 5),\n",
       " (1, 5, 5),\n",
       " (1, 6, 5),\n",
       " (1, 1, 6),\n",
       " (1, 2, 6),\n",
       " (1, 3, 6),\n",
       " (1, 4, 6),\n",
       " (1, 5, 6),\n",
       " (1, 6, 6),\n",
       " (2, 1, 1),\n",
       " (2, 2, 1),\n",
       " (2, 3, 1),\n",
       " (2, 4, 1),\n",
       " (2, 5, 1),\n",
       " (2, 6, 1),\n",
       " (2, 1, 2),\n",
       " (2, 2, 2),\n",
       " (2, 3, 2),\n",
       " (2, 4, 2),\n",
       " (2, 5, 2),\n",
       " (2, 6, 2),\n",
       " (2, 1, 3),\n",
       " (2, 2, 3),\n",
       " (2, 3, 3),\n",
       " (2, 4, 3),\n",
       " (2, 5, 3),\n",
       " (2, 6, 3),\n",
       " (2, 1, 4),\n",
       " (2, 2, 4),\n",
       " (2, 3, 4),\n",
       " (2, 4, 4),\n",
       " (2, 5, 4),\n",
       " (2, 6, 4),\n",
       " (2, 1, 5),\n",
       " (2, 2, 5),\n",
       " (2, 3, 5),\n",
       " (2, 4, 5),\n",
       " (2, 5, 5),\n",
       " (2, 6, 5),\n",
       " (2, 1, 6),\n",
       " (2, 2, 6),\n",
       " (2, 3, 6),\n",
       " (2, 4, 6),\n",
       " (2, 5, 6),\n",
       " (2, 6, 6),\n",
       " (3, 1, 1),\n",
       " (3, 2, 1),\n",
       " (3, 3, 1),\n",
       " (3, 4, 1),\n",
       " (3, 5, 1),\n",
       " (3, 6, 1),\n",
       " (3, 1, 2),\n",
       " (3, 2, 2),\n",
       " (3, 3, 2),\n",
       " (3, 4, 2),\n",
       " (3, 5, 2),\n",
       " (3, 6, 2),\n",
       " (3, 1, 3),\n",
       " (3, 2, 3),\n",
       " (3, 3, 3),\n",
       " (3, 4, 3),\n",
       " (3, 5, 3),\n",
       " (3, 6, 3),\n",
       " (3, 1, 4),\n",
       " (3, 2, 4),\n",
       " (3, 3, 4),\n",
       " (3, 4, 4),\n",
       " (3, 5, 4),\n",
       " (3, 6, 4),\n",
       " (3, 1, 5),\n",
       " (3, 2, 5),\n",
       " (3, 3, 5),\n",
       " (3, 4, 5),\n",
       " (3, 5, 5),\n",
       " (3, 6, 5),\n",
       " (3, 1, 6),\n",
       " (3, 2, 6),\n",
       " (3, 3, 6),\n",
       " (3, 4, 6),\n",
       " (3, 5, 6),\n",
       " (3, 6, 6),\n",
       " (4, 1, 1),\n",
       " (4, 2, 1),\n",
       " (4, 3, 1),\n",
       " (4, 4, 1),\n",
       " (4, 5, 1),\n",
       " (4, 6, 1),\n",
       " (4, 1, 2),\n",
       " (4, 2, 2),\n",
       " (4, 3, 2),\n",
       " (4, 4, 2),\n",
       " (4, 5, 2),\n",
       " (4, 6, 2),\n",
       " (4, 1, 3),\n",
       " (4, 2, 3),\n",
       " (4, 3, 3),\n",
       " (4, 4, 3),\n",
       " (4, 5, 3),\n",
       " (4, 6, 3),\n",
       " (4, 1, 4),\n",
       " (4, 2, 4),\n",
       " (4, 3, 4),\n",
       " (4, 4, 4),\n",
       " (4, 5, 4),\n",
       " (4, 6, 4),\n",
       " (4, 1, 5),\n",
       " (4, 2, 5),\n",
       " (4, 3, 5),\n",
       " (4, 4, 5),\n",
       " (4, 5, 5),\n",
       " (4, 6, 5),\n",
       " (4, 1, 6),\n",
       " (4, 2, 6),\n",
       " (4, 3, 6),\n",
       " (4, 4, 6),\n",
       " (4, 5, 6),\n",
       " (4, 6, 6),\n",
       " (5, 1, 1),\n",
       " (5, 2, 1),\n",
       " (5, 3, 1),\n",
       " (5, 4, 1),\n",
       " (5, 5, 1),\n",
       " (5, 6, 1),\n",
       " (5, 1, 2),\n",
       " (5, 2, 2),\n",
       " (5, 3, 2),\n",
       " (5, 4, 2),\n",
       " (5, 5, 2),\n",
       " (5, 6, 2),\n",
       " (5, 1, 3),\n",
       " (5, 2, 3),\n",
       " (5, 3, 3),\n",
       " (5, 4, 3),\n",
       " (5, 5, 3),\n",
       " (5, 6, 3),\n",
       " (5, 1, 4),\n",
       " (5, 2, 4),\n",
       " (5, 3, 4),\n",
       " (5, 4, 4),\n",
       " (5, 5, 4),\n",
       " (5, 6, 4),\n",
       " (5, 1, 5),\n",
       " (5, 2, 5),\n",
       " (5, 3, 5),\n",
       " (5, 4, 5),\n",
       " (5, 5, 5),\n",
       " (5, 6, 5),\n",
       " (5, 1, 6),\n",
       " (5, 2, 6),\n",
       " (5, 3, 6),\n",
       " (5, 4, 6),\n",
       " (5, 5, 6),\n",
       " (5, 6, 6),\n",
       " (6, 1, 1),\n",
       " (6, 2, 1),\n",
       " (6, 3, 1),\n",
       " (6, 4, 1),\n",
       " (6, 5, 1),\n",
       " (6, 6, 1),\n",
       " (6, 1, 2),\n",
       " (6, 2, 2),\n",
       " (6, 3, 2),\n",
       " (6, 4, 2),\n",
       " (6, 5, 2),\n",
       " (6, 6, 2),\n",
       " (6, 1, 3),\n",
       " (6, 2, 3),\n",
       " (6, 3, 3),\n",
       " (6, 4, 3),\n",
       " (6, 5, 3),\n",
       " (6, 6, 3),\n",
       " (6, 1, 4),\n",
       " (6, 2, 4),\n",
       " (6, 3, 4),\n",
       " (6, 4, 4),\n",
       " (6, 5, 4),\n",
       " (6, 6, 4),\n",
       " (6, 1, 5),\n",
       " (6, 2, 5),\n",
       " (6, 3, 5),\n",
       " (6, 4, 5),\n",
       " (6, 5, 5),\n",
       " (6, 6, 5),\n",
       " (6, 1, 6),\n",
       " (6, 2, 6),\n",
       " (6, 3, 6),\n",
       " (6, 4, 6),\n",
       " (6, 5, 6),\n",
       " (6, 6, 6)]"
      ]
     },
     "execution_count": 22,
     "metadata": {},
     "output_type": "execute_result"
    }
   ],
   "source": [
    "dice_space"
   ]
  },
  {
   "cell_type": "code",
   "execution_count": 51,
   "metadata": {},
   "outputs": [],
   "source": [
    "dice_space_sum = [(x[0]+x[1]+x[2]) for x in dice_space]"
   ]
  },
  {
   "cell_type": "code",
   "execution_count": 53,
   "metadata": {},
   "outputs": [
    {
     "data": {
      "text/plain": [
       "array([ 3,  4,  5,  6,  7,  8,  4,  5,  6,  7,  8,  9,  5,  6,  7,  8,  9,\n",
       "       10,  6,  7,  8,  9, 10, 11,  7,  8,  9, 10, 11, 12,  8,  9, 10, 11,\n",
       "       12, 13,  4,  5,  6,  7,  8,  9,  5,  6,  7,  8,  9, 10,  6,  7,  8,\n",
       "        9, 10, 11,  7,  8,  9, 10, 11, 12,  8,  9, 10, 11, 12, 13,  9, 10,\n",
       "       11, 12, 13, 14,  5,  6,  7,  8,  9, 10,  6,  7,  8,  9, 10, 11,  7,\n",
       "        8,  9, 10, 11, 12,  8,  9, 10, 11, 12, 13,  9, 10, 11, 12, 13, 14,\n",
       "       10, 11, 12, 13, 14, 15,  6,  7,  8,  9, 10, 11,  7,  8,  9, 10, 11,\n",
       "       12,  8,  9, 10, 11, 12, 13,  9, 10, 11, 12, 13, 14, 10, 11, 12, 13,\n",
       "       14, 15, 11, 12, 13, 14, 15, 16,  7,  8,  9, 10, 11, 12,  8,  9, 10,\n",
       "       11, 12, 13,  9, 10, 11, 12, 13, 14, 10, 11, 12, 13, 14, 15, 11, 12,\n",
       "       13, 14, 15, 16, 12, 13, 14, 15, 16, 17,  8,  9, 10, 11, 12, 13,  9,\n",
       "       10, 11, 12, 13, 14, 10, 11, 12, 13, 14, 15, 11, 12, 13, 14, 15, 16,\n",
       "       12, 13, 14, 15, 16, 17, 13, 14, 15, 16, 17, 18])"
      ]
     },
     "execution_count": 53,
     "metadata": {},
     "output_type": "execute_result"
    }
   ],
   "source": [
    "dice_space_sum"
   ]
  },
  {
   "cell_type": "code",
   "execution_count": 54,
   "metadata": {},
   "outputs": [
    {
     "data": {
      "text/plain": [
       "216"
      ]
     },
     "execution_count": 54,
     "metadata": {},
     "output_type": "execute_result"
    }
   ],
   "source": [
    "space_size = len(dice_space_sum)\n",
    "space_size"
   ]
  },
  {
   "cell_type": "code",
   "execution_count": 60,
   "metadata": {},
   "outputs": [
    {
     "data": {
      "text/plain": [
       "27"
      ]
     },
     "execution_count": 60,
     "metadata": {},
     "output_type": "execute_result"
    }
   ],
   "source": [
    "eleven_dice_space_sum = [d == 11 for d in dice_space_sum]\n",
    "eleven_sum_size = sum(eleven_dice_space_sum)\n",
    "eleven_sum_size"
   ]
  },
  {
   "cell_type": "code",
   "execution_count": 63,
   "metadata": {},
   "outputs": [
    {
     "data": {
      "text/plain": [
       "25"
      ]
     },
     "execution_count": 63,
     "metadata": {},
     "output_type": "execute_result"
    }
   ],
   "source": [
    "twelve_dice_space_sum = [d == 12 for d in dice_space_sum]\n",
    "twelve_sum_size = sum(twelve_dice_space_sum)\n",
    "twelve_sum_size"
   ]
  },
  {
   "cell_type": "code",
   "execution_count": 57,
   "metadata": {},
   "outputs": [
    {
     "data": {
      "text/plain": [
       "0.125"
      ]
     },
     "execution_count": 57,
     "metadata": {},
     "output_type": "execute_result"
    }
   ],
   "source": [
    "eleven_sum_prob = eleven_sum_size / space_size\n",
    "eleven_sum_prob"
   ]
  },
  {
   "cell_type": "code",
   "execution_count": 58,
   "metadata": {},
   "outputs": [
    {
     "data": {
      "text/plain": [
       "0.11574074074074074"
      ]
     },
     "execution_count": 58,
     "metadata": {},
     "output_type": "execute_result"
    }
   ],
   "source": [
    "twelve_sum_prob = twelve_sum_size / space_size\n",
    "twelve_sum_prob"
   ]
  },
  {
   "cell_type": "code",
   "execution_count": 43,
   "metadata": {},
   "outputs": [
    {
     "data": {
      "text/plain": [
       "25"
      ]
     },
     "execution_count": 43,
     "metadata": {},
     "output_type": "execute_result"
    }
   ],
   "source": [
    "len(s[12])"
   ]
  },
  {
   "cell_type": "code",
   "execution_count": null,
   "metadata": {},
   "outputs": [],
   "source": []
  },
  {
   "cell_type": "code",
   "execution_count": 64,
   "metadata": {},
   "outputs": [],
   "source": [
    "two_dice_space = []\n",
    "for i in range(1, 7):\n",
    "    for j in range(1, 7):\n",
    "        two_dice_space.append((i, j))"
   ]
  },
  {
   "cell_type": "code",
   "execution_count": 67,
   "metadata": {},
   "outputs": [],
   "source": [
    "count_dict = {}\n",
    "for x in range(1,13):\n",
    "    x_count_list = [a for a in two_dice_space if (a[0] + a[1]) == x]\n",
    "    count_dict.update({x: x_count_list})"
   ]
  },
  {
   "cell_type": "code",
   "execution_count": 68,
   "metadata": {},
   "outputs": [
    {
     "data": {
      "text/plain": [
       "{1: [],\n",
       " 2: [(1, 1)],\n",
       " 3: [(1, 2), (2, 1)],\n",
       " 4: [(1, 3), (2, 2), (3, 1)],\n",
       " 5: [(1, 4), (2, 3), (3, 2), (4, 1)],\n",
       " 6: [(1, 5), (2, 4), (3, 3), (4, 2), (5, 1)],\n",
       " 7: [(1, 6), (2, 5), (3, 4), (4, 3), (5, 2), (6, 1)],\n",
       " 8: [(2, 6), (3, 5), (4, 4), (5, 3), (6, 2)],\n",
       " 9: [(3, 6), (4, 5), (5, 4), (6, 3)],\n",
       " 10: [(4, 6), (5, 5), (6, 4)],\n",
       " 11: [(5, 6), (6, 5)],\n",
       " 12: [(6, 6)]}"
      ]
     },
     "execution_count": 68,
     "metadata": {},
     "output_type": "execute_result"
    }
   ],
   "source": [
    "count_dict"
   ]
  },
  {
   "cell_type": "code",
   "execution_count": null,
   "metadata": {},
   "outputs": [],
   "source": []
  },
  {
   "cell_type": "code",
   "execution_count": 47,
   "metadata": {},
   "outputs": [],
   "source": [
    "# in one dice you get a certain number\n",
    "\n",
    "rolling = list(itertools.product(dice1, dice2))\n",
    "for i in range(7):\n",
    "    if not i == 0:\n",
    "        l = [(a[0] == i, a[1] == i) for a in rolling]\n",
    "        s[i] = l"
   ]
  },
  {
   "cell_type": "code",
   "execution_count": 48,
   "metadata": {},
   "outputs": [
    {
     "data": {
      "text/plain": [
       "11"
      ]
     },
     "execution_count": 48,
     "metadata": {},
     "output_type": "execute_result"
    }
   ],
   "source": [
    "np.sum([np.any(a) for a in s[5]])"
   ]
  },
  {
   "cell_type": "code",
   "execution_count": 58,
   "metadata": {},
   "outputs": [
    {
     "data": {
      "text/plain": [
       "120"
      ]
     },
     "execution_count": 58,
     "metadata": {},
     "output_type": "execute_result"
    }
   ],
   "source": [
    "# factorial\n",
    "\n",
    "\n",
    "import math\n",
    "\n",
    "\n",
    "def factorial(n):\n",
    "    prdct = 1\n",
    "    while n > 1:\n",
    "        prdct *= n\n",
    "        n -= 1\n",
    "    return prdct\n",
    "\n",
    "# with built-in function\n",
    "\n",
    "\n",
    "math.factorial(5)"
   ]
  },
  {
   "cell_type": "code",
   "execution_count": 14,
   "metadata": {},
   "outputs": [],
   "source": [
    "## appointment example\n",
    "\n",
    "import itertools\n",
    "\n",
    "l = set(itertools.permutations(['F', 'F', 'F', 'M', 'M', 'M'], ))"
   ]
  },
  {
   "cell_type": "code",
   "execution_count": 15,
   "metadata": {},
   "outputs": [
    {
     "data": {
      "text/plain": [
       "{('F', 'F', 'F', 'M', 'M', 'M'),\n",
       " ('F', 'F', 'M', 'F', 'M', 'M'),\n",
       " ('F', 'F', 'M', 'M', 'F', 'M'),\n",
       " ('F', 'F', 'M', 'M', 'M', 'F'),\n",
       " ('F', 'M', 'F', 'F', 'M', 'M'),\n",
       " ('F', 'M', 'F', 'M', 'F', 'M'),\n",
       " ('F', 'M', 'F', 'M', 'M', 'F'),\n",
       " ('F', 'M', 'M', 'F', 'F', 'M'),\n",
       " ('F', 'M', 'M', 'F', 'M', 'F'),\n",
       " ('F', 'M', 'M', 'M', 'F', 'F'),\n",
       " ('M', 'F', 'F', 'F', 'M', 'M'),\n",
       " ('M', 'F', 'F', 'M', 'F', 'M'),\n",
       " ('M', 'F', 'F', 'M', 'M', 'F'),\n",
       " ('M', 'F', 'M', 'F', 'F', 'M'),\n",
       " ('M', 'F', 'M', 'F', 'M', 'F'),\n",
       " ('M', 'F', 'M', 'M', 'F', 'F'),\n",
       " ('M', 'M', 'F', 'F', 'F', 'M'),\n",
       " ('M', 'M', 'F', 'F', 'M', 'F'),\n",
       " ('M', 'M', 'F', 'M', 'F', 'F'),\n",
       " ('M', 'M', 'M', 'F', 'F', 'F')}"
      ]
     },
     "execution_count": 15,
     "metadata": {},
     "output_type": "execute_result"
    }
   ],
   "source": [
    "l"
   ]
  },
  {
   "cell_type": "code",
   "execution_count": 66,
   "metadata": {},
   "outputs": [],
   "source": [
    "# 10 books = 4M + 3 Chem + 2Hist + 1 Lang\n",
    "\n",
    "# result is 4!* 4! * 3! * 2!"
   ]
  },
  {
   "cell_type": "markdown",
   "metadata": {},
   "source": [
    "## Extra resources\n",
    "\n",
    "[permutations - code](https://www.geeksforgeeks.org/generate-all-the-permutation-of-a-list-in-python/)\n",
    "\n",
    "[Some examples on combination and permutation](https://www.geeksforgeeks.org/combination-permutation-practice-questions/)\n",
    "\n",
    "[itertool documentation](https://docs.python.org/2/library/itertools.html#itertools.combinations)\n",
    "\n",
    "[cs109 probab](https://web.stanford.edu/class/cs109/reader/2%20Probability.pdf)\n",
    "\n",
    "[very good lecture notes on conditional probability](http://faculty.arts.ubc.ca/vmarmer/econ327/327_02_cond_probability.pdf)"
   ]
  },
  {
   "cell_type": "code",
   "execution_count": 70,
   "metadata": {},
   "outputs": [],
   "source": [
    "import math"
   ]
  },
  {
   "cell_type": "code",
   "execution_count": null,
   "metadata": {},
   "outputs": [],
   "source": [
    "5  choose 2 and 7 choose 3 = 350"
   ]
  },
  {
   "cell_type": "code",
   "execution_count": 80,
   "metadata": {},
   "outputs": [
    {
     "data": {
      "text/plain": [
       "350.0"
      ]
     },
     "execution_count": 80,
     "metadata": {},
     "output_type": "execute_result"
    }
   ],
   "source": [
    "(math.factorial(5) / (math.factorial(5-2)*math.factorial(2)))*(math.factorial(7) / (math.factorial(7-3)*math.factorial(3)))"
   ]
  },
  {
   "cell_type": "code",
   "execution_count": 75,
   "metadata": {},
   "outputs": [
    {
     "data": {
      "text/plain": [
       "300.0"
      ]
     },
     "execution_count": 75,
     "metadata": {},
     "output_type": "execute_result"
    }
   ],
   "source": [
    "# 5 choose 2 and 5 choose 3 (case when both aren't in team)\n",
    "# 2* 5 choose 2 and 5 choose 2 (case when one is always in team and other is never in team)\n",
    "\n",
    "\n",
    "(math.factorial(5) / (math.factorial(5-2)*math.factorial(2)))*(math.factorial(5) / (math.factorial(5-3)*math.factorial(3)))\\\n",
    "+(math.factorial(5) / (math.factorial(5-2)*math.factorial(2)))*(math.factorial(5) / (math.factorial(5-2)*math.factorial(2)))\\\n",
    "+(math.factorial(5) / (math.factorial(5-2)*math.factorial(2)))*(math.factorial(5) / (math.factorial(5-2)*math.factorial(2)))"
   ]
  },
  {
   "cell_type": "code",
   "execution_count": 81,
   "metadata": {},
   "outputs": [
    {
     "data": {
      "text/plain": [
       "300.0"
      ]
     },
     "execution_count": 81,
     "metadata": {},
     "output_type": "execute_result"
    }
   ],
   "source": [
    "# simpler is total - 5 choose 2 * 5 choose 1 (# of situations when 2 of 7 men are definitely the bad ones\n",
    "# and therefore can't be in solution and should be subtracted)\n",
    "(math.factorial(5) / (math.factorial(5-2)*math.factorial(2)))*(math.factorial(7) / (math.factorial(7-3)*math.factorial(3)))\\\n",
    "-(math.factorial(5) / (math.factorial(5-2)*math.factorial(2)))*(math.factorial(5) / (math.factorial(5-1)*math.factorial(1)))"
   ]
  }
 ],
 "metadata": {
  "kernelspec": {
   "display_name": "Python 3",
   "language": "python",
   "name": "python3"
  },
  "language_info": {
   "codemirror_mode": {
    "name": "ipython",
    "version": 3
   },
   "file_extension": ".py",
   "mimetype": "text/x-python",
   "name": "python",
   "nbconvert_exporter": "python",
   "pygments_lexer": "ipython3",
   "version": "3.6.9"
  },
  "toc": {
   "base_numbering": 1,
   "nav_menu": {},
   "number_sections": true,
   "sideBar": true,
   "skip_h1_title": false,
   "title_cell": "Table of Contents",
   "title_sidebar": "Contents",
   "toc_cell": false,
   "toc_position": {},
   "toc_section_display": true,
   "toc_window_display": false
  }
 },
 "nbformat": 4,
 "nbformat_minor": 2
}
